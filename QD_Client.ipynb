{
 "cells": [
  {
   "cell_type": "code",
   "execution_count": 2,
   "id": "44c058f9-be85-488d-9594-dd7c1877f80c",
   "metadata": {},
   "outputs": [
    {
     "name": "stdout",
     "output_type": "stream",
     "text": [
      "Raw Response Content: b'Internal Server Error'\n"
     ]
    }
   ],
   "source": [
    "import requests\n",
    "\n",
    "# Define the URL of your FastAPI application\n",
    "url = 'http://localhost:8000/name'\n",
    "\n",
    "# Define the data you want to post (a tuple in this case)\n",
    "prompt = \"hi how are you?\"\n",
    "data = {'dahwin': f'{prompt}'}  # Include the 'name' field in the JSON data\n",
    "\n",
    "# Send a POST request\n",
    "response = requests.post(url, json=data)\n",
    "\n",
    "# Print the raw response content for debugging\n",
    "print(\"Raw Response Content:\", response.content)"
   ]
  },
  {
   "cell_type": "code",
   "execution_count": 3,
   "id": "001159fc-dfd2-49e7-8749-96e5f2c636d9",
   "metadata": {
    "scrolled": true
   },
   "outputs": [
    {
     "name": "stdout",
     "output_type": "stream",
     "text": [
      "\\n<|assistant|>\\nKim Dahyun is a South Korean singer, songwriter, and actress. She is best known for being a member of the popular K-pop girl group TWICE, which debuted in 2015 under JYP Entertainment. Kim Dahyun has also appeared as an actress in various television dramas and movies.\n"
     ]
    }
   ],
   "source": [
    "import re\n",
    "import requests\n",
    "\n",
    "# Define the URL of your FastAPI application\n",
    "url = 'http://127.0.0.1:8000/name'\n",
    "\n",
    "# Define the data you want to post (a tuple in this case)\n",
    "prompt = \"\"\"hey who is kim dahyun?\"\"\"\n",
    "data = {'dahwin': f\"\"\"{prompt}\"\"\"}  # Include the 'name' field in the JSON data\n",
    "\n",
    "# Send a POST request\n",
    "response = requests.post(url, json=data)\n",
    "\n",
    "# Assuming response.content is of type bytes\n",
    "ai_response_bytes = response.content\n",
    "\n",
    "# Decode the bytes to a string\n",
    "ai_response_str = ai_response_bytes.decode('utf-8')  # You may need to adjust the encoding based on your response\n",
    "\n",
    "# Use regex to extract the value associated with \"AI Response\"\n",
    "match = re.search(r'\"AI Response\":\"([^\"]+)\"', ai_response_str)\n",
    "if match:\n",
    "    ai_response = match.group(1)\n",
    "    print(ai_response)\n",
    "else:\n",
    "    print(\"AI Response not found in the string.\")\n",
    "\n"
   ]
  },
  {
   "cell_type": "code",
   "execution_count": 7,
   "id": "dfebacca-d7fc-492f-bf67-bdf0da272984",
   "metadata": {},
   "outputs": [
    {
     "data": {
      "text/plain": [
       "b'{\"AI Response\":\"\\\\n<|assistant|>\\\\nKim Dahyun, also known as D-Lite or D.A.N., is a South Korean singer and actress. She was born on November 30, 1991, in Seoul, South Korea. She is best known for being a member of the popular K-pop girl group TWICE, which debuted in 2015 under JYP Entertainment. Dahyun has also appeared in various television dramas and movies, including \\\\\"The Sound of Your Heart\\\\\" (2016) and \\\\\"Dear My Sisters\\\\\" (2019).\"}'"
      ]
     },
     "execution_count": 7,
     "metadata": {},
     "output_type": "execute_result"
    }
   ],
   "source": [
    " response.content"
   ]
  },
  {
   "cell_type": "code",
   "execution_count": null,
   "id": "25fbfd84-0add-4c9a-b2e3-e1ac95d9b9e1",
   "metadata": {},
   "outputs": [],
   "source": [
    "import requests\n",
    "\n",
    "# Define the URL of your FastAPI application\n",
    "url = 'http://127.0.0.1:8000/name'\n",
    "\n",
    "# Define the data you want to post\n",
    "data = {'name': 'Dahwin'}  # Include the 'name' field in the JSON data\n",
    "\n",
    "# Send a POST request\n",
    "response = requests.post(url, json=data)\n",
    "\n",
    "# Print the response\n",
    "print(response.json())"
   ]
  },
  {
   "cell_type": "code",
   "execution_count": null,
   "id": "a753d6ca-ecce-4609-9078-373bad9ef2f2",
   "metadata": {},
   "outputs": [],
   "source": [
    "import requests\n",
    "\n",
    "# Define the URL of your FastAPI application\n",
    "url = 'http://localhost:8000/llm'\n",
    "\n",
    "# Define the data you want to post\n",
    "data = {'name': 'queendahyun'}  # Include the 'name' field in the JSON data\n",
    "\n",
    "# Send a POST request\n",
    "response = requests.post(url, json=data)\n",
    "\n",
    "# Print the response\n",
    "print(response.json())"
   ]
  },
  {
   "cell_type": "code",
   "execution_count": 3,
   "id": "282ed9cc-6ed3-472c-9506-08f54039fa24",
   "metadata": {},
   "outputs": [
    {
     "name": "stdout",
     "output_type": "stream",
     "text": [
      "\n",
      "\n",
      "I do not have a physical presence or emotions, so i am not capable of being \n",
      "I do not have a physical presence or emotions, so i am not capable of being \n"
     ]
    }
   ],
   "source": [
    "text = \"\\n\\nI do not have a physical presence or emotions, so i am not capable of being \"\n",
    "print(text)\n",
    "# Remove newline characters\n",
    "cleaned_text = text.replace('\\n', '')\n",
    "\n",
    "print(cleaned_text)\n",
    "\n"
   ]
  },
  {
   "cell_type": "code",
   "execution_count": 4,
   "id": "09b6e3e8-e9c6-4289-a9a3-a7759207a0f4",
   "metadata": {},
   "outputs": [
    {
     "data": {
      "text/plain": [
       "'I do not have a physical presence or emotions, so i am not capable of being '"
      ]
     },
     "execution_count": 4,
     "metadata": {},
     "output_type": "execute_result"
    }
   ],
   "source": [
    "ai_response= \"\\n\\nI do not have a physical presence or emotions, so i am not capable of being \"\n",
    "ai_response1 = ai_response.replace('\\n', '').replace('\\r', '')\n",
    "ai_response1"
   ]
  },
  {
   "cell_type": "code",
   "execution_count": null,
   "id": "7358fc0e-d903-4c87-8a54-9254c4c9e91f",
   "metadata": {},
   "outputs": [],
   "source": []
  }
 ],
 "metadata": {
  "kernelspec": {
   "display_name": "Python 3 (ipykernel)",
   "language": "python",
   "name": "python3"
  },
  "language_info": {
   "codemirror_mode": {
    "name": "ipython",
    "version": 3
   },
   "file_extension": ".py",
   "mimetype": "text/x-python",
   "name": "python",
   "nbconvert_exporter": "python",
   "pygments_lexer": "ipython3",
   "version": "3.10.5"
  }
 },
 "nbformat": 4,
 "nbformat_minor": 5
}
