{
 "cells": [
  {
   "cell_type": "code",
   "execution_count": 2,
   "id": "44c058f9-be85-488d-9594-dd7c1877f80c",
   "metadata": {},
   "outputs": [],
   "source": [
    "import requests\n",
    "\n",
    "# Define the URL of your FastAPI application\n",
    "url = 'http://localhost:8000/name'\n",
    "\n",
    "# Define the data you want to post (a tuple in this case)\n",
    "prompt = \"hi how are you?\"\n",
    "data = {'dahwin': f'{prompt}'}  # Include the 'name' field in the JSON data\n",
    "\n",
    "# Send a POST request\n",
    "response = requests.post(url, json=data)\n",
    "\n",
    "# Print the raw response content for debugging\n",
    "# print(\"Raw Response Content:\", response.content)"
   ]
  },
  {
   "cell_type": "code",
   "execution_count": 27,
   "id": "0ea37255-5024-4689-ac38-b61c65c302a8",
   "metadata": {},
   "outputs": [],
   "source": [
    "import asyncio\n",
    "import aiohttp\n",
    "import nest_asyncio\n",
    "nest_asyncio.apply()\n",
    "async def fetch(session, url, data):\n",
    "    async with session.post(url, json=data) as response:\n",
    "        return await response.json()\n",
    "\n",
    "async def main():\n",
    "    url = 'http://localhost:8000/name'\n",
    "    data = {'dahwin': 'hi how are you?'}\n",
    "\n",
    "    async with aiohttp.ClientSession() as session:\n",
    "        tasks = []\n",
    "        for _ in range(1):\n",
    "            tasks.append(fetch(session, url, data))\n",
    "        responses = await asyncio.gather(*tasks)\n",
    "\n",
    "\n",
    "asyncio.run(main())\n"
   ]
  },
  {
   "cell_type": "code",
   "execution_count": 31,
   "id": "cb5e8731-20c4-4a7a-9f6b-84f138565770",
   "metadata": {},
   "outputs": [],
   "source": [
    "import asyncio\n",
    "import aiohttp\n",
    "import nest_asyncio\n",
    "nest_asyncio.apply()\n",
    "async def fetch(session, url, data):\n",
    "    async with session.post(url, json=data) as response:\n",
    "        return await response.json()\n",
    "\n",
    "async def main(text):\n",
    "    url = 'http://localhost:8000/name'\n",
    "    d = []\n",
    "    for t in text:\n",
    "        \n",
    "        data = {'dahwin': t}\n",
    "        d.append(data)\n",
    "\n",
    "    async with aiohttp.ClientSession() as session:\n",
    "        tasks = []\n",
    "        for dd in d:\n",
    "            tasks.append(fetch(session, url, dd))\n",
    "        responses = await asyncio.gather(*tasks)\n",
    "\n",
    "text= [\"i will fuck kim dahyun so hard\",\"i will fuck kim dahyun so hard\"]\n",
    "asyncio.run(main(text))\n"
   ]
  },
  {
   "cell_type": "code",
   "execution_count": 15,
   "id": "5f3d439f-f733-490a-8e7d-517e6e9b4bcf",
   "metadata": {},
   "outputs": [
    {
     "name": "stdout",
     "output_type": "stream",
     "text": [
      "Response status code: 200\n",
      "Response content: None\n"
     ]
    }
   ],
   "source": [
    "import httpx\n",
    "\n",
    "# Define the URL of your FastAPI application\n",
    "url = 'http://localhost:8000/name'\n",
    "url = 'https://name.queendahyun.com/name'\n",
    "# Define the data you want to post (a tuple in this case)\n",
    "prompt = \"I will love kim dahyun I will love kim dahyun I will love kim dahyun I will love kim dahyun I will love kim dahyun I will love kim dahyun I will love kim dahyun I will love kim dahyun I will love kim dahyun I will love kim dahyun I will love kim dahyun I will love kim dahyun I will love kim dahyun I will love kim dahyun I will love kim dahyun I will love kim dahyun I will love kim dahyun I will love kim dahyun I will love kim dahyun I will love kim dahyun I will love kim dahyun I will love kim dahyun I will love kim dahyun I will love kim dahyun I will love kim dahyun I will love kim dahyun I will love kim dahyun I will love kim dahyun I will love kim dahyun I will love kim dahyun\"\n",
    "    \n",
    "data = {'dahwin': f'{prompt}'}  # Include the 'name' field in the JSON data\n",
    "\n",
    "# Send a POST request using httpx\n",
    "async with httpx.AsyncClient() as client:\n",
    "    response = await client.post(url, json=data)\n",
    "\n",
    "# Print the response status code and content\n",
    "print(f\"Response status code: {response.status_code}\")\n",
    "print(f\"Response content: {response.json()}\")"
   ]
  },
  {
   "cell_type": "code",
   "execution_count": 22,
   "id": "df4f26e1-7dd8-4aa0-86fc-2ceaa4ea8194",
   "metadata": {},
   "outputs": [
    {
     "name": "stdout",
     "output_type": "stream",
     "text": [
      "Response status code: 200\n",
      "Response content: None\n",
      "0.7741475105285645\n"
     ]
    }
   ],
   "source": [
    "import time\n",
    "s = time.time()\n",
    "url = 'https://bd95-27-147-206-228.ngrok-free.app/name'\n",
    "url = 'https://name.queendahyun.com/name'\n",
    "# Send a POST request using httpx\n",
    "async with httpx.AsyncClient() as client:\n",
    "    response = await client.post(url, json=data)\n",
    "\n",
    "# Print the response status code and content\n",
    "print(f\"Response status code: {response.status_code}\")\n",
    "print(f\"Response content: {response.json()}\")\n",
    "e = time.time()\n",
    "l = e-s\n",
    "print(l)\n"
   ]
  },
  {
   "cell_type": "code",
   "execution_count": 87,
   "id": "8027466c-9de3-406e-b191-32b8fb4ac06b",
   "metadata": {},
   "outputs": [
    {
     "name": "stdout",
     "output_type": "stream",
     "text": [
      "Response status code: 200\n",
      "Response content: None\n",
      "Time taken: 1.2401058673858643 seconds\n"
     ]
    }
   ],
   "source": [
    "import asyncio\n",
    "import httpx\n",
    "import nest_asyncio\n",
    "import concurrent.futures\n",
    "import time\n",
    "import threading\n",
    "nest_asyncio.apply()\n",
    "\n",
    "async def make_request(url, data):\n",
    "    async with httpx.AsyncClient() as client:\n",
    "        response = await client.post(url, json=data)\n",
    "        return response\n",
    "\n",
    "async def main():\n",
    "    url = 'https://bd95-27-147-206-228.ngrok-free.app/name'\n",
    "    # url = 'https://name.queendahyun.com/name'\n",
    "    prompt = \"I will love kim dahyun I will love kim dahyun I will love kim dahyun I will love kim dahyun I will love kim dahyun I will love kim dahyun I will love kim dahyun I will love kim dahyun I will love kim dahyun I will love kim dahyun I will love kim dahyun I will love kim dahyun I will love kim dahyun I will love kim dahyun I will love kim dahyun I will love kim dahyun I will love kim dahyun I will love kim dahyun I will love kim dahyun I will love kim dahyun I will love kim dahyun I will love kim dahyun I will love kim dahyun I will love kim dahyun I will love kim dahyun I will love kim dahyun I will love kim dahyun I will love kim dahyun I will love kim dahyun I will love kim dahyun\"\n",
    "    \n",
    "    \n",
    "    data = {'dahwin': f'{prompt}'}\n",
    "    tasks = [make_request(url, data) for _ in range(1)]  # Increase concurrency\n",
    "    loop = asyncio.get_event_loop()\n",
    "    responses = await asyncio.gather(*tasks)\n",
    "    for response in responses:\n",
    "        print(f\"Response status code: {response.status_code}\")\n",
    "        print(f\"Response content: {response.json()}\")\n",
    "\n",
    "if __name__ == \"__main__\":\n",
    "\n",
    "    s = time.time()\n",
    "\n",
    "    loop = asyncio.get_event_loop()\n",
    "    with concurrent.futures.ThreadPoolExecutor() as executor:\n",
    "        loop.run_until_complete(main())\n",
    "\n",
    "    e = time.time()\n",
    "    l = e-s\n",
    "    print(f\"Time taken: {l} seconds\")\n"
   ]
  },
  {
   "cell_type": "code",
   "execution_count": 95,
   "id": "09636282-9b7c-44a0-a970-4c5a33586aa9",
   "metadata": {},
   "outputs": [
    {
     "name": "stdout",
     "output_type": "stream",
     "text": [
      "Response status code: 200\n",
      "Response content: None\n",
      "Time taken: 1.0163638591766357 seconds\n"
     ]
    }
   ],
   "source": [
    "if __name__ == \"__main__\":\n",
    "\n",
    "    s = time.time()\n",
    "\n",
    "    loop = asyncio.get_event_loop()\n",
    "    with concurrent.futures.ThreadPoolExecutor() as executor:\n",
    "        loop.run_until_complete(main())\n",
    "\n",
    "    e = time.time()\n",
    "    l = e-s\n",
    "    print(f\"Time taken: {l} seconds\")"
   ]
  },
  {
   "cell_type": "code",
   "execution_count": 58,
   "id": "3dbe2d07-a313-4dd8-8896-ce041d90a0af",
   "metadata": {},
   "outputs": [
    {
     "name": "stdout",
     "output_type": "stream",
     "text": [
      "Response status code: 200\n",
      "Response content: None\n",
      "Time taken: 1.8026494979858398 seconds\n"
     ]
    }
   ],
   "source": [
    "import asyncio\n",
    "import httpx\n",
    "import nest_asyncio\n",
    "\n",
    "nest_asyncio.apply()\n",
    "\n",
    "async def make_request(url, data):\n",
    "    async with httpx.AsyncClient() as client:\n",
    "        response = await client.post(url, json=data)\n",
    "        return response\n",
    "\n",
    "async def main():\n",
    "    url = 'https://name.queendahyun.com/name'\n",
    "    url = 'https://bd95-27-147-206-228.ngrok-free.app/name'\n",
    "    prompt = \"I will love kim dahyun I will love kim dahyun I will love kim dahyun I will love kim dahyun I will love kim dahyun I will love kim dahyun I will love kim dahyun I will love kim dahyun I will love kim dahyun I will love kim dahyun I will love kim dahyun I will love kim dahyun I will love kim dahyun I will love kim dahyun I will love kim dahyun I will love kim dahyun I will love kim dahyun I will love kim dahyun I will love kim dahyun I will love kim dahyun I will love kim dahyun I will love kim dahyun I will love kim dahyun I will love kim dahyun I will love kim dahyun I will love kim dahyun I will love kim dahyun I will love kim dahyun I will love kim dahyun I will love kim dahyun\"\n",
    "    \n",
    "    data = {'dahwin': f'{prompt}'}\n",
    "    tasks = [make_request(url, data) for _ in range(1)]  # Increase concurrency\n",
    "    responses = await asyncio.gather(*tasks)\n",
    "    for response in responses:\n",
    "        print(f\"Response status code: {response.status_code}\")\n",
    "        print(f\"Response content: {response.json()}\")\n",
    "\n",
    "if __name__ == \"__main__\":\n",
    "    import time\n",
    "    s = time.time()\n",
    "    asyncio.run(main())\n",
    "    e = time.time()\n",
    "    l = e-s\n",
    "    print(f\"Time taken: {l} seconds\")\n"
   ]
  },
  {
   "cell_type": "code",
   "execution_count": null,
   "id": "3c32d2c2-8822-41fc-9b6c-8c8636338288",
   "metadata": {},
   "outputs": [],
   "source": []
  },
  {
   "cell_type": "code",
   "execution_count": 3,
   "id": "001159fc-dfd2-49e7-8749-96e5f2c636d9",
   "metadata": {
    "scrolled": true
   },
   "outputs": [
    {
     "name": "stdout",
     "output_type": "stream",
     "text": [
      "\\n<|assistant|>\\nKim Dahyun is a South Korean singer, songwriter, and actress. She is best known for being a member of the popular K-pop girl group TWICE, which debuted in 2015 under JYP Entertainment. Kim Dahyun has also appeared as an actress in various television dramas and movies.\n"
     ]
    }
   ],
   "source": [
    "import re\n",
    "import requests\n",
    "\n",
    "# Define the URL of your FastAPI application\n",
    "url = 'http://127.0.0.1:8000/name'\n",
    "\n",
    "# Define the data you want to post (a tuple in this case)\n",
    "prompt = \"\"\"hey who is kim dahyun?\"\"\"\n",
    "data = {'dahwin': f\"\"\"{prompt}\"\"\"}  # Include the 'name' field in the JSON data\n",
    "\n",
    "# Send a POST request\n",
    "response = requests.post(url, json=data)\n",
    "\n",
    "# Assuming response.content is of type bytes\n",
    "ai_response_bytes = response.content\n",
    "\n",
    "# Decode the bytes to a string\n",
    "ai_response_str = ai_response_bytes.decode('utf-8')  # You may need to adjust the encoding based on your response\n",
    "\n",
    "# Use regex to extract the value associated with \"AI Response\"\n",
    "match = re.search(r'\"AI Response\":\"([^\"]+)\"', ai_response_str)\n",
    "if match:\n",
    "    ai_response = match.group(1)\n",
    "    print(ai_response)\n",
    "else:\n",
    "    print(\"AI Response not found in the string.\")\n",
    "\n"
   ]
  },
  {
   "cell_type": "code",
   "execution_count": 7,
   "id": "dfebacca-d7fc-492f-bf67-bdf0da272984",
   "metadata": {},
   "outputs": [
    {
     "data": {
      "text/plain": [
       "b'{\"AI Response\":\"\\\\n<|assistant|>\\\\nKim Dahyun, also known as D-Lite or D.A.N., is a South Korean singer and actress. She was born on November 30, 1991, in Seoul, South Korea. She is best known for being a member of the popular K-pop girl group TWICE, which debuted in 2015 under JYP Entertainment. Dahyun has also appeared in various television dramas and movies, including \\\\\"The Sound of Your Heart\\\\\" (2016) and \\\\\"Dear My Sisters\\\\\" (2019).\"}'"
      ]
     },
     "execution_count": 7,
     "metadata": {},
     "output_type": "execute_result"
    }
   ],
   "source": [
    " response.content"
   ]
  },
  {
   "cell_type": "code",
   "execution_count": null,
   "id": "25fbfd84-0add-4c9a-b2e3-e1ac95d9b9e1",
   "metadata": {},
   "outputs": [],
   "source": [
    "import requests\n",
    "\n",
    "# Define the URL of your FastAPI application\n",
    "url = 'http://127.0.0.1:8000/name'\n",
    "\n",
    "# Define the data you want to post\n",
    "data = {'name': 'Dahwin'}  # Include the 'name' field in the JSON data\n",
    "\n",
    "# Send a POST request\n",
    "response = requests.post(url, json=data)\n",
    "\n",
    "# Print the response\n",
    "print(response.json())"
   ]
  },
  {
   "cell_type": "code",
   "execution_count": null,
   "id": "a753d6ca-ecce-4609-9078-373bad9ef2f2",
   "metadata": {},
   "outputs": [],
   "source": [
    "import requests\n",
    "\n",
    "# Define the URL of your FastAPI application\n",
    "url = 'http://localhost:8000/llm'\n",
    "\n",
    "# Define the data you want to post\n",
    "data = {'name': 'queendahyun'}  # Include the 'name' field in the JSON data\n",
    "\n",
    "# Send a POST request\n",
    "response = requests.post(url, json=data)\n",
    "\n",
    "# Print the response\n",
    "print(response.json())"
   ]
  },
  {
   "cell_type": "code",
   "execution_count": 3,
   "id": "282ed9cc-6ed3-472c-9506-08f54039fa24",
   "metadata": {},
   "outputs": [
    {
     "name": "stdout",
     "output_type": "stream",
     "text": [
      "\n",
      "\n",
      "I do not have a physical presence or emotions, so i am not capable of being \n",
      "I do not have a physical presence or emotions, so i am not capable of being \n"
     ]
    }
   ],
   "source": [
    "text = \"\\n\\nI do not have a physical presence or emotions, so i am not capable of being \"\n",
    "print(text)\n",
    "# Remove newline characters\n",
    "cleaned_text = text.replace('\\n', '')\n",
    "\n",
    "print(cleaned_text)\n",
    "\n"
   ]
  },
  {
   "cell_type": "code",
   "execution_count": 4,
   "id": "09b6e3e8-e9c6-4289-a9a3-a7759207a0f4",
   "metadata": {},
   "outputs": [
    {
     "data": {
      "text/plain": [
       "'I do not have a physical presence or emotions, so i am not capable of being '"
      ]
     },
     "execution_count": 4,
     "metadata": {},
     "output_type": "execute_result"
    }
   ],
   "source": [
    "ai_response= \"\\n\\nI do not have a physical presence or emotions, so i am not capable of being \"\n",
    "ai_response1 = ai_response.replace('\\n', '').replace('\\r', '')\n",
    "ai_response1"
   ]
  },
  {
   "cell_type": "code",
   "execution_count": null,
   "id": "7358fc0e-d903-4c87-8a54-9254c4c9e91f",
   "metadata": {},
   "outputs": [],
   "source": []
  }
 ],
 "metadata": {
  "kernelspec": {
   "display_name": "Python 3 (ipykernel)",
   "language": "python",
   "name": "python3"
  },
  "language_info": {
   "codemirror_mode": {
    "name": "ipython",
    "version": 3
   },
   "file_extension": ".py",
   "mimetype": "text/x-python",
   "name": "python",
   "nbconvert_exporter": "python",
   "pygments_lexer": "ipython3",
   "version": "3.10.5"
  }
 },
 "nbformat": 4,
 "nbformat_minor": 5
}
