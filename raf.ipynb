{
 "cells": [
  {
   "cell_type": "code",
   "execution_count": 3,
   "id": "625e3e18-0d21-468d-9a07-e76879f3c7c1",
   "metadata": {},
   "outputs": [
    {
     "name": "stdout",
     "output_type": "stream",
     "text": [
      "no\n"
     ]
    }
   ],
   "source": [
    "de = \"dahyun\"\n",
    "del de\n",
    "try:\n",
    "    text = 'yse'\n",
    "    if  de:\n",
    "        print(True)\n",
    "except:\n",
    "    text = \"no\"\n",
    "print(text)"
   ]
  },
  {
   "cell_type": "code",
   "execution_count": 4,
   "id": "e33e7574-2ae4-4915-adc2-5fbee4bd5428",
   "metadata": {},
   "outputs": [
    {
     "ename": "NameError",
     "evalue": "name 'de' is not defined",
     "output_type": "error",
     "traceback": [
      "\u001b[1;31m---------------------------------------------------------------------------\u001b[0m",
      "\u001b[1;31mNameError\u001b[0m                                 Traceback (most recent call last)",
      "Cell \u001b[1;32mIn[4], line 3\u001b[0m\n\u001b[0;32m      1\u001b[0m de \u001b[38;5;241m=\u001b[39m \u001b[38;5;124m\"\u001b[39m\u001b[38;5;124mdahyun\u001b[39m\u001b[38;5;124m\"\u001b[39m\n\u001b[0;32m      2\u001b[0m \u001b[38;5;28;01mdel\u001b[39;00m de\n\u001b[1;32m----> 3\u001b[0m \u001b[38;5;28;01mif\u001b[39;00m \u001b[43mde\u001b[49m:\n\u001b[0;32m      4\u001b[0m     \u001b[38;5;28mprint\u001b[39m(de)\n",
      "\u001b[1;31mNameError\u001b[0m: name 'de' is not defined"
     ]
    }
   ],
   "source": [
    "de = \"dahyun\"\n",
    "del de\n",
    "if de:\n",
    "    print(de)"
   ]
  },
  {
   "cell_type": "code",
   "execution_count": 16,
   "id": "7f1f7e85-cfa1-44ad-b1f1-4620fa4372cf",
   "metadata": {},
   "outputs": [],
   "source": [
    "de = \"dahwin\""
   ]
  },
  {
   "cell_type": "code",
   "execution_count": 6,
   "id": "4eea5ee2-f178-46f4-8c35-cdbb8d4c0b87",
   "metadata": {
    "scrolled": true
   },
   "outputs": [
    {
     "name": "stdout",
     "output_type": "stream",
     "text": [
      "NameError: name 'de' is not defined\n",
      "name 'de' is not defined\n",
      "True\n"
     ]
    }
   ],
   "source": [
    "ne = None  # Initialize ne outside the try-except block\n",
    "\n",
    "try:\n",
    "    if de:\n",
    "        print(de)\n",
    "except NameError as e:\n",
    "    ne = e  # Assign the exception to ne\n",
    "    print(f\"NameError: {ne}\")\n",
    "\n",
    "if ne:\n",
    "    print(ne)\n",
    "\n",
    "if 'not defined' in str(ne):  # Convert ne to a string before checking for 'not defined'\n",
    "    print(True)\n"
   ]
  },
  {
   "cell_type": "code",
   "execution_count": 2,
   "id": "1c032c26-58b1-4426-a264-e5c70af23910",
   "metadata": {},
   "outputs": [
    {
     "name": "stdout",
     "output_type": "stream",
     "text": [
      "name 'de' is not defined\n"
     ]
    }
   ],
   "source": [
    "print(ne)"
   ]
  },
  {
   "cell_type": "code",
   "execution_count": null,
   "id": "faf252c7-1821-4413-bba6-3de7bc5b253b",
   "metadata": {},
   "outputs": [],
   "source": []
  }
 ],
 "metadata": {
  "kernelspec": {
   "display_name": "Python 3 (ipykernel)",
   "language": "python",
   "name": "python3"
  },
  "language_info": {
   "codemirror_mode": {
    "name": "ipython",
    "version": 3
   },
   "file_extension": ".py",
   "mimetype": "text/x-python",
   "name": "python",
   "nbconvert_exporter": "python",
   "pygments_lexer": "ipython3",
   "version": "3.10.5"
  }
 },
 "nbformat": 4,
 "nbformat_minor": 5
}
