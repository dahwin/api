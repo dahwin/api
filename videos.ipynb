{
 "cells": [
  {
   "cell_type": "code",
   "execution_count": 1,
   "id": "55b75a4f-c3b3-44c6-8392-bc201880578a",
   "metadata": {},
   "outputs": [],
   "source": [
    "from fastapi import FastAPI\n",
    "import uvicorn\n",
    "import nest_asyncio\n",
    "nest_asyncio.apply()"
   ]
  },
  {
   "cell_type": "code",
   "execution_count": 4,
   "id": "a6e88371-82cb-40ac-9c60-c4f52a6452ce",
   "metadata": {},
   "outputs": [
    {
     "name": "stderr",
     "output_type": "stream",
     "text": [
      "INFO:     Started server process [5256]\n",
      "INFO:     Waiting for application startup.\n",
      "INFO:     Application startup complete.\n",
      "INFO:     Uvicorn running on http://127.0.0.1:8000 (Press CTRL+C to quit)\n"
     ]
    },
    {
     "name": "stdout",
     "output_type": "stream",
     "text": [
      "INFO:     127.0.0.1:51364 - \"POST /file/upload HTTP/1.1\" 200 OK\n"
     ]
    },
    {
     "name": "stderr",
     "output_type": "stream",
     "text": [
      "INFO:     Shutting down\n",
      "INFO:     Waiting for application shutdown.\n",
      "INFO:     Application shutdown complete.\n",
      "INFO:     Finished server process [5256]\n"
     ]
    }
   ],
   "source": [
    "from fastapi import FastAPI, UploadFile\n",
    "import os\n",
    "import uvicorn\n",
    "\n",
    "# Init App\n",
    "app = FastAPI()\n",
    "\n",
    "# Save uploaded files in the current working directory\n",
    "upload_directory = './'\n",
    "\n",
    "# Ensure the upload directory exists\n",
    "os.makedirs(upload_directory, exist_ok=True)\n",
    "\n",
    "@app.post(\"/file/upload\")\n",
    "async def upload_file(file: UploadFile):\n",
    "    # Generate a unique filename for the uploaded file\n",
    "    file_path = os.path.join(upload_directory, file.filename)\n",
    "\n",
    "    # Save the uploaded file to the specified directory\n",
    "    with open(file_path, 'wb') as file_object:\n",
    "        file_object.write(file.file.read())\n",
    "\n",
    "    # Return a response indicating the filename and content type\n",
    "    return {\"filename\": file.filename, \"content_type\": file.content_type}\n",
    "\n",
    "if __name__ == '__main__':\n",
    "    uvicorn.run(app, host=\"127.0.0.1\", port=8000)\n",
    "\n"
   ]
  },
  {
   "cell_type": "code",
   "execution_count": 3,
   "id": "141e6683-36ff-4a3f-875a-1c33444caea6",
   "metadata": {
    "scrolled": true
   },
   "outputs": [
    {
     "name": "stderr",
     "output_type": "stream",
     "text": [
      "INFO:     Started server process [5256]\n",
      "INFO:     Waiting for application startup.\n",
      "INFO:     Application startup complete.\n",
      "INFO:     Uvicorn running on http://127.0.0.1:8000 (Press CTRL+C to quit)\n"
     ]
    },
    {
     "name": "stdout",
     "output_type": "stream",
     "text": [
      "INFO:     127.0.0.1:51335 - \"POST /file/upload HTTP/1.1\" 200 OK\n",
      "INFO:     127.0.0.1:51353 - \"POST /file/upload HTTP/1.1\" 200 OK\n"
     ]
    },
    {
     "name": "stderr",
     "output_type": "stream",
     "text": [
      "INFO:     Shutting down\n",
      "INFO:     Waiting for application shutdown.\n",
      "INFO:     Application shutdown complete.\n",
      "INFO:     Finished server process [5256]\n"
     ]
    }
   ],
   "source": [
    "from fastapi import FastAPI, UploadFile\n",
    "import uvicorn\n",
    "\n",
    "# Init App\n",
    "app = FastAPI()\n",
    "\n",
    "@app.post(\"/file/upload\")\n",
    "async def upload_file(file: UploadFile):\n",
    "    # Process the uploaded file as needed\n",
    "    # You can save it to disk, analyze it, or perform any other desired actions\n",
    "    # For this example, we're simply returning the filename and content type\n",
    "    return {\"filename\": file.filename, \"content_type\": file.content_type}\n",
    "\n",
    "if __name__ == '__main__':\n",
    "    uvicorn.run(app, host=\"127.0.0.1\", port=8000)\n"
   ]
  },
  {
   "cell_type": "code",
   "execution_count": 10,
   "id": "45799a2a-66a8-4e57-9be2-572b71153f37",
   "metadata": {},
   "outputs": [
    {
     "name": "stdout",
     "output_type": "stream",
     "text": [
      "APIRouter\n",
      "BackgroundTasks\n",
      "Body\n",
      "Cookie\n",
      "Depends\n",
      "FastAPI\n",
      "File\n",
      "Form\n",
      "HTTPException\n",
      "Header\n",
      "Path\n",
      "Query\n",
      "Request\n",
      "Response\n",
      "Security\n",
      "UploadFile\n",
      "WebSocket\n",
      "WebSocketDisconnect\n",
      "WebSocketException\n",
      "__builtins__\n",
      "__cached__\n",
      "__doc__\n",
      "__file__\n",
      "__loader__\n",
      "__name__\n",
      "__package__\n",
      "__path__\n",
      "__spec__\n",
      "__version__\n",
      "applications\n",
      "background\n",
      "concurrency\n",
      "datastructures\n",
      "dependencies\n",
      "encoders\n",
      "exception_handlers\n",
      "exceptions\n",
      "logger\n",
      "middleware\n",
      "openapi\n",
      "param_functions\n",
      "params\n",
      "requests\n",
      "responses\n",
      "routing\n",
      "security\n",
      "status\n",
      "types\n",
      "utils\n",
      "websockets\n"
     ]
    }
   ],
   "source": [
    "import fastapi\n",
    "\n",
    "x = dir(fastapi)\n",
    "print('\\n'.join(x))\n"
   ]
  },
  {
   "cell_type": "code",
   "execution_count": null,
   "id": "1a0a7f25-4c07-4e33-a86b-67e4a16fa40b",
   "metadata": {},
   "outputs": [],
   "source": []
  }
 ],
 "metadata": {
  "kernelspec": {
   "display_name": "Python 3 (ipykernel)",
   "language": "python",
   "name": "python3"
  },
  "language_info": {
   "codemirror_mode": {
    "name": "ipython",
    "version": 3
   },
   "file_extension": ".py",
   "mimetype": "text/x-python",
   "name": "python",
   "nbconvert_exporter": "python",
   "pygments_lexer": "ipython3",
   "version": "3.10.5"
  }
 },
 "nbformat": 4,
 "nbformat_minor": 5
}
