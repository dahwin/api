{
 "cells": [
  {
   "cell_type": "code",
   "execution_count": null,
   "id": "14bce604-3ccf-4be0-ba48-9d956cfd54b4",
   "metadata": {},
   "outputs": [
    {
     "name": "stderr",
     "output_type": "stream",
     "text": [
      "INFO:     Started server process [15136]\n",
      "INFO:     Waiting for application startup.\n",
      "INFO:     Application startup complete.\n",
      "INFO:     Uvicorn running on http://localhost:6000 (Press CTRL+C to quit)\n"
     ]
    },
    {
     "name": "stdout",
     "output_type": "stream",
     "text": [
      "INFO:     35.223.236.65:0 - \"GET /text HTTP/1.1\" 200 OK\n",
      "INFO:     35.223.236.65:0 - \"GET /text HTTP/1.1\" 200 OK\n",
      "INFO:     35.223.236.65:0 - \"GET /text HTTP/1.1\" 200 OK\n",
      "INFO:     35.223.236.65:0 - \"GET /text HTTP/1.1\" 200 OK\n",
      "INFO:     35.223.236.65:0 - \"GET /text HTTP/1.1\" 200 OK\n",
      "INFO:     35.223.236.65:0 - \"GET /text HTTP/1.1\" 200 OK\n",
      "INFO:     35.223.236.65:0 - \"GET /text HTTP/1.1\" 200 OK\n",
      "INFO:     35.223.236.65:0 - \"GET /text HTTP/1.1\" 200 OK\n",
      "INFO:     35.223.236.65:0 - \"GET /text HTTP/1.1\" 200 OK\n",
      "INFO:     35.223.236.65:0 - \"GET /text HTTP/1.1\" 200 OK\n",
      "INFO:     35.223.236.65:0 - \"GET /text HTTP/1.1\" 200 OK\n",
      "INFO:     35.223.236.65:0 - \"GET /text HTTP/1.1\" 200 OK\n",
      "INFO:     35.223.236.65:0 - \"GET /text HTTP/1.1\" 200 OK\n",
      "INFO:     35.223.236.65:0 - \"GET /text HTTP/1.1\" 200 OK\n",
      "INFO:     35.223.236.65:0 - \"GET /text HTTP/1.1\" 200 OK\n",
      "INFO:     35.223.236.65:0 - \"GET /text HTTP/1.1\" 200 OK\n",
      "INFO:     35.223.236.65:0 - \"GET /text HTTP/1.1\" 200 OK\n",
      "INFO:     35.223.236.65:0 - \"GET /text HTTP/1.1\" 200 OK\n",
      "INFO:     35.223.236.65:0 - \"GET /text HTTP/1.1\" 200 OK\n",
      "INFO:     35.223.236.65:0 - \"GET /text HTTP/1.1\" 200 OK\n",
      "INFO:     35.223.236.65:0 - \"GET /text HTTP/1.1\" 200 OK\n",
      "INFO:     35.223.236.65:0 - \"GET /text HTTP/1.1\" 200 OK\n",
      "INFO:     35.223.236.65:0 - \"GET /text HTTP/1.1\" 200 OK\n",
      "INFO:     35.223.236.65:0 - \"GET /text HTTP/1.1\" 200 OK\n",
      "INFO:     35.223.236.65:0 - \"GET /text HTTP/1.1\" 200 OK\n",
      "INFO:     35.223.236.65:0 - \"GET /text HTTP/1.1\" 200 OK\n",
      "INFO:     35.223.236.65:0 - \"GET /text HTTP/1.1\" 200 OK\n",
      "INFO:     35.223.236.65:0 - \"GET /text HTTP/1.1\" 200 OK\n",
      "INFO:     35.223.236.65:0 - \"GET /text HTTP/1.1\" 200 OK\n",
      "INFO:     35.223.236.65:0 - \"GET /text HTTP/1.1\" 200 OK\n",
      "INFO:     35.223.236.65:0 - \"GET /text HTTP/1.1\" 200 OK\n",
      "INFO:     35.223.236.65:0 - \"GET /text HTTP/1.1\" 200 OK\n",
      "INFO:     35.223.236.65:0 - \"GET /text HTTP/1.1\" 200 OK\n",
      "INFO:     35.223.236.65:0 - \"GET /text HTTP/1.1\" 200 OK\n",
      "INFO:     35.223.236.65:0 - \"GET /text HTTP/1.1\" 200 OK\n",
      "INFO:     35.223.236.65:0 - \"GET /text HTTP/1.1\" 200 OK\n",
      "INFO:     35.223.236.65:0 - \"GET /text HTTP/1.1\" 200 OK\n",
      "INFO:     35.223.236.65:0 - \"GET /text HTTP/1.1\" 200 OK\n",
      "INFO:     35.223.236.65:0 - \"GET /text HTTP/1.1\" 200 OK\n",
      "INFO:     35.223.236.65:0 - \"GET /text HTTP/1.1\" 200 OK\n",
      "INFO:     35.223.236.65:0 - \"GET /text HTTP/1.1\" 200 OK\n",
      "INFO:     35.223.236.65:0 - \"GET /text HTTP/1.1\" 200 OK\n",
      "INFO:     35.223.236.65:0 - \"GET /text HTTP/1.1\" 200 OK\n",
      "INFO:     35.223.236.65:0 - \"GET /text HTTP/1.1\" 200 OK\n"
     ]
    }
   ],
   "source": [
    "import time\n",
    "from fastapi import FastAPI\n",
    "from starlette.responses import StreamingResponse\n",
    "import nest_asyncio\n",
    "nest_asyncio.apply()\n",
    "app = FastAPI()\n",
    "import asyncio\n",
    "\n",
    "from fastapi import FastAPI\n",
    "\n",
    "app = FastAPI()\n",
    "\n",
    "@app.get(\"/text\")\n",
    "async def get_text():\n",
    "    text = \"https://d04b-34-80-74-162.ngrok-free.app/  https://adfd-27-147-206-228.ngrok-free.app/\"\n",
    "    return {\"text\": text}\n",
    "\n",
    "if __name__ == \"__main__\":\n",
    "    import uvicorn\n",
    "\n",
    "    uvicorn.run(app, host=\"localhost\", port=6000)\n",
    "    print('how')\n"
   ]
  },
  {
   "cell_type": "code",
   "execution_count": null,
   "id": "39eaf4a9-8281-4995-93a3-39c9e3c9eeb1",
   "metadata": {},
   "outputs": [],
   "source": [
    "sudo cloudflared service install eyJhIjoiNmU0MzkzMDc0ZjJmODRjMDkwYzUwNDNjZTc1NmEyMTciLCJ0IjoiZjM3OThkMGQtNDNhZC00ODIwLTlhODMtNGM3MjVhMGQzNmU3IiwicyI6Ik5XTTJNVEE1TW1VdFptWXpZeTAwT0Roa0xXRTVaakl0T0RNME1ETmpPVFUxT0dJNCJ9"
   ]
  },
  {
   "cell_type": "code",
   "execution_count": null,
   "id": "183c46c8-6a7c-4623-9827-5cae03ba1200",
   "metadata": {},
   "outputs": [],
   "source": []
  },
  {
   "cell_type": "code",
   "execution_count": null,
   "id": "d7e1c68d-5f6d-412c-8c47-08be8c9483a0",
   "metadata": {},
   "outputs": [],
   "source": []
  },
  {
   "cell_type": "code",
   "execution_count": null,
   "id": "cf5e76da-b756-47f9-9a1e-d91bd83e1f46",
   "metadata": {},
   "outputs": [],
   "source": []
  },
  {
   "cell_type": "code",
   "execution_count": null,
   "id": "1f5a35c8-43f5-40aa-b331-2d792002968d",
   "metadata": {},
   "outputs": [],
   "source": [
    "text = \"https://e608-104-197-230-242.ngrok-free.app/  https://574a-27-147-206-228.ngrok-free.app\""
   ]
  }
 ],
 "metadata": {
  "kernelspec": {
   "display_name": "Python 3 (ipykernel)",
   "language": "python",
   "name": "python3"
  },
  "language_info": {
   "codemirror_mode": {
    "name": "ipython",
    "version": 3
   },
   "file_extension": ".py",
   "mimetype": "text/x-python",
   "name": "python",
   "nbconvert_exporter": "python",
   "pygments_lexer": "ipython3",
   "version": "3.10.5"
  }
 },
 "nbformat": 4,
 "nbformat_minor": 5
}
