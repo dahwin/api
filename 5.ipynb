{
 "cells": [
  {
   "cell_type": "code",
   "execution_count": null,
   "id": "9be2a107-6c68-4a8a-a24a-9baf1111d147",
   "metadata": {},
   "outputs": [],
   "source": [
    "from fastapi import FastAPI\n",
    "from starlette.responses import StreamingResponse\n",
    "import cv2\n",
    "import time\n",
    "import uvicorn\n",
    "import nest_asyncio\n",
    "from win32api import GetSystemMetrics\n",
    "import numpy as np\n",
    "from PIL import ImageGrab\n",
    "import datetime\n",
    "\n",
    "nest_asyncio.apply()\n",
    "app = FastAPI()\n",
    "\n",
    "def generate_frames():\n",
    "    width = GetSystemMetrics(0)\n",
    "    height = GetSystemMetrics(1)\n",
    "    fps = 10  # Assuming 10 frames per second\n",
    "    \n",
    "    frame_count = 0  # Initialize frame_count\n",
    "    extracted_F= 2\n",
    "    real = 0\n",
    "    last_emit_time = time.time()  # Initialize the last emission time\n",
    "    while True:\n",
    "        img = ImageGrab.grab()  # Capture the screen\n",
    "        img = np.array(img)\n",
    "        img_final = cv2.cvtColor(img, cv2.COLOR_BGR2RGB)\n",
    "\n",
    "        # Increment frame count\n",
    "        frame_count += 1\n",
    "        res = frame_count % fps\n",
    "        d = fps/extracted_F\n",
    "        current_time = time.time()\n",
    "        # elapsed_time = current_time - last_emit_time\n",
    "        # if elapsed_time >= 1 / extracted_F:\n",
    "        if res%d==0.0:\n",
    "                real+=1\n",
    "                print(real)\n",
    "                # Resize the frame to 480p resolution\n",
    "                # img_final = cv2.resize(img_final, (854, 480))  # 480p resolution is 854x480\n",
    "                img_final = cv2.resize(img_final, (640, 360))  # 480p resolution is 854x480\n",
    "                # Convert the frame to JPEG format for streaming\n",
    "                _, buffer = cv2.imencode('.jpg', img_final)\n",
    "                \n",
    "                yield (b'--frame\\r\\n'\n",
    "                       b'Content-Type: image/jpeg\\r\\n\\r\\n' + buffer.tobytes() + b'\\r\\n')\n",
    "            \n",
    "@app.get(\"/video_feed\")\n",
    "async def video_feed():\n",
    "    return StreamingResponse(generate_frames(), media_type=\"multipart/x-mixed-replace; boundary=frame\")\n",
    "\n",
    "if __name__ == \"__main__\":\n",
    "    uvicorn.run(app, host=\"localhost\", port=8000)\n"
   ]
  },
  {
   "cell_type": "code",
   "execution_count": null,
   "id": "c4e0b09e-0c91-4a29-9f9a-9cbb67f4380f",
   "metadata": {},
   "outputs": [],
   "source": []
  },
  {
   "cell_type": "code",
   "execution_count": null,
   "id": "43b7166e-f277-4401-8080-db2e26e4bc69",
   "metadata": {},
   "outputs": [],
   "source": []
  },
  {
   "cell_type": "code",
   "execution_count": null,
   "id": "0af84e23-8c55-4234-8613-2fae9e9c4c80",
   "metadata": {},
   "outputs": [],
   "source": []
  },
  {
   "cell_type": "code",
   "execution_count": null,
   "id": "e3a31c7d-1593-4601-8dd4-5038032e607c",
   "metadata": {},
   "outputs": [],
   "source": []
  },
  {
   "cell_type": "code",
   "execution_count": null,
   "id": "abecad09-f3b0-4aa8-9d28-ab42a833e962",
   "metadata": {},
   "outputs": [],
   "source": []
  }
 ],
 "metadata": {
  "kernelspec": {
   "display_name": "Python 3 (ipykernel)",
   "language": "python",
   "name": "python3"
  },
  "language_info": {
   "codemirror_mode": {
    "name": "ipython",
    "version": 3
   },
   "file_extension": ".py",
   "mimetype": "text/x-python",
   "name": "python",
   "nbconvert_exporter": "python",
   "pygments_lexer": "ipython3",
   "version": "3.10.5"
  }
 },
 "nbformat": 4,
 "nbformat_minor": 5
}
