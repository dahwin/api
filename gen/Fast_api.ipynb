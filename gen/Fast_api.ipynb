{
 "cells": [
  {
   "cell_type": "code",
   "execution_count": 1,
   "id": "01417dd1-1c5b-41f8-8c9b-beede5e4e506",
   "metadata": {},
   "outputs": [
    {
     "name": "stderr",
     "output_type": "stream",
     "text": [
      "t=2024-01-22T10:50:55+0600 lvl=warn msg=\"ngrok config file found at legacy location, move to XDG location\" xdg_path=\"C:\\\\Users\\\\ALL USER\\\\AppData\\\\Local/ngrok/ngrok.yml\" legacy_path=\"C:\\\\Users\\\\ALL USER\\\\.ngrok2\\\\ngrok.yml\"\n"
     ]
    },
    {
     "data": {
      "text/plain": [
       "<NgrokTunnel: \"https://06ef-27-147-206-228.ngrok-free.app\" -> \"http://localhost:8000\">"
      ]
     },
     "execution_count": 1,
     "metadata": {},
     "output_type": "execute_result"
    }
   ],
   "source": [
    "from pyngrok import ngrok\n",
    "\n",
    "# Setting an auth token allows us to open multiple\n",
    "# tunnels at the same time\n",
    "ngrok.set_auth_token(\"2R1tsuod04ayFPLUINN1J0J5qpJ_89tdxKVwtCs9F7kvG1uhv\")\n",
    "\n",
    "# Start ngrok with the custom configuration file\n",
    "ngrok_tunnel2 = ngrok.connect(8000, bind_tls=True)\n",
    "ngrok_tunnel2\n"
   ]
  },
  {
   "cell_type": "code",
   "execution_count": null,
   "id": "6f7a89f1-4fe7-430f-a2e7-cb75814f2d86",
   "metadata": {},
   "outputs": [
    {
     "name": "stderr",
     "output_type": "stream",
     "text": [
      "INFO:     Started server process [11836]\n",
      "INFO:     Waiting for application startup.\n",
      "INFO:     Application startup complete.\n",
      "INFO:     Uvicorn running on http://127.0.0.1:8000 (Press CTRL+C to quit)\n"
     ]
    },
    {
     "name": "stdout",
     "output_type": "stream",
     "text": [
      "INFO:     35.230.116.58:0 - \"POST /file/upload HTTP/1.1\" 200 OK\n",
      "INFO:     35.230.116.58:0 - \"POST /file/upload HTTP/1.1\" 200 OK\n",
      "INFO:     35.230.116.58:0 - \"POST /file/upload HTTP/1.1\" 200 OK\n",
      "INFO:     35.230.116.58:0 - \"POST /file/upload HTTP/1.1\" 200 OK\n",
      "INFO:     35.230.116.58:0 - \"POST /file/upload HTTP/1.1\" 200 OK\n"
     ]
    }
   ],
   "source": [
    "from fastapi import FastAPI, UploadFile\n",
    "import os\n",
    "import uvicorn\n",
    "import nest_asyncio\n",
    "nest_asyncio.apply()\n",
    "# Init App\n",
    "app = FastAPI()\n",
    "\n",
    "# Save uploaded files in the current working directory\n",
    "upload_directory = './'\n",
    "\n",
    "# Ensure the upload directory exists\n",
    "os.makedirs(upload_directory, exist_ok=True)\n",
    "\n",
    "@app.post(\"/file/upload\")\n",
    "async def upload_file(file: UploadFile):\n",
    "    # Generate a unique filename for the uploaded file\n",
    "    file_path = os.path.join(upload_directory, file.filename)\n",
    "\n",
    "    # Save the uploaded file to the specified directory\n",
    "    with open(file_path, 'wb') as file_object:\n",
    "        file_object.write(file.file.read())\n",
    "\n",
    "    # Return a response indicating the filename and content type\n",
    "    return {\"filename\": file.filename, \"content_type\": file.content_type}\n",
    "\n",
    "if __name__ == '__main__':\n",
    "    uvicorn.run(app, host=\"127.0.0.1\", port=8000)"
   ]
  },
  {
   "cell_type": "code",
   "execution_count": null,
   "id": "5ce27a19-a055-4924-a554-4fef44a7ccb0",
   "metadata": {},
   "outputs": [],
   "source": []
  },
  {
   "cell_type": "code",
   "execution_count": null,
   "id": "507caf67-87b6-4726-aba7-b9e8b1d6883a",
   "metadata": {},
   "outputs": [],
   "source": []
  }
 ],
 "metadata": {
  "kernelspec": {
   "display_name": "Python 3 (ipykernel)",
   "language": "python",
   "name": "python3"
  },
  "language_info": {
   "codemirror_mode": {
    "name": "ipython",
    "version": 3
   },
   "file_extension": ".py",
   "mimetype": "text/x-python",
   "name": "python",
   "nbconvert_exporter": "python",
   "pygments_lexer": "ipython3",
   "version": "3.10.5"
  }
 },
 "nbformat": 4,
 "nbformat_minor": 5
}
