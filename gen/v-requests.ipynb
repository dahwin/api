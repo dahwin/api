{
 "cells": [
  {
   "cell_type": "code",
   "execution_count": 3,
   "id": "bf14d49c-58fd-4efb-8b0d-3f316aa62c4b",
   "metadata": {},
   "outputs": [
    {
     "name": "stdout",
     "output_type": "stream",
     "text": [
      "Raw Response Content: b'{\"AI Response\":\"done\"}'\n"
     ]
    }
   ],
   "source": [
    "import requests\n",
    "\n",
    "# Define the URL of your FastAPI application\n",
    "url = 'https://15ce-35-230-116-58.ngrok-free.app/prompt'\n",
    "\n",
    "# Define the data you want to post (a tuple in this case)\n",
    "prompt = ' twice dahyun in a beautiful gerden'\n",
    "data = {'dahwin': f'{prompt}'}  # Include the 'name' field in the JSON data\n",
    "\n",
    "# Send a POST request\n",
    "response = requests.post(url, json=data)\n",
    "\n",
    "# Print the raw response content for debugging\n",
    "print(\"Raw Response Content:\", response.content)"
   ]
  },
  {
   "cell_type": "code",
   "execution_count": 5,
   "id": "647b24ef-2890-49c4-a1e2-185d577c0295",
   "metadata": {},
   "outputs": [
    {
     "name": "stdout",
     "output_type": "stream",
     "text": [
      "The last created file in . is: .\\_twice_dahyun_in_a_beautiful_gerden.png\n"
     ]
    }
   ],
   "source": [
    "import os\n",
    "\n",
    "def get_last_created_file(directory=\".\"):\n",
    "    # Get a list of all files in the directory\n",
    "    files = [f for f in os.listdir(directory) if os.path.isfile(os.path.join(directory, f))]\n",
    "\n",
    "    # Check if there are any files in the directory\n",
    "    if not files:\n",
    "        return None\n",
    "\n",
    "    # Get the full path for each file\n",
    "    file_paths = [os.path.join(directory, f) for f in files]\n",
    "\n",
    "    # Get the file with the latest creation time\n",
    "    last_created_file = max(file_paths, key=os.path.getctime)\n",
    "\n",
    "    return last_created_file\n",
    "\n",
    "# Example usage:\n",
    "current_directory = \".\"  # You can change this to the desired directory\n",
    "last_created_file = get_last_created_file(current_directory)\n",
    "\n",
    "print(f\"The last created file in {current_directory} is: {last_created_file}\")"
   ]
  },
  {
   "cell_type": "code",
   "execution_count": null,
   "id": "f2825a42-572a-48f5-9328-c6740217c5eb",
   "metadata": {},
   "outputs": [],
   "source": []
  }
 ],
 "metadata": {
  "kernelspec": {
   "display_name": "Python 3 (ipykernel)",
   "language": "python",
   "name": "python3"
  },
  "language_info": {
   "codemirror_mode": {
    "name": "ipython",
    "version": 3
   },
   "file_extension": ".py",
   "mimetype": "text/x-python",
   "name": "python",
   "nbconvert_exporter": "python",
   "pygments_lexer": "ipython3",
   "version": "3.10.5"
  }
 },
 "nbformat": 4,
 "nbformat_minor": 5
}
