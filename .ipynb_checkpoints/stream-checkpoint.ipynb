{
 "cells": [
  {
   "cell_type": "code",
   "execution_count": 3,
   "id": "46a0d513-3a51-4b0a-8839-6a7cf51b9b6e",
   "metadata": {},
   "outputs": [
    {
     "name": "stderr",
     "output_type": "stream",
     "text": [
      "INFO:     Started server process [4912]\n",
      "INFO:     Waiting for application startup.\n",
      "INFO:     Application startup complete.\n",
      "INFO:     Uvicorn running on http://localhost:8000 (Press CTRL+C to quit)\n"
     ]
    },
    {
     "name": "stdout",
     "output_type": "stream",
     "text": [
      "INFO:     ::1:56716 - \"GET /stream HTTP/1.1\" 200 OK\n"
     ]
    },
    {
     "name": "stderr",
     "output_type": "stream",
     "text": [
      "INFO:     Shutting down\n",
      "INFO:     Waiting for connections to close. (CTRL+C to force quit)\n",
      "INFO:     Waiting for application shutdown.\n",
      "INFO:     Application shutdown complete.\n",
      "INFO:     Finished server process [4912]\n"
     ]
    }
   ],
   "source": [
    "import time\n",
    "from fastapi import FastAPI\n",
    "from starlette.responses import StreamingResponse\n",
    "import nest_asyncio\n",
    "nest_asyncio.apply()\n",
    "app = FastAPI()\n",
    "import asyncio\n",
    "@app.get(\"/stream\")\n",
    "async def stream_data():\n",
    "    async def generate():\n",
    "        while True:\n",
    "            yield b\"False\\n\"\n",
    "            await asyncio.sleep(7)\n",
    "\n",
    "    return StreamingResponse(generate(), media_type=\"text/plain\")\n",
    "\n",
    "if __name__ == \"__main__\":\n",
    "    import uvicorn\n",
    "    uvicorn.run(app, host=\"localhost\", port=8000)\n"
   ]
  },
  {
   "cell_type": "code",
   "execution_count": 1,
   "id": "ef0d05dd-573d-4894-9ce7-c3c41181d9c7",
   "metadata": {},
   "outputs": [
    {
     "name": "stderr",
     "output_type": "stream",
     "text": [
      "t=2024-05-14T23:12:46+0600 lvl=warn msg=\"ngrok config file found at legacy location, move to XDG location\" xdg_path=\"C:\\\\Users\\\\ALL USER\\\\AppData\\\\Local/ngrok/ngrok.yml\" legacy_path=\"C:\\\\Users\\\\ALL USER\\\\.ngrok2\\\\ngrok.yml\"\n"
     ]
    },
    {
     "data": {
      "text/plain": [
       "<NgrokTunnel: \"https://9d2c-27-147-206-228.ngrok-free.app\" -> \"http://localhost:9999\">"
      ]
     },
     "execution_count": 1,
     "metadata": {},
     "output_type": "execute_result"
    }
   ],
   "source": [
    "from pyngrok import ngrok\n",
    "\n",
    "# Setting an auth token allows us to open multiple\n",
    "# tunnels at the same time\n",
    "# ngrok.set_auth_token(\"2R1tsuod04ayFPLUINN1J0J5qpJ_89tdxKVwtCs9F7kvG1uhv\")\n",
    "# ngrok.set_auth_token(\"2YGG5TlGcsNjutkY1hua39OM2gv_7XdWGdMHeh6KY4AqMjGiD\")\n",
    "# ngrok.set_auth_token(\"2QWsRU60eUFpOOpFSSkHEqocwAv_2WW7UbufSLbszD94BLGzr\")\n",
    "ngrok.set_auth_token(\"2gQwyU3gU1voEKYokJHz2j5VC2i_5f648aT8ofikYc6wr2a64\")\n",
    "# <NgrokTunnel: \"http://<public_sub1>.ngrok.io\" -> \"http://localhost:80\">\n",
    "# <NgrokTunnel: \"http://<public_sub2>.ngrok.io\" -> \"http://localhost:8000\">\n",
    "\n",
    "# Start ngrok with the custom configuration file\n",
    "ngrok_tunnel2 = ngrok.connect(9999)\n",
    "ngrok_tunnel2"
   ]
  },
  {
   "cell_type": "code",
   "execution_count": null,
   "id": "be80b026-2f93-445c-b142-6abb6687a6ad",
   "metadata": {},
   "outputs": [
    {
     "name": "stderr",
     "output_type": "stream",
     "text": [
      "INFO:     Started server process [17748]\n",
      "INFO:     Waiting for application startup.\n",
      "INFO:     Application startup complete.\n",
      "INFO:     Uvicorn running on http://localhost:9999 (Press CTRL+C to quit)\n"
     ]
    },
    {
     "name": "stdout",
     "output_type": "stream",
     "text": [
      "INFO:     ::1:62098 - \"GET /stream HTTP/1.1\" 200 OK\n",
      "INFO:     ::1:62099 - \"GET /stream HTTP/1.1\" 200 OK\n",
      "INFO:     ::1:62101 - \"GET /stream HTTP/1.1\" 200 OK\n",
      "INFO:     ::1:62102 - \"GET /stream HTTP/1.1\" 200 OK\n"
     ]
    }
   ],
   "source": [
    "import time\n",
    "from fastapi import FastAPI\n",
    "from starlette.responses import StreamingResponse\n",
    "import nest_asyncio\n",
    "nest_asyncio.apply()\n",
    "app = FastAPI()\n",
    "import asyncio\n",
    "\n",
    "async def generate_data():\n",
    "\n",
    "\n",
    "\n",
    "    while True:\n",
    "        if yes==False:\n",
    "            await asyncio.sleep(0.01)\n",
    "        else:\n",
    "                \n",
    "            yield b\"8\\n\"\n",
    "            await asyncio.sleep(7)  # Continue sending True every 7 seconds\n",
    "async def yes():\n",
    "    global yes\n",
    "    yes = False\n",
    "    two_minutes = 60 * 2.5  # Convert minutes to seconds\n",
    "    \n",
    "    await asyncio.sleep(two_minutes)\n",
    "    yes = True\n",
    "    print('yes')\n",
    "@app.get(\"/stream\")\n",
    "async def stream_data():\n",
    "    return StreamingResponse(generate_data(), media_type=\"text/plain\")\n",
    "\n",
    "if __name__ == \"__main__\":\n",
    "    import uvicorn\n",
    "    asyncio.create_task(yes())\n",
    "    uvicorn.run(app, host=\"localhost\", port=9999)\n"
   ]
  },
  {
   "cell_type": "code",
   "execution_count": null,
   "id": "c2d9b5c3-ad48-4096-9fc9-8de8540b3463",
   "metadata": {},
   "outputs": [],
   "source": [
    "import time\n",
    "from fastapi import FastAPI\n",
    "from starlette.responses import StreamingResponse\n",
    "import nest_asyncio\n",
    "nest_asyncio.apply()\n",
    "app = FastAPI()\n",
    "import asyncio\n",
    "\n",
    "async def generate_data():\n",
    "\n",
    "\n",
    "\n",
    "    while True:\n",
    "        if yes==False:\n",
    "            await asyncio.sleep(0.01)\n",
    "        else:\n",
    "                \n",
    "            yield b\"100\\n\"\n",
    "            await asyncio.sleep(7)  # Continue sending True every 7 seconds\n",
    "async def yes():\n",
    "    global yes\n",
    "    yes = False\n",
    "    two_minutes = 60 * 2.5  # Convert minutes to seconds\n",
    "    \n",
    "    await asyncio.sleep(two_minutes)\n",
    "    yes = True\n",
    "@app.get(\"/stream\")\n",
    "async def stream_data():\n",
    "    return StreamingResponse(generate_data(), media_type=\"text/plain\")\n",
    "\n",
    "if __name__ == \"__main__\":\n",
    "    import uvicorn\n",
    "    asyncio.create_task(yes())\n",
    "    uvicorn.run(app, host=\"localhost\", port=9999)\n"
   ]
  }
 ],
 "metadata": {
  "kernelspec": {
   "display_name": "Python 3 (ipykernel)",
   "language": "python",
   "name": "python3"
  },
  "language_info": {
   "codemirror_mode": {
    "name": "ipython",
    "version": 3
   },
   "file_extension": ".py",
   "mimetype": "text/x-python",
   "name": "python",
   "nbconvert_exporter": "python",
   "pygments_lexer": "ipython3",
   "version": "3.10.5"
  }
 },
 "nbformat": 4,
 "nbformat_minor": 5
}
