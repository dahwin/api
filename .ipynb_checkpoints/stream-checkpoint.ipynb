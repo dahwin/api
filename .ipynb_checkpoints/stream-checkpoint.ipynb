{
 "cells": [
  {
   "cell_type": "code",
   "execution_count": 3,
   "id": "46a0d513-3a51-4b0a-8839-6a7cf51b9b6e",
   "metadata": {},
   "outputs": [
    {
     "name": "stderr",
     "output_type": "stream",
     "text": [
      "INFO:     Started server process [4912]\n",
      "INFO:     Waiting for application startup.\n",
      "INFO:     Application startup complete.\n",
      "INFO:     Uvicorn running on http://localhost:8000 (Press CTRL+C to quit)\n"
     ]
    },
    {
     "name": "stdout",
     "output_type": "stream",
     "text": [
      "INFO:     ::1:56716 - \"GET /stream HTTP/1.1\" 200 OK\n"
     ]
    },
    {
     "name": "stderr",
     "output_type": "stream",
     "text": [
      "INFO:     Shutting down\n",
      "INFO:     Waiting for connections to close. (CTRL+C to force quit)\n",
      "INFO:     Waiting for application shutdown.\n",
      "INFO:     Application shutdown complete.\n",
      "INFO:     Finished server process [4912]\n"
     ]
    }
   ],
   "source": [
    "import time\n",
    "from fastapi import FastAPI\n",
    "from starlette.responses import StreamingResponse\n",
    "import nest_asyncio\n",
    "nest_asyncio.apply()\n",
    "app = FastAPI()\n",
    "import asyncio\n",
    "@app.get(\"/stream\")\n",
    "async def stream_data():\n",
    "    async def generate():\n",
    "        while True:\n",
    "            yield b\"False\\n\"\n",
    "            await asyncio.sleep(7)\n",
    "\n",
    "    return StreamingResponse(generate(), media_type=\"text/plain\")\n",
    "\n",
    "if __name__ == \"__main__\":\n",
    "    import uvicorn\n",
    "    uvicorn.run(app, host=\"localhost\", port=8000)\n"
   ]
  },
  {
   "cell_type": "code",
   "execution_count": 3,
   "id": "be80b026-2f93-445c-b142-6abb6687a6ad",
   "metadata": {},
   "outputs": [
    {
     "name": "stderr",
     "output_type": "stream",
     "text": [
      "INFO:     Started server process [10600]\n",
      "INFO:     Waiting for application startup.\n",
      "INFO:     Application startup complete.\n",
      "INFO:     Uvicorn running on http://localhost:8000 (Press CTRL+C to quit)\n"
     ]
    },
    {
     "name": "stdout",
     "output_type": "stream",
     "text": [
      "INFO:     ::1:49828 - \"GET /stream HTTP/1.1\" 200 OK\n",
      "INFO:     ::1:49829 - \"GET /stream HTTP/1.1\" 200 OK\n"
     ]
    },
    {
     "name": "stderr",
     "output_type": "stream",
     "text": [
      "INFO:     Shutting down\n",
      "INFO:     Waiting for application shutdown.\n",
      "INFO:     Application shutdown complete.\n",
      "INFO:     Finished server process [10600]\n"
     ]
    }
   ],
   "source": [
    "import time\n",
    "from fastapi import FastAPI\n",
    "from starlette.responses import StreamingResponse\n",
    "import nest_asyncio\n",
    "nest_asyncio.apply()\n",
    "app = FastAPI()\n",
    "import asyncio\n",
    "\n",
    "async def generate_data():\n",
    "\n",
    "\n",
    "\n",
    "    while True:\n",
    "        # Initially yield False for 2 minutes\n",
    "        yield b\"False\\n\"\n",
    "        if yes==False:\n",
    "            await asyncio.sleep(0.01)\n",
    "        else:\n",
    "                \n",
    "            yield b\"True\\n\"\n",
    "            await asyncio.sleep(7)  # Continue sending True every 7 seconds\n",
    "async def yes():\n",
    "    global yes\n",
    "    yes = False\n",
    "    two_minutes = 60 * 2  # Convert minutes to seconds\n",
    "    \n",
    "    await asyncio.sleep(two_minutes)\n",
    "    yes = True\n",
    "@app.get(\"/stream\")\n",
    "async def stream_data():\n",
    "    return StreamingResponse(generate_data(), media_type=\"text/plain\")\n",
    "\n",
    "if __name__ == \"__main__\":\n",
    "    import uvicorn\n",
    "    asyncio.create_task(yes())\n",
    "    uvicorn.run(app, host=\"localhost\", port=8000)\n"
   ]
  },
  {
   "cell_type": "code",
   "execution_count": null,
   "id": "c2d9b5c3-ad48-4096-9fc9-8de8540b3463",
   "metadata": {},
   "outputs": [],
   "source": []
  }
 ],
 "metadata": {
  "kernelspec": {
   "display_name": "Python 3 (ipykernel)",
   "language": "python",
   "name": "python3"
  },
  "language_info": {
   "codemirror_mode": {
    "name": "ipython",
    "version": 3
   },
   "file_extension": ".py",
   "mimetype": "text/x-python",
   "name": "python",
   "nbconvert_exporter": "python",
   "pygments_lexer": "ipython3",
   "version": "3.10.5"
  }
 },
 "nbformat": 4,
 "nbformat_minor": 5
}
