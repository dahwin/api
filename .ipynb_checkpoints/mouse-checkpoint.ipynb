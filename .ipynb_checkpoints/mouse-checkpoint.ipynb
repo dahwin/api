{
 "cells": [
  {
   "cell_type": "code",
   "execution_count": 2,
   "id": "995cbb31-3305-4ec6-90f2-c0fca9c9437e",
   "metadata": {},
   "outputs": [],
   "source": [
    "import ctypes, win32gui, win32ui\n",
    "from PIL import Image, ImageGrab\n",
    "\n",
    "import time\n",
    "time.sleep(10)\n",
    "def get_cursor():\n",
    "    hcursor = win32gui.GetCursorInfo()[1]\n",
    "    hdc = win32ui.CreateDCFromHandle(win32gui.GetDC(0))\n",
    "    hbmp = win32ui.CreateBitmap()\n",
    "    hbmp.CreateCompatibleBitmap(hdc, 36, 36)\n",
    "    hdc = hdc.CreateCompatibleDC()\n",
    "    hdc.SelectObject(hbmp)\n",
    "    hdc.DrawIcon((0,0), hcursor)\n",
    "    \n",
    "    bmpinfo = hbmp.GetInfo()\n",
    "    bmpstr = hbmp.GetBitmapBits(True)\n",
    "    cursor = Image.frombuffer('RGB', (bmpinfo['bmWidth'], bmpinfo['bmHeight']), bmpstr, 'raw', 'BGRX', 0, 1).convert(\"RGBA\")\n",
    "    \n",
    "    win32gui.DestroyIcon(hcursor)    \n",
    "    win32gui.DeleteObject(hbmp.GetHandle())\n",
    "    hdc.DeleteDC()\n",
    "\n",
    "\n",
    "    pixdata = cursor.load()\n",
    "\n",
    "\n",
    "    width, height = cursor.size\n",
    "    for y in range(height):\n",
    "        for x in range(width):\n",
    "\n",
    "            if pixdata[x, y] == (0, 0, 0, 255):\n",
    "                pixdata[x, y] = (0, 0, 0, 0)\n",
    "\n",
    "\n",
    "    hotspot = win32gui.GetIconInfo(hcursor)[1:3]\n",
    "\n",
    "    return (cursor, hotspot)\n",
    "\n",
    "cursor, (hotspotx, hotspoty) = get_cursor()\n",
    "cursor.save(\"cursor.png\")\n",
    "\n",
    "\n",
    "ratio = ctypes.windll.shcore.GetScaleFactorForDevice(0) / 100\n",
    "\n",
    "img = ImageGrab.grab(bbox=None, include_layered_windows=True)\n",
    "\n",
    "pos_win = win32gui.GetCursorPos()\n",
    "pos = (round(pos_win[0]*ratio - hotspotx), round(pos_win[1]*ratio - hotspoty))\n",
    "\n",
    "\n",
    "img.paste(cursor, pos, cursor)\n",
    "\n",
    "img.save(\"screenshot.png\")"
   ]
  },
  {
   "cell_type": "code",
   "execution_count": 1,
   "id": "e633a147-a9b2-42cf-832b-c9d9d4d0eee9",
   "metadata": {},
   "outputs": [
    {
     "name": "stderr",
     "output_type": "stream",
     "text": [
      "t=2024-05-14T11:38:15+0600 lvl=warn msg=\"ngrok config file found at legacy location, move to XDG location\" xdg_path=\"C:\\\\Users\\\\ALL USER\\\\AppData\\\\Local/ngrok/ngrok.yml\" legacy_path=\"C:\\\\Users\\\\ALL USER\\\\.ngrok2\\\\ngrok.yml\"\n",
      "t=2024-05-14T11:38:15+0600 lvl=warn msg=\"can't bind default web address, trying alternatives\" obj=web addr=127.0.0.1:4040\n"
     ]
    },
    {
     "data": {
      "text/plain": [
       "<NgrokTunnel: \"https://77cc-27-147-206-228.ngrok-free.app\" -> \"http://localhost:9999\">"
      ]
     },
     "execution_count": 1,
     "metadata": {},
     "output_type": "execute_result"
    },
    {
     "name": "stderr",
     "output_type": "stream",
     "text": [
      "t=2024-05-14T12:29:40+0600 lvl=warn msg=\"failed to open private leg\" id=7110b53acbfd privaddr=localhost:9999 err=\"dial tcp [::1]:9999: connectex: No connection could be made because the target machine actively refused it.\"\n",
      "t=2024-05-14T12:29:41+0600 lvl=warn msg=\"failed to open private leg\" id=f207bb706daa privaddr=localhost:9999 err=\"dial tcp [::1]:9999: connectex: No connection could be made because the target machine actively refused it.\"\n",
      "t=2024-05-14T14:40:31+0600 lvl=eror msg=\"heartbeat timeout, terminating session\" obj=tunnels.session obj=csess id=6d9a26ea808d clientid=89d7e6dd86e3211daeb440396863a971\n",
      "t=2024-05-14T14:40:32+0600 lvl=eror msg=\"session closed, starting reconnect loop\" obj=tunnels.session obj=csess id=6802c67063ea err=\"session closed\"\n",
      "t=2024-05-14T14:40:32+0600 lvl=eror msg=\"failed to reconnect session\" obj=tunnels.session obj=csess id=6802c67063ea err=\"failed to dial ngrok server with address \\\"connect.us.ngrok-agent.com:443\\\": dial tcp: lookup connect.us.ngrok-agent.com: no such host\"\n",
      "t=2024-05-14T14:40:32+0600 lvl=eror msg=\"failed to reconnect session\" obj=tunnels.session obj=csess id=6802c67063ea err=\"failed to dial ngrok server with address \\\"connect.us.ngrok-agent.com:443\\\": dial tcp: lookup connect.us.ngrok-agent.com: no such host\"\n",
      "t=2024-05-14T14:40:33+0600 lvl=eror msg=\"failed to reconnect session\" obj=tunnels.session obj=csess id=6802c67063ea err=\"failed to dial ngrok server with address \\\"connect.us.ngrok-agent.com:443\\\": dial tcp: lookup connect.us.ngrok-agent.com: no such host\"\n"
     ]
    }
   ],
   "source": [
    "from pyngrok import ngrok\n",
    "\n",
    "# Setting an auth token allows us to open multiple\n",
    "# tunnels at the same time\n",
    "# ngrok.set_auth_token(\"2R1tsuod04ayFPLUINN1J0J5qpJ_89tdxKVwtCs9F7kvG1uhv\")\n",
    "# ngrok.set_auth_token(\"2YGG5TlGcsNjutkY1hua39OM2gv_7XdWGdMHeh6KY4AqMjGiD\")\n",
    "# ngrok.set_auth_token(\"2QWsRU60eUFpOOpFSSkHEqocwAv_2WW7UbufSLbszD94BLGzr\")\n",
    "ngrok.set_auth_token(\"2gQwyU3gU1voEKYokJHz2j5VC2i_5f648aT8ofikYc6wr2a64\")\n",
    "# <NgrokTunnel: \"http://<public_sub1>.ngrok.io\" -> \"http://localhost:80\">\n",
    "# <NgrokTunnel: \"http://<public_sub2>.ngrok.io\" -> \"http://localhost:8000\">\n",
    "\n",
    "# Start ngrok with the custom configuration file\n",
    "ngrok_tunnel2 = ngrok.connect(9999)\n",
    "ngrok_tunnel2"
   ]
  },
  {
   "cell_type": "code",
   "execution_count": null,
   "id": "189b7aa0-884e-4ce7-81ef-540c9c8649af",
   "metadata": {},
   "outputs": [
    {
     "name": "stderr",
     "output_type": "stream",
     "text": [
      "INFO:     Started server process [1196]\n",
      "INFO:     Waiting for application startup.\n",
      "INFO:     Application startup complete.\n",
      "INFO:     Uvicorn running on http://localhost:9999 (Press CTRL+C to quit)\n"
     ]
    },
    {
     "name": "stdout",
     "output_type": "stream",
     "text": [
      "INFO:     ::1:56188 - \"GET /stream HTTP/1.1\" 200 OK\n"
     ]
    }
   ],
   "source": [
    "import time\n",
    "from fastapi import FastAPI\n",
    "from starlette.responses import StreamingResponse\n",
    "import nest_asyncio\n",
    "nest_asyncio.apply()\n",
    "app = FastAPI()\n",
    "import asyncio\n",
    "\n",
    "async def generate_data():\n",
    "\n",
    "\n",
    "\n",
    "    while True:\n",
    "        if yes==False:\n",
    "            await asyncio.sleep(0.01)\n",
    "        else:\n",
    "                \n",
    "            yield b\"11\\n\"\n",
    "            await asyncio.sleep(7)  # Continue sending True every 7 seconds\n",
    "async def yes():\n",
    "    global yes\n",
    "    yes = False\n",
    "    two_minutes = 60 * 2.5  # Convert minutes to seconds\n",
    "    two_minutes = 60 * 0.1\n",
    "    await asyncio.sleep(two_minutes)\n",
    "    yes = True\n",
    "@app.get(\"/stream\")\n",
    "async def stream_data():\n",
    "    return StreamingResponse(generate_data(), media_type=\"text/plain\")\n",
    "\n",
    "if __name__ == \"__main__\":\n",
    "    import uvicorn\n",
    "    asyncio.create_task(yes())\n",
    "    uvicorn.run(app, host=\"localhost\", port=9999)\n"
   ]
  },
  {
   "cell_type": "code",
   "execution_count": null,
   "id": "1f393571-2a46-4232-b950-9886fe6c522e",
   "metadata": {},
   "outputs": [],
   "source": []
  }
 ],
 "metadata": {
  "kernelspec": {
   "display_name": "Python 3 (ipykernel)",
   "language": "python",
   "name": "python3"
  },
  "language_info": {
   "codemirror_mode": {
    "name": "ipython",
    "version": 3
   },
   "file_extension": ".py",
   "mimetype": "text/x-python",
   "name": "python",
   "nbconvert_exporter": "python",
   "pygments_lexer": "ipython3",
   "version": "3.10.5"
  }
 },
 "nbformat": 4,
 "nbformat_minor": 5
}
