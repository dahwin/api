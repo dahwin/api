{
 "cells": [
  {
   "cell_type": "code",
   "execution_count": 1,
   "id": "05f860b7-2ade-4acc-a10d-58c7d7b6e766",
   "metadata": {},
   "outputs": [],
   "source": [
    "from fastapi import FastAPI\n",
    "import uvicorn\n",
    "import nest_asyncio\n",
    "nest_asyncio.apply()"
   ]
  },
  {
   "cell_type": "code",
   "execution_count": 1,
   "id": "cd9c5ed8-b399-4514-bdbe-a29c4024ec77",
   "metadata": {},
   "outputs": [
    {
     "name": "stderr",
     "output_type": "stream",
     "text": [
      "t=2023-11-11T09:31:25+0600 lvl=warn msg=\"ngrok config file found at legacy location, move to XDG location\" xdg_path=\"C:\\\\Users\\\\ALL USER\\\\AppData\\\\Local/ngrok/ngrok.yml\" legacy_path=\"C:\\\\Users\\\\ALL USER\\\\.ngrok2\\\\ngrok.yml\"\n"
     ]
    },
    {
     "data": {
      "text/plain": [
       "<NgrokTunnel: \"https://12e6-27-147-202-139.ngrok-free.app\" -> \"http://localhost:8000\">"
      ]
     },
     "execution_count": 1,
     "metadata": {},
     "output_type": "execute_result"
    }
   ],
   "source": [
    "from pyngrok import ngrok\n",
    "\n",
    "# Setting an auth token allows us to open multiple\n",
    "# tunnels at the same time\n",
    "ngrok.set_auth_token(\"2R1tsuod04ayFPLUINN1J0J5qpJ_89tdxKVwtCs9F7kvG1uhv\")\n",
    "\n",
    "# <NgrokTunnel: \"http://<public_sub1>.ngrok.io\" -> \"http://localhost:80\">\n",
    "ngrok_tunnel1 = ngrok.connect()\n",
    "# <NgrokTunnel: \"http://<public_sub2>.ngrok.io\" -> \"http://localhost:8000\">\n",
    "\n",
    "# Start ngrok with the custom configuration file\n",
    "ngrok_tunnel2 = ngrok.connect(8000)\n",
    "ngrok_tunnel2"
   ]
  },
  {
   "cell_type": "code",
   "execution_count": 6,
   "id": "f09a7fdb-16d3-4eb6-b115-a83242c5150e",
   "metadata": {},
   "outputs": [
    {
     "name": "stderr",
     "output_type": "stream",
     "text": [
      "INFO:     Started server process [708]\n",
      "INFO:     Waiting for application startup.\n",
      "INFO:     Application startup complete.\n",
      "INFO:     Uvicorn running on http://127.0.0.1:8000 (Press CTRL+C to quit)\n"
     ]
    },
    {
     "name": "stdout",
     "output_type": "stream",
     "text": [
      "INFO:     127.0.0.1:64342 - \"POST /name HTTP/1.1\" 200 OK\n",
      "INFO:     127.0.0.1:64343 - \"POST /name HTTP/1.1\" 200 OK\n",
      "INFO:     127.0.0.1:64344 - \"POST /name HTTP/1.1\" 200 OK\n"
     ]
    },
    {
     "name": "stderr",
     "output_type": "stream",
     "text": [
      "INFO:     Shutting down\n",
      "INFO:     Waiting for application shutdown.\n",
      "INFO:     Application shutdown complete.\n",
      "INFO:     Finished server process [708]\n"
     ]
    }
   ],
   "source": [
    "from fastapi import FastAPI\n",
    "import uvicorn\n",
    "import nest_asyncio\n",
    "nest_asyncio.apply()\n",
    "\n",
    "dahwin = FastAPI()\n",
    "\n",
    "@dahwin.get('/')\n",
    "def index():\n",
    "    return {'Dahiwn Universe': 'Hello Everything!'}\n",
    "\n",
    "@dahwin.post('/name')\n",
    "def name(data: dict):\n",
    "    name = data.get('name')\n",
    "    return {'Your name': name}\n",
    "\n",
    "if __name__ == '__main__':\n",
    "    uvicorn.run(dahwin, host='127.0.0.1', port=8000)\n"
   ]
  },
  {
   "cell_type": "code",
   "execution_count": null,
   "id": "ec1f2fd1-9871-45fa-b5be-e438f763baf5",
   "metadata": {},
   "outputs": [
    {
     "name": "stderr",
     "output_type": "stream",
     "text": [
      "INFO:     Started server process [708]\n",
      "INFO:     Waiting for application startup.\n",
      "INFO:     Application startup complete.\n",
      "INFO:     Uvicorn running on http://127.0.0.1:8000 (Press CTRL+C to quit)\n"
     ]
    },
    {
     "name": "stdout",
     "output_type": "stream",
     "text": [
      "INFO:     27.147.202.136:0 - \"POST /name HTTP/1.1\" 200 OK\n",
      "INFO:     27.147.202.136:0 - \"POST /name HTTP/1.1\" 200 OK\n",
      "INFO:     127.0.0.1:64524 - \"POST /name HTTP/1.1\" 200 OK\n"
     ]
    }
   ],
   "source": [
    "from fastapi import FastAPI\n",
    "import uvicorn\n",
    "import nest_asyncio\n",
    "nest_asyncio.apply()\n",
    "\n",
    "dahwin = FastAPI()\n",
    "\n",
    "@dahwin.get('/')\n",
    "def index():\n",
    "    return {'Dahiwn Universe': 'Hello Everything!'}\n",
    "import torch\n",
    "def get_tensor():\n",
    "    x = torch.randn(1,3,4)\n",
    "    return x\n",
    "@dahwin.post('/name')\n",
    "def name(data: dict):\n",
    "    name = get_tensor()\n",
    "    return name\n",
    "\n",
    "if __name__ == '__main__':\n",
    "    uvicorn.run(dahwin, host='127.0.0.1', port=8000)"
   ]
  },
  {
   "cell_type": "code",
   "execution_count": null,
   "id": "1cb4e346-2dc8-4b6d-a627-80bcace48e9f",
   "metadata": {},
   "outputs": [],
   "source": []
  }
 ],
 "metadata": {
  "kernelspec": {
   "display_name": "Python 3 (ipykernel)",
   "language": "python",
   "name": "python3"
  },
  "language_info": {
   "codemirror_mode": {
    "name": "ipython",
    "version": 3
   },
   "file_extension": ".py",
   "mimetype": "text/x-python",
   "name": "python",
   "nbconvert_exporter": "python",
   "pygments_lexer": "ipython3",
   "version": "3.10.5"
  }
 },
 "nbformat": 4,
 "nbformat_minor": 5
}
