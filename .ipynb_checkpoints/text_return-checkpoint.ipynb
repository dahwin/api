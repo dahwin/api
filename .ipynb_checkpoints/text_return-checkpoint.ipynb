{
 "cells": [
  {
   "cell_type": "code",
   "execution_count": null,
   "id": "f49e8197-b081-419d-958f-5f3b31090ff1",
   "metadata": {},
   "outputs": [],
   "source": [
    "from fastapi import FastAPI\n",
    "import uvicorn\n",
    "import nest_asyncio\n",
    "nest_asyncio.apply()\n",
    "\n",
    "dahwin = FastAPI()\n",
    "\n",
    "@dahwin.get('/')\n",
    "def index():\n",
    "    return {'Dahiwn Universe': 'Hello Everything!'}\n",
    "\n",
    "@dahwin.post('/name')\n",
    "def name(data: dict):\n",
    "    name = data.get('name')\n",
    "    return name\n",
    "\n",
    "if __name__ == '__main__':\n",
    "    uvicorn.run(dahwin, host='127.0.0.1', port=8000)\n"
   ]
  },
  {
   "cell_type": "code",
   "execution_count": null,
   "id": "ed8e9616-385d-46c7-b31f-8e26f58d76e2",
   "metadata": {},
   "outputs": [],
   "source": [
    "import requests\n",
    "\n",
    "# Define the URL of your FastAPI application\n",
    "url = 'http://127.0.0.1:8000/name'\n",
    "\n",
    "# Define the data you want to post\n",
    "data = {'name': 'Dahwin'}  # Include the 'name' field in the JSON data\n",
    "\n",
    "# Send a POST request\n",
    "response = requests.post(url, json=data)\n",
    "\n",
    "# Print the response\n",
    "print(response.text)"
   ]
  }
 ],
 "metadata": {
  "kernelspec": {
   "display_name": "Python 3 (ipykernel)",
   "language": "python",
   "name": "python3"
  },
  "language_info": {
   "codemirror_mode": {
    "name": "ipython",
    "version": 3
   },
   "file_extension": ".py",
   "mimetype": "text/x-python",
   "name": "python",
   "nbconvert_exporter": "python",
   "pygments_lexer": "ipython3",
   "version": "3.10.5"
  }
 },
 "nbformat": 4,
 "nbformat_minor": 5
}
