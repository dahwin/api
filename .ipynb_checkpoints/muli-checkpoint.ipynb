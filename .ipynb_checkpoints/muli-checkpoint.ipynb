{
 "cells": [
  {
   "cell_type": "code",
   "execution_count": null,
   "id": "cfa2b3e3-1785-43dd-ae61-acd5bfea4dc6",
   "metadata": {},
   "outputs": [
    {
     "name": "stderr",
     "output_type": "stream",
     "text": [
      "INFO:     Started server process [32]\n",
      "INFO:     Waiting for application startup.\n",
      "INFO:     Application startup complete.\n",
      "INFO:     Uvicorn running on http://127.0.0.1:8000 (Press CTRL+C to quit)\n"
     ]
    },
    {
     "name": "stdout",
     "output_type": "stream",
     "text": [
      "INFO:     127.0.0.1:49839 - \"GET /video_feed HTTP/1.1\" 200 OK\n"
     ]
    }
   ],
   "source": [
    "from fastapi import FastAPI\n",
    "from starlette.responses import StreamingResponse\n",
    "import cv2\n",
    "import time\n",
    "import numpy as np\n",
    "import asyncio\n",
    "import threading\n",
    "import nest_asyncio\n",
    "nest_asyncio.apply()\n",
    "app = FastAPI()\n",
    "\n",
    "# Shared variables to store the latest frame and flag indicating frame change\n",
    "latest_frame = None\n",
    "frame_changed = False\n",
    "\n",
    "def generate_frames():\n",
    "    global latest_frame\n",
    "    global frame_changed\n",
    "    num_frames=0\n",
    "\n",
    "    url = \"http://localhost:3000/video_feed\"  # Update the URL if needed\n",
    "    cap = cv2.VideoCapture(url)\n",
    "    while True:\n",
    "        # Record start time of processing a frame\n",
    "        frame_start_time = time.time()\n",
    "        ret, frame = cap.read()\n",
    "\n",
    "        if ret:\n",
    "            \n",
    "            # Convert the frame to JPEG format for streaming\n",
    "            _, buffer = cv2.imencode('.jpg', frame)\n",
    "            num_frames += 1\n",
    "\n",
    "            latest_frame = buffer.tobytes()  # Update the latest frame\n",
    "            frame_changed = True\n",
    "\n",
    "            \n",
    "\n",
    "def start_frame_generation():\n",
    "    # Start the frame generation in a separate thread\n",
    "    threading.Thread(target=generate_frames, daemon=True).start()\n",
    "\n",
    "@app.get(\"/video_feed\")\n",
    "async def video_feed():\n",
    "    async def stream_frame():\n",
    "        global frame_changed\n",
    "\n",
    "        while True:\n",
    "            if frame_changed==True:  # Check if there's a latest frame available\n",
    "                yield (\n",
    "                    b'--frame\\r\\n'\n",
    "                    b'Content-Type: image/jpeg\\r\\n\\r\\n' + latest_frame + b'\\r\\n'\n",
    "                )\n",
    "                frame_changed = False\n",
    "            else:\n",
    "                await asyncio.sleep(0.02)  # If no latest frame available, wait for a short time\n",
    "\n",
    "    return StreamingResponse(stream_frame(), media_type=\"multipart/x-mixed-replace; boundary=frame\")\n",
    "\n",
    "if __name__ == \"__main__\":\n",
    "    start_frame_generation()  # Start frame generation in a separate thread\n",
    "    import uvicorn\n",
    "    uvicorn.run(app, host=\"127.0.0.1\", port=8000)\n"
   ]
  },
  {
   "cell_type": "code",
   "execution_count": null,
   "id": "5e71e219-a2a8-4025-9e2d-79dea236184d",
   "metadata": {},
   "outputs": [],
   "source": []
  }
 ],
 "metadata": {
  "kernelspec": {
   "display_name": "Python 3 (ipykernel)",
   "language": "python",
   "name": "python3"
  },
  "language_info": {
   "codemirror_mode": {
    "name": "ipython",
    "version": 3
   },
   "file_extension": ".py",
   "mimetype": "text/x-python",
   "name": "python",
   "nbconvert_exporter": "python",
   "pygments_lexer": "ipython3",
   "version": "3.10.5"
  }
 },
 "nbformat": 4,
 "nbformat_minor": 5
}
