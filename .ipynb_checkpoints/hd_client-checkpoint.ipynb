{
 "cells": [
  {
   "cell_type": "code",
   "execution_count": 2,
   "id": "433c299c-e9c0-47cd-9155-86bc5f132f3b",
   "metadata": {},
   "outputs": [
    {
     "name": "stdout",
     "output_type": "stream",
     "text": [
      "Mouse position: (546, 498)\n"
     ]
    }
   ],
   "source": [
    "import requests\n",
    "\n",
    "response = requests.get(\"http://localhost:8000/screenshot\")\n",
    "\n",
    "# Save the image\n",
    "with open(\"received_screenshot.png\", \"wb\") as f:\n",
    "    f.write(response.content)\n",
    "\n",
    "# Get the mouse position\n",
    "mouse_x = response.headers.get(\"Mouse-Position-X\")\n",
    "mouse_y = response.headers.get(\"Mouse-Position-Y\")\n",
    "\n",
    "print(f\"Mouse position: ({mouse_x}, {mouse_y})\")"
   ]
  },
  {
   "cell_type": "code",
   "execution_count": null,
   "id": "60b6966b-d189-430a-a6dc-6304b631f58b",
   "metadata": {},
   "outputs": [],
   "source": [
    "import requests\n",
    "from PIL import Image\n",
    "from io import BytesIO\n",
    "\n",
    "response = requests.get(\"http://localhost:3000/screenshot\")\n",
    "\n",
    "# Load the image into a PIL Image object\n",
    "screenshot = Image.open(BytesIO(response.content))\n",
    "\n",
    "# Get the mouse position\n",
    "mouse_x = response.headers.get(\"Mouse-Position-X\")\n",
    "mouse_y = response.headers.get(\"Mouse-Position-Y\")\n",
    "\n",
    "print(f\"Mouse position: ({mouse_x}, {mouse_y})\")\n",
    "\n",
    "# Now you can use the 'screenshot' variable, which is a PIL Image object\n",
    "# For example, you can display its size:\n",
    "print(f\"Image size: {screenshot.size}\")\n",
    "\n",
    "# Or you can still save it if needed:\n",
    "screenshot"
   ]
  }
 ],
 "metadata": {
  "kernelspec": {
   "display_name": "Python 3 (ipykernel)",
   "language": "python",
   "name": "python3"
  },
  "language_info": {
   "codemirror_mode": {
    "name": "ipython",
    "version": 3
   },
   "file_extension": ".py",
   "mimetype": "text/x-python",
   "name": "python",
   "nbconvert_exporter": "python",
   "pygments_lexer": "ipython3",
   "version": "3.10.5"
  }
 },
 "nbformat": 4,
 "nbformat_minor": 5
}
