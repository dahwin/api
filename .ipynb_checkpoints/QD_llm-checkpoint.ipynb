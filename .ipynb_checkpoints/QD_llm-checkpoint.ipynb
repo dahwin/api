{
 "cells": [
  {
   "cell_type": "code",
   "execution_count": 1,
   "id": "d09d8ade-0533-4cbe-885a-95381bc2dcc2",
   "metadata": {},
   "outputs": [],
   "source": [
    "from fastapi import FastAPI\n",
    "import uvicorn\n",
    "import nest_asyncio\n",
    "nest_asyncio.apply()"
   ]
  },
  {
   "cell_type": "code",
   "execution_count": 1,
   "id": "e26aa7f7-272a-4d30-abbd-179ec171393f",
   "metadata": {},
   "outputs": [
    {
     "name": "stderr",
     "output_type": "stream",
     "text": [
      "INFO:     Started server process [5108]\n",
      "INFO:     Waiting for application startup.\n",
      "INFO:     Application startup complete.\n",
      "INFO:     Uvicorn running on http://127.0.0.1:8000 (Press CTRL+C to quit)\n"
     ]
    },
    {
     "name": "stdout",
     "output_type": "stream",
     "text": [
      "False\n",
      "INFO:     127.0.0.1:51387 - \"POST /llm HTTP/1.1\" 200 OK\n"
     ]
    },
    {
     "name": "stderr",
     "output_type": "stream",
     "text": [
      "AVX = 1 | AVX2 = 0 | AVX512 = 0 | AVX512_VBMI = 0 | AVX512_VNNI = 0 | FMA = 0 | NEON = 0 | ARM_FMA = 0 | F16C = 0 | FP16_VA = 0 | WASM_SIMD = 0 | BLAS = 0 | SSE3 = 0 | SSSE3 = 0 | VSX = 0 | \n"
     ]
    },
    {
     "name": "stdout",
     "output_type": "stream",
     "text": [
      "user_prompthey who is kim dahyun?\n",
      "INFO:     127.0.0.1:51393 - \"POST /name HTTP/1.1\" 200 OK\n"
     ]
    },
    {
     "name": "stderr",
     "output_type": "stream",
     "text": [
      "INFO:     Shutting down\n",
      "INFO:     Waiting for application shutdown.\n",
      "INFO:     Application shutdown complete.\n",
      "INFO:     Finished server process [5108]\n"
     ]
    }
   ],
   "source": [
    "from fastapi import FastAPI\n",
    "import uvicorn\n",
    "import nest_asyncio\n",
    "import torch\n",
    "from llama_cpp import Llama\n",
    "nest_asyncio.apply()\n",
    "\n",
    "dahwin = FastAPI()\n",
    "\n",
    "@dahwin.get('/')\n",
    "def index():\n",
    "    return {'Dahwin Universe': 'Hello Everything!'}\n",
    "def run_llm(name):\n",
    "    global llm\n",
    "    path = fr\"C:\\Users\\ALL USER\\Desktop\\dahyun\\cpu_llm\\llama.cpp\\models\\{name}.gguf\"\n",
    "    try:\n",
    "        \n",
    "        if llm:\n",
    "            print(True)\n",
    "            print(f\"model {name}.gguf has been loaded\")\n",
    "            # llm = Llama(model_path=r\"C:\\Users\\ALL USER\\Desktop\\dahyun\\cpu_llm\\llama.cpp\\models\\zephyr-7b-alpha.Q2_K.gguf\", chat_format=\"llama-2\")\n",
    "            del llm\n",
    "            \n",
    "            llm = Llama(model_path=path,n_gpu_layers =35, chat_format=\"llama-2\")\n",
    "\n",
    "    except:\n",
    "        print(False)\n",
    "        llm = Llama(model_path=path,n_gpu_layers =35, chat_format=\"llama-2\")\n",
    "\n",
    "    # print(llm)\n",
    "    return True\n",
    "def get_token(name):\n",
    "    user_prompt =name\n",
    "    print(f\"user_prompt{user_prompt}\")\n",
    "    result = llm.create_chat_completion(\n",
    "          messages = [\n",
    "              {\"role\": \"system\", \"content\":  \"You are an assistant.\"},\n",
    "              {\n",
    "                  \"role\": \"user\",\n",
    "                  \"content\": f\"{user_prompt}\"\n",
    "              }\n",
    "          ]\n",
    "    )\n",
    "    ai_response = result['choices'][0]['message']['content']\n",
    "    return {'AI Response': ai_response}\n",
    "\n",
    "@dahwin.post('/name')\n",
    "def name(data: dict):\n",
    "    name = data.get('dahwin')\n",
    "    name = get_token(name)\n",
    "    return name\n",
    "@dahwin.post('/llm')\n",
    "def name(data: dict):\n",
    "    name = data.get('name')\n",
    "    name = run_llm(name)\n",
    "    return name\n",
    "if __name__ == '__main__':\n",
    "    uvicorn.run(dahwin, host='127.0.0.1', port=8000)"
   ]
  },
  {
   "cell_type": "code",
   "execution_count": 3,
   "id": "8d6eb0dc-0d6a-4fb9-9efb-61e1807368d3",
   "metadata": {},
   "outputs": [
    {
     "data": {
      "text/plain": [
       "{'na': 'all dahyun'}"
      ]
     },
     "execution_count": 3,
     "metadata": {},
     "output_type": "execute_result"
    }
   ],
   "source": [
    "param = 'dahyun'\n",
    "x = {'na':f\"all {param}\"}\n",
    "x"
   ]
  },
  {
   "cell_type": "code",
   "execution_count": 5,
   "id": "e922e979-2c75-470d-98e7-c81404c7ddc5",
   "metadata": {},
   "outputs": [],
   "source": [
    "del llm"
   ]
  },
  {
   "cell_type": "code",
   "execution_count": 1,
   "id": "d69ef2d0-9717-4290-b532-e999ef4d5a9a",
   "metadata": {},
   "outputs": [
    {
     "name": "stdout",
     "output_type": "stream",
     "text": [
      "False\n",
      "<llama_cpp.llama.Llama object at 0x000001656F321570>\n",
      "dahyun + <llama_cpp.llama.Llama object at 0x000001656F321570>\n"
     ]
    },
    {
     "name": "stderr",
     "output_type": "stream",
     "text": [
      "AVX = 1 | AVX2 = 0 | AVX512 = 0 | AVX512_VBMI = 0 | AVX512_VNNI = 0 | FMA = 0 | NEON = 0 | ARM_FMA = 0 | F16C = 0 | FP16_VA = 0 | WASM_SIMD = 0 | BLAS = 0 | SSE3 = 0 | SSSE3 = 0 | VSX = 0 | \n"
     ]
    }
   ],
   "source": [
    "from llama_cpp import Llama\n",
    "def run_llm(name):\n",
    "    global llm\n",
    "    try:\n",
    "        if llm:\n",
    "            print(True)\n",
    "            # llm = Llama(model_path=r\"C:\\Users\\ALL USER\\Desktop\\dahyun\\cpu_llm\\llama.cpp\\models\\zephyr-7b-alpha.Q2_K.gguf\", chat_format=\"llama-2\")\n",
    "            del llm\n",
    "            \n",
    "            llm = Llama(model_path=r\"C:\\Users\\ALL USER\\Desktop\\dahyun\\cpu_llm\\llama.cpp\\models\\zephyr-7b-alpha.Q2_K.gguf\", chat_format=\"llama-2\")\n",
    "    except:\n",
    "        print(False)\n",
    "        llm = Llama(model_path=r\"C:\\Users\\ALL USER\\Desktop\\dahyun\\cpu_llm\\llama.cpp\\models\\zephyr-7b-alpha.Q2_K.gguf\", chat_format=\"llama-2\")\n",
    "\n",
    "    print(llm)\n",
    "run_llm('gguf')\n",
    "\n",
    "def run(so):\n",
    "    n = f\"{so} + {llm}\"\n",
    "    print(n)\n",
    "run('dahyun') "
   ]
  },
  {
   "cell_type": "code",
   "execution_count": 16,
   "id": "eedf8a9f-e238-4cde-9861-784705aecaf7",
   "metadata": {},
   "outputs": [
    {
     "data": {
      "text/plain": [
       "'gguf'"
      ]
     },
     "execution_count": 16,
     "metadata": {},
     "output_type": "execute_result"
    }
   ],
   "source": [
    "llm"
   ]
  },
  {
   "cell_type": "code",
   "execution_count": 5,
   "id": "8ddbcbd0-d934-4705-89c1-f792adeaaf2a",
   "metadata": {},
   "outputs": [
    {
     "name": "stdout",
     "output_type": "stream",
     "text": [
      "no\n"
     ]
    }
   ],
   "source": [
    "def test(name):\n",
    "    global d\n",
    "    try:\n",
    "        if d==1:\n",
    "            d=1\n",
    "    except:\n",
    "        d = 0\n",
    "    if d ==0:\n",
    "        print('yes')\n",
    "        d+=1\n",
    "    else:\n",
    "\n",
    "        print('no')\n",
    "test('h')"
   ]
  },
  {
   "cell_type": "code",
   "execution_count": 4,
   "id": "d42df486-ffb5-4abd-89cf-56c934212cb2",
   "metadata": {},
   "outputs": [
    {
     "data": {
      "text/plain": [
       "1"
      ]
     },
     "execution_count": 4,
     "metadata": {},
     "output_type": "execute_result"
    }
   ],
   "source": [
    "d"
   ]
  },
  {
   "cell_type": "code",
   "execution_count": 2,
   "id": "995110a4-6a6d-4eeb-afbe-8735a9541436",
   "metadata": {},
   "outputs": [
    {
     "ename": "NameError",
     "evalue": "name 'dd' is not defined",
     "output_type": "error",
     "traceback": [
      "\u001b[1;31m---------------------------------------------------------------------------\u001b[0m",
      "\u001b[1;31mNameError\u001b[0m                                 Traceback (most recent call last)",
      "Cell \u001b[1;32mIn[2], line 2\u001b[0m\n\u001b[0;32m      1\u001b[0m \u001b[38;5;28;01mglobal\u001b[39;00m dd\n\u001b[1;32m----> 2\u001b[0m \u001b[38;5;28;01mif\u001b[39;00m \u001b[43mdd\u001b[49m:\n\u001b[0;32m      3\u001b[0m     \u001b[38;5;28mprint\u001b[39m(\u001b[38;5;28;01mTrue\u001b[39;00m)\n",
      "\u001b[1;31mNameError\u001b[0m: name 'dd' is not defined"
     ]
    }
   ],
   "source": [
    "global dd\n",
    "if dd:\n",
    "    print(True)"
   ]
  },
  {
   "cell_type": "code",
   "execution_count": 11,
   "id": "8db041fe-d895-41aa-8e09-0150e92c7587",
   "metadata": {},
   "outputs": [],
   "source": [
    "d = []"
   ]
  },
  {
   "cell_type": "code",
   "execution_count": 14,
   "id": "f434e591-7645-46c0-bf72-d43fe2b80dc0",
   "metadata": {},
   "outputs": [
    {
     "name": "stdout",
     "output_type": "stream",
     "text": [
      "True\n"
     ]
    }
   ],
   "source": [
    "if d:\n",
    "  print(True)\n",
    "else:\n",
    "    print(False)"
   ]
  },
  {
   "cell_type": "code",
   "execution_count": null,
   "id": "ab5191b5-a8ce-4cb7-8d67-de8f8b8f20d7",
   "metadata": {},
   "outputs": [],
   "source": [
    "from fastapi import FastAPI\n",
    "import uvicorn\n",
    "\n",
    "from llama_cpp import Llama\n",
    "\n",
    "\n",
    "dahwin = FastAPI()\n",
    "\n",
    "@dahwin.get('/')\n",
    "def index():\n",
    "    return {'Dahwin Universe': 'Hello Everything!'}\n",
    "def run_llm(name):\n",
    "    global llm\n",
    "    path = f\"/mnt/c/models/{name}.gguf\"\n",
    "    try:\n",
    "        \n",
    "        if llm:\n",
    "            print(True)\n",
    "            print(f\"model {name}.gguf has been loaded\")\n",
    "            # llm = Llama(model_path=r\"C:\\Users\\ALL USER\\Desktop\\dahyun\\cpu_llm\\llama.cpp\\models\\zephyr-7b-alpha.Q2_K.gguf\", chat_format=\"llama-2\")\n",
    "            del llm\n",
    "            \n",
    "            llm = Llama(model_path=path,n_gpu_layers =35, chat_format=\"llama-2\")\n",
    "\n",
    "    except:\n",
    "        print(False)\n",
    "        llm = Llama(model_path=r\"/mnt/c/Users/ALL USER/Desktop/dahyun/cpu_llm/llama.cpp/models/zephyr-7b-alpha.Q2_K.gguf\",n_gpu_layers =35, chat_format=\"llama-2\")\n",
    "\n",
    "    # print(llm)\n",
    "    return True\n",
    "def get_token(name):\n",
    "    user_prompt =name\n",
    "    print(f\"user_prompt{user_prompt}\")\n",
    "    result = llm.create_chat_completion(\n",
    "          messages = [\n",
    "              {\"role\": \"system\", \"content\":  \"You are an assistant.\"},\n",
    "              {\n",
    "                  \"role\": \"user\",\n",
    "                  \"content\": f\"{user_prompt}\"\n",
    "              }\n",
    "          ]\n",
    "    )\n",
    "    ai_response = result['choices'][0]['message']['content']\n",
    "    return {'AI Response': ai_response}\n",
    "\n",
    "@dahwin.post('/name')\n",
    "def name(data: dict):\n",
    "    name = data.get('dahwin')\n",
    "    name = get_token(name)\n",
    "    return name\n",
    "@dahwin.post('/llm')\n",
    "def name(data: dict):\n",
    "    name = data.get('name')\n",
    "    name = run_llm(name)\n",
    "    return name\n",
    "if __name__ == '__main__':\n",
    "    uvicorn.run(dahwin, host='127.0.0.1', port=8000)\n"
   ]
  }
 ],
 "metadata": {
  "kernelspec": {
   "display_name": "Python 3 (ipykernel)",
   "language": "python",
   "name": "python3"
  },
  "language_info": {
   "codemirror_mode": {
    "name": "ipython",
    "version": 3
   },
   "file_extension": ".py",
   "mimetype": "text/x-python",
   "name": "python",
   "nbconvert_exporter": "python",
   "pygments_lexer": "ipython3",
   "version": "3.10.5"
  }
 },
 "nbformat": 4,
 "nbformat_minor": 5
}
