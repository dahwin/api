{
 "cells": [
  {
   "cell_type": "code",
   "execution_count": null,
   "id": "254626e0-52ba-4f4d-94ae-dfd606b95377",
   "metadata": {},
   "outputs": [],
   "source": [
    "import torch\n",
    "import time\n",
    "count  = 0\n",
    "while True:\n",
    "    time.sleep(2)\n",
    "    \n",
    "    # Generate the random tensor\n",
    "    random_tensor = torch.randn(2, 1, 4)\n",
    "    \n",
    "    # Print the random tensor\n",
    "    print(random_tensor)\n",
    "    count+=1\n",
    "    if count>=5:\n",
    "        break\n",
    "        \n"
   ]
  },
  {
   "cell_type": "code",
   "execution_count": null,
   "id": "dcd364f6-091a-43da-879b-708f426d1786",
   "metadata": {},
   "outputs": [],
   "source": [
    "random_tensor = torch.randn(2, 1, 4)\n",
    "random_tensor"
   ]
  },
  {
   "cell_type": "code",
   "execution_count": null,
   "id": "bead5cc5-35e8-4106-8008-32501a47d9b1",
   "metadata": {},
   "outputs": [],
   "source": [
    "from pyngrok import ngrok\n",
    "\n",
    "# Setting an auth token allows us to open multiple\n",
    "# tunnels at the same time\n",
    "ngrok.set_auth_token(\"2R1tsuod04ayFPLUINN1J0J5qpJ_89tdxKVwtCs9F7kvG1uhv\")\n",
    "\n",
    "# <NgrokTunnel: \"http://<public_sub1>.ngrok.io\" -> \"http://localhost:80\">\n",
    "ngrok_tunnel1 = ngrok.connect()\n",
    "# <NgrokTunnel: \"http://<public_sub2>.ngrok.io\" -> \"http://localhost:8000\">\n",
    "\n",
    "# Start ngrok with the custom configuration file\n",
    "ngrok_tunnel2 = ngrok.connect(8000)\n",
    "ngrok_tunnel2"
   ]
  },
  {
   "cell_type": "code",
   "execution_count": null,
   "id": "18e07531-edfd-4ad4-b50b-2699607fefba",
   "metadata": {},
   "outputs": [],
   "source": [
    "from fastapi import FastAPI\n",
    "import uvicorn\n",
    "import nest_asyncio\n",
    "import torch\n",
    "\n",
    "nest_asyncio.apply()\n",
    "\n",
    "dahwin = FastAPI()\n",
    "\n",
    "def get_token(shape):\n",
    "    # Generate the random tensor\n",
    "    random_tensor = torch.randn(shape)\n",
    "    return random_tensor.tolist()  # Convert tensor to list for JSON serialization\n",
    "\n",
    "@dahwin.post('/name')\n",
    "def name(data: dict):\n",
    "    name = data.get('dahwin')\n",
    "    name = get_token(name)\n",
    "    return name\n",
    "\n",
    "if __name__ == '__main__':\n",
    "    uvicorn.run(dahwin, host='localhost', port=8000)\n"
   ]
  },
  {
   "cell_type": "code",
   "execution_count": null,
   "id": "66de1c97-029f-444d-9c29-b0f86f44f93c",
   "metadata": {},
   "outputs": [],
   "source": [
    "from fastapi import FastAPI\n",
    "import uvicorn\n",
    "import nest_asyncio\n",
    "import torch\n",
    "import time\n",
    "nest_asyncio.apply()\n",
    "\n",
    "dahwin = FastAPI()\n",
    "\n",
    "def get_token(shape):\n",
    "    \n",
    "    count  = 0\n",
    "    while True:\n",
    "        time.sleep(2)\n",
    "        \n",
    "        # Generate the random tensor\n",
    "        random_tensor = torch.randn(2, 1, 4)\n",
    "        \n",
    "        # Print the random tensor\n",
    "        print(random_tensor)\n",
    "        count+=1\n",
    "        if count>=5:\n",
    "            break\n",
    "            \n",
    "    return random_tensor.tolist()  # Convert tensor to list for JSON serialization\n",
    "\n",
    "@dahwin.post('/name')\n",
    "def name(data: dict):\n",
    "    name = data.get('dahwin')\n",
    "    name = get_token(name)\n",
    "    return name\n",
    "\n",
    "if __name__ == '__main__':\n",
    "    uvicorn.run(dahwin, host='localhost', port=8000)\n"
   ]
  },
  {
   "cell_type": "code",
   "execution_count": null,
   "id": "eecc2be1-75a6-43ef-9059-bb5e83097b1f",
   "metadata": {},
   "outputs": [
    {
     "name": "stderr",
     "output_type": "stream",
     "text": [
      "INFO:     Started server process [4896]\n",
      "INFO:     Waiting for application startup.\n",
      "INFO:     Application startup complete.\n",
      "INFO:     Uvicorn running on http://localhost:8000 (Press CTRL+C to quit)\n"
     ]
    },
    {
     "name": "stdout",
     "output_type": "stream",
     "text": [
      "INFO:     ::1:64707 - \"POST /stream HTTP/1.1\" 200 OK\n"
     ]
    }
   ],
   "source": [
    "from fastapi import FastAPI, Response\n",
    "from starlette.responses import StreamingResponse  # Import StreamingResponse from starlette module\n",
    "import uvicorn\n",
    "import nest_asyncio\n",
    "import torch\n",
    "import time\n",
    "import json\n",
    "\n",
    "nest_asyncio.apply()\n",
    "\n",
    "dahwin = FastAPI()\n",
    "\n",
    "def generate_tensor(shape):\n",
    "    # Generate the random tensor\n",
    "    random_tensor = torch.randn(shape)\n",
    "    return random_tensor.tolist()  # Convert tensor to list for JSON serialization\n",
    "\n",
    "@dahwin.post('/stream')\n",
    "async def stream_data(data: dict):\n",
    "    shape = data.get('shape', [2, 1, 4])  # Default shape if not provided\n",
    "    count = data.get('count', 5)  # Default count if not provided\n",
    "    \n",
    "    async def event_generator():\n",
    "        for _ in range(count):\n",
    "            tensor_data = generate_tensor(shape)\n",
    "            yield json.dumps(tensor_data) + '\\n'\n",
    "            # time.sleep(2)  # Delay for 2 seconds before sending the next tensor\n",
    "    \n",
    "    return StreamingResponse(event_generator(), media_type=\"text/plain\")\n",
    "\n",
    "if __name__ == '__main__':\n",
    "    uvicorn.run(dahwin, host='localhost', port=8000)\n"
   ]
  },
  {
   "cell_type": "code",
   "execution_count": null,
   "id": "7035db4b-5245-421d-8c17-d03cf64e7951",
   "metadata": {},
   "outputs": [
    {
     "name": "stderr",
     "output_type": "stream",
     "text": [
      "INFO:     Started server process [20368]\n",
      "INFO:     Waiting for application startup.\n",
      "INFO:     Application startup complete.\n",
      "INFO:     Uvicorn running on http://localhost:8000 (Press CTRL+C to quit)\n"
     ]
    },
    {
     "name": "stdout",
     "output_type": "stream",
     "text": [
      "INFO:     ::1:60476 - \"GET /video_feed HTTP/1.1\" 200 OK\n",
      "INFO:     ::1:53624 - \"GET /video_feed HTTP/1.1\" 200 OK\n",
      "INFO:     ::1:53629 - \"GET /video_feed HTTP/1.1\" 200 OK\n",
      "INFO:     ::1:53640 - \"GET /video_feed HTTP/1.1\" 200 OK\n",
      "INFO:     ::1:53642 - \"GET /video_feed HTTP/1.1\" 200 OK\n",
      "INFO:     ::1:53647 - \"GET /video_feed HTTP/1.1\" 200 OK\n",
      "INFO:     ::1:53652 - \"GET /video_feed HTTP/1.1\" 200 OK\n",
      "INFO:     ::1:53656 - \"GET /video_feed HTTP/1.1\" 200 OK\n",
      "INFO:     ::1:53688 - \"GET /video_feed HTTP/1.1\" 200 OK\n",
      "INFO:     ::1:53694 - \"GET /video_feed HTTP/1.1\" 200 OK\n",
      "INFO:     ::1:53702 - \"GET /video_feed HTTP/1.1\" 200 OK\n",
      "INFO:     ::1:53704 - \"GET /video_feed HTTP/1.1\" 200 OK\n",
      "INFO:     ::1:53707 - \"GET /video_feed HTTP/1.1\" 200 OK\n",
      "INFO:     ::1:53712 - \"GET /video_feed HTTP/1.1\" 200 OK\n"
     ]
    }
   ],
   "source": [
    "from fastapi import FastAPI\n",
    "from starlette.responses import StreamingResponse\n",
    "import cv2\n",
    "import nest_asyncio\n",
    "\n",
    "nest_asyncio.apply()\n",
    "\n",
    "app = FastAPI()\n",
    "\n",
    "def generate_frames():\n",
    "    cap = cv2.VideoCapture(r\"C:\\Users\\ALL USER\\Desktop\\e\\website\\api\\fancy.mp4\")\n",
    "    fps = cap.get(cv2.CAP_PROP_FPS)\n",
    "\n",
    "    while True:\n",
    "        ret, frame = cap.read()\n",
    "\n",
    "        if not ret:\n",
    "            break\n",
    "\n",
    "        # Encode frame as JPEG image\n",
    "        _, buffer = cv2.imencode('.jpg', frame)\n",
    "\n",
    "        # Yield encoded frame\n",
    "        yield (b'--frame\\r\\n'\n",
    "               b'Content-Type: image/jpeg\\r\\n\\r\\n' + buffer.tobytes() + b'\\r\\n')\n",
    "\n",
    "    cap.release()\n",
    "\n",
    "@app.get(\"/video_feed\")\n",
    "async def video_feed():\n",
    "    return StreamingResponse(generate_frames(), media_type=\"multipart/x-mixed-replace; boundary=frame\")\n",
    "\n",
    "if __name__ == \"__main__\":\n",
    "    import uvicorn\n",
    "    uvicorn.run(app, host=\"localhost\", port=8000)\n"
   ]
  },
  {
   "cell_type": "code",
   "execution_count": null,
   "id": "516aaf06-fa2b-4e1d-86cb-351e4129a2a9",
   "metadata": {},
   "outputs": [
    {
     "name": "stderr",
     "output_type": "stream",
     "text": [
      "INFO:     Started server process [23512]\n",
      "INFO:     Waiting for application startup.\n",
      "INFO:     Application startup complete.\n",
      "INFO:     Uvicorn running on http://localhost:8000 (Press CTRL+C to quit)\n"
     ]
    },
    {
     "name": "stdout",
     "output_type": "stream",
     "text": [
      "INFO:     ::1:53058 - \"GET /video_feed HTTP/1.1\" 200 OK\n",
      "INFO:     ::1:53067 - \"GET /video_feed HTTP/1.1\" 200 OK\n"
     ]
    }
   ],
   "source": [
    "from fastapi import FastAPI\n",
    "from starlette.responses import StreamingResponse\n",
    "import cv2\n",
    "import time\n",
    "import uvicorn\n",
    "import nest_asyncio\n",
    "\n",
    "nest_asyncio.apply()\n",
    "app = FastAPI()\n",
    "\n",
    "def generate_frames():\n",
    "    cap = cv2.VideoCapture(r\"C:\\Users\\ALL USER\\Desktop\\e\\website\\api\\fancy.mp4\")\n",
    "    fps = cap.get(cv2.CAP_PROP_FPS)\n",
    "\n",
    "    while True:\n",
    "        ret, frame = cap.read()\n",
    "\n",
    "        if not ret:\n",
    "            break\n",
    "\n",
    "        frame_index = cap.get(cv2.CAP_PROP_POS_FRAMES)\n",
    "        if frame_index % fps < 10:\n",
    "            _, buffer = cv2.imencode('.jpg', frame)\n",
    "            yield (b'--frame\\r\\n'\n",
    "                   b'Content-Type: image/jpeg\\r\\n\\r\\n' + buffer.tobytes() + b'\\r\\n')\n",
    "\n",
    "    cap.release()\n",
    "\n",
    "@app.get(\"/video_feed\")\n",
    "async def video_feed():\n",
    "    return StreamingResponse(generate_frames(), media_type=\"multipart/x-mixed-replace; boundary=frame\")\n",
    "\n",
    "if __name__ == \"__main__\":\n",
    "    uvicorn.run(app, host=\"localhost\", port=8000)\n"
   ]
  },
  {
   "cell_type": "code",
   "execution_count": null,
   "id": "c5924ff2-64dd-4a5f-92e0-ac7bc09cba6a",
   "metadata": {},
   "outputs": [
    {
     "name": "stderr",
     "output_type": "stream",
     "text": [
      "INFO:     Started server process [6720]\n",
      "INFO:     Waiting for application startup.\n",
      "INFO:     Application startup complete.\n",
      "INFO:     Uvicorn running on http://localhost:8000 (Press CTRL+C to quit)\n"
     ]
    },
    {
     "name": "stdout",
     "output_type": "stream",
     "text": [
      "INFO:     ::1:53223 - \"GET /video_feed HTTP/1.1\" 200 OK\n"
     ]
    }
   ],
   "source": [
    "from fastapi import FastAPI\n",
    "from starlette.responses import StreamingResponse\n",
    "import cv2\n",
    "import time\n",
    "import uvicorn\n",
    "import nest_asyncio\n",
    "\n",
    "nest_asyncio.apply()\n",
    "app = FastAPI()\n",
    "\n",
    "def generate_frames():\n",
    "    cap = cv2.VideoCapture(r\"C:\\Users\\ALL USER\\Desktop\\e\\website\\api\\fancy.mp4\")\n",
    "    fps = cap.get(cv2.CAP_PROP_FPS)\n",
    "\n",
    "    while True:\n",
    "        ret, frame = cap.read()\n",
    "\n",
    "        if not ret:\n",
    "            break\n",
    "\n",
    "        frame_index = cap.get(cv2.CAP_PROP_POS_FRAMES)\n",
    "        if frame_index % fps < 10:\n",
    "            _, buffer = cv2.imencode('.jpg', frame)\n",
    "            yield (b'--frame\\r\\n'\n",
    "                   b'Content-Type: image/jpeg\\r\\n\\r\\n' + buffer.tobytes() + b'\\r\\n')\n",
    "        \n",
    "        # Add a delay to display each frame for 20 milliseconds\n",
    "        cv2.waitKey(20)\n",
    "\n",
    "    cap.release()\n",
    "\n",
    "@app.get(\"/video_feed\")\n",
    "async def video_feed():\n",
    "    return StreamingResponse(generate_frames(), media_type=\"multipart/x-mixed-replace; boundary=frame\")\n",
    "\n",
    "if __name__ == \"__main__\":\n",
    "    uvicorn.run(app, host=\"localhost\", port=8000)\n"
   ]
  },
  {
   "cell_type": "code",
   "execution_count": null,
   "id": "b5039a5f-7515-484f-9fcb-0ecd6ebee12d",
   "metadata": {},
   "outputs": [
    {
     "name": "stderr",
     "output_type": "stream",
     "text": [
      "INFO:     Started server process [18020]\n",
      "INFO:     Waiting for application startup.\n",
      "INFO:     Application startup complete.\n",
      "INFO:     Uvicorn running on http://localhost:8000 (Press CTRL+C to quit)\n"
     ]
    },
    {
     "name": "stdout",
     "output_type": "stream",
     "text": [
      "INFO:     ::1:57731 - \"GET /video_feed HTTP/1.1\" 200 OK\n",
      "INFO:     ::1:57737 - \"GET /video_feed HTTP/1.1\" 200 OK\n"
     ]
    }
   ],
   "source": [
    "from fastapi import FastAPI\n",
    "from starlette.responses import StreamingResponse\n",
    "import cv2\n",
    "import time\n",
    "import uvicorn\n",
    "import nest_asyncio\n",
    "from win32api import GetSystemMetrics\n",
    "import numpy as np\n",
    "from PIL import ImageGrab\n",
    "import datetime\n",
    "\n",
    "nest_asyncio.apply()\n",
    "app = FastAPI()\n",
    "\n",
    "def generate_frames():\n",
    "    width = GetSystemMetrics(0)\n",
    "    height = GetSystemMetrics(1)\n",
    "    fps = 10  # Assuming 10 frames per second\n",
    "    \n",
    "    frame_count = 0  # Initialize frame_count\n",
    "    \n",
    "    while True:\n",
    "        img = ImageGrab.grab()  # Capture the screen\n",
    "        img = np.array(img)\n",
    "        img_final = cv2.cvtColor(img, cv2.COLOR_BGR2RGB)\n",
    "        \n",
    "        # Increment frame count\n",
    "        frame_count += 1\n",
    "        \n",
    "        # Capture and stream every 10th frame\n",
    "        if frame_count % fps < 10:\n",
    "            # Convert the frame to JPEG format for streaming\n",
    "            _, buffer = cv2.imencode('.jpg', img_final)\n",
    "            yield (b'--frame\\r\\n'\n",
    "                   b'Content-Type: image/jpeg\\r\\n\\r\\n' + buffer.tobytes() + b'\\r\\n')\n",
    "        \n",
    "        # Add a delay to capture and stream each frame\n",
    "        cv2.waitKey(10)\n",
    "\n",
    "@app.get(\"/video_feed\")\n",
    "async def video_feed():\n",
    "    return StreamingResponse(generate_frames(), media_type=\"multipart/x-mixed-replace; boundary=frame\")\n",
    "\n",
    "if __name__ == \"__main__\":\n",
    "    uvicorn.run(app, host=\"localhost\", port=8000)\n"
   ]
  },
  {
   "cell_type": "code",
   "execution_count": 1,
   "id": "98fc197b-8363-4bad-a7ff-03f70f8bc5c0",
   "metadata": {},
   "outputs": [
    {
     "name": "stderr",
     "output_type": "stream",
     "text": [
      "INFO:     Started server process [15968]\n",
      "INFO:     Waiting for application startup.\n",
      "INFO:     Application startup complete.\n",
      "INFO:     Uvicorn running on http://localhost:8000 (Press CTRL+C to quit)\n"
     ]
    },
    {
     "name": "stdout",
     "output_type": "stream",
     "text": [
      "INFO:     ::1:60981 - \"GET /video_feed HTTP/1.1\" 200 OK\n"
     ]
    },
    {
     "name": "stderr",
     "output_type": "stream",
     "text": [
      "INFO:     Shutting down\n",
      "INFO:     Waiting for application shutdown.\n",
      "INFO:     Application shutdown complete.\n",
      "INFO:     Finished server process [15968]\n"
     ]
    }
   ],
   "source": [
    "from fastapi import FastAPI\n",
    "from starlette.responses import StreamingResponse\n",
    "import cv2\n",
    "import time\n",
    "import uvicorn\n",
    "import nest_asyncio\n",
    "from win32api import GetSystemMetrics\n",
    "import numpy as np\n",
    "from PIL import ImageGrab\n",
    "import datetime\n",
    "\n",
    "nest_asyncio.apply()\n",
    "app = FastAPI()\n",
    "\n",
    "def generate_frames():\n",
    "    width = GetSystemMetrics(0)\n",
    "    height = GetSystemMetrics(1)\n",
    "    fps = 10  # Assuming 10 frames per second\n",
    "    \n",
    "    frame_count = 0  # Initialize frame_count\n",
    "    extracted_F= 5\n",
    "    while True:\n",
    "        img = ImageGrab.grab()  # Capture the screen\n",
    "        img = np.array(img)\n",
    "        img_final = cv2.cvtColor(img, cv2.COLOR_BGR2RGB)\n",
    "        \n",
    "        # Increment frame count\n",
    "        frame_count += 1\n",
    "        res = frame_count % fps\n",
    "        d = fps/extracted_F\n",
    "        if res%d==0.0:\n",
    "            # Convert the frame to JPEG format for streaming\n",
    "            _, buffer = cv2.imencode('.jpg', img_final)\n",
    "            yield (b'--frame\\r\\n'\n",
    "                   b'Content-Type: image/jpeg\\r\\n\\r\\n' + buffer.tobytes() + b'\\r\\n')\n",
    "        \n",
    "        # Add a delay to capture and stream each frame\n",
    "        cv2.waitKey(10)\n",
    "\n",
    "@app.get(\"/video_feed\")\n",
    "async def video_feed():\n",
    "    return StreamingResponse(generate_frames(), media_type=\"multipart/x-mixed-replace; boundary=frame\")\n",
    "\n",
    "if __name__ == \"__main__\":\n",
    "    uvicorn.run(app, host=\"localhost\", port=8000)\n"
   ]
  },
  {
   "cell_type": "code",
   "execution_count": null,
   "id": "ef3dc01c-0fad-430e-88ab-f77be625967e",
   "metadata": {},
   "outputs": [
    {
     "name": "stderr",
     "output_type": "stream",
     "text": [
      "INFO:     Started server process [6592]\n",
      "INFO:     Waiting for application startup.\n",
      "INFO:     Application startup complete.\n",
      "INFO:     Uvicorn running on http://localhost:8000 (Press CTRL+C to quit)\n"
     ]
    }
   ],
   "source": [
    "from fastapi import FastAPI\n",
    "from starlette.responses import StreamingResponse\n",
    "import cv2\n",
    "import time\n",
    "import uvicorn\n",
    "import nest_asyncio\n",
    "from win32api import GetSystemMetrics\n",
    "import numpy as np\n",
    "from PIL import ImageGrab\n",
    "import datetime\n",
    "\n",
    "nest_asyncio.apply()\n",
    "app = FastAPI()\n",
    "\n",
    "def generate_frames():\n",
    "    width = GetSystemMetrics(0)\n",
    "    height = GetSystemMetrics(1)\n",
    "    fps = 10  # Assuming 10 frames per second\n",
    "    \n",
    "    frame_count = 0  # Initialize frame_count\n",
    "    extracted_F= 10\n",
    "    while True:\n",
    "        img = ImageGrab.grab()  # Capture the screen\n",
    "        img = np.array(img)\n",
    "        img_final = cv2.cvtColor(img, cv2.COLOR_BGR2RGB)\n",
    "\n",
    "        # Increment frame count\n",
    "        frame_count += 1\n",
    "        res = frame_count % fps\n",
    "        d = fps/extracted_F\n",
    "        if res%d==0.0:\n",
    "            # Resize the frame to 480p resolution\n",
    "            img_final = cv2.resize(img_final, (854, 480))  # 480p resolution is 854x480\n",
    "            \n",
    "            # Convert the frame to JPEG format for streaming\n",
    "            _, buffer = cv2.imencode('.jpg', img_final)\n",
    "            yield (b'--frame\\r\\n'\n",
    "                   b'Content-Type: image/jpeg\\r\\n\\r\\n' + buffer.tobytes() + b'\\r\\n')\n",
    "        \n",
    "        # Add a delay to capture and stream each frame\n",
    "        cv2.waitKey(10)\n",
    "\n",
    "@app.get(\"/video_feed\")\n",
    "async def video_feed():\n",
    "    return StreamingResponse(generate_frames(), media_type=\"multipart/x-mixed-replace; boundary=frame\")\n",
    "\n",
    "if __name__ == \"__main__\":\n",
    "    uvicorn.run(app, host=\"localhost\", port=8000)\n"
   ]
  },
  {
   "cell_type": "code",
   "execution_count": 2,
   "id": "61836c09-be0d-40ef-a730-a8c52ded792c",
   "metadata": {},
   "outputs": [
    {
     "name": "stderr",
     "output_type": "stream",
     "text": [
      "INFO:     Started server process [5852]\n",
      "INFO:     Waiting for application startup.\n",
      "INFO:     Application startup complete.\n",
      "INFO:     Uvicorn running on http://localhost:8000 (Press CTRL+C to quit)\n"
     ]
    },
    {
     "name": "stdout",
     "output_type": "stream",
     "text": [
      "INFO:     ::1:55281 - \"GET /video_feed HTTP/1.1\" 200 OK\n",
      "INFO:     ::1:55285 - \"GET /video_feed HTTP/1.1\" 200 OK\n"
     ]
    },
    {
     "name": "stderr",
     "output_type": "stream",
     "text": [
      "INFO:     Shutting down\n",
      "INFO:     Waiting for application shutdown.\n",
      "INFO:     Application shutdown complete.\n",
      "INFO:     Finished server process [5852]\n"
     ]
    }
   ],
   "source": [
    "from fastapi import FastAPI, BackgroundTasks\n",
    "from starlette.responses import StreamingResponse\n",
    "import cv2\n",
    "import time\n",
    "import uvicorn\n",
    "import nest_asyncio\n",
    "from win32api import GetSystemMetrics\n",
    "import numpy as np\n",
    "from PIL import ImageGrab\n",
    "import datetime\n",
    "\n",
    "nest_asyncio.apply()\n",
    "app = FastAPI()\n",
    "\n",
    "def generate_frames():\n",
    "    width = GetSystemMetrics(0)\n",
    "    height = GetSystemMetrics(1)\n",
    "    fps = 10  # Assuming 10 frames per second\n",
    "    \n",
    "    frame_count = 0  # Initialize frame_count\n",
    "    extracted_F = 5\n",
    "    \n",
    "    while True:\n",
    "        img = ImageGrab.grab()  # Capture the screen\n",
    "        img = np.array(img)\n",
    "        img_final = cv2.cvtColor(img, cv2.COLOR_BGR2RGB)\n",
    "        \n",
    "        # Increment frame count\n",
    "        frame_count += 1\n",
    "        res = frame_count % fps\n",
    "        d = fps / extracted_F\n",
    "        if res % d == 0:\n",
    "            yield img_final  # Yield the numpy array directly\n",
    "        \n",
    "        # Add a delay to capture and stream each frame\n",
    "        cv2.waitKey(10)\n",
    "\n",
    "@app.get(\"/video_feed\")\n",
    "async def video_feed():\n",
    "    return StreamingResponse((cv2.imencode('.jpg', frame)[1].tobytes() for frame in generate_frames()),\n",
    "                            media_type=\"multipart/x-mixed-replace; boundary=frame\")\n",
    "\n",
    "if __name__ == \"__main__\":\n",
    "    uvicorn.run(app, host=\"localhost\", port=8000)\n"
   ]
  },
  {
   "cell_type": "code",
   "execution_count": null,
   "id": "54b2099c-0314-4299-b10f-234a05e10709",
   "metadata": {},
   "outputs": [],
   "source": []
  }
 ],
 "metadata": {
  "kernelspec": {
   "display_name": "Python 3 (ipykernel)",
   "language": "python",
   "name": "python3"
  },
  "language_info": {
   "codemirror_mode": {
    "name": "ipython",
    "version": 3
   },
   "file_extension": ".py",
   "mimetype": "text/x-python",
   "name": "python",
   "nbconvert_exporter": "python",
   "pygments_lexer": "ipython3",
   "version": "3.10.5"
  }
 },
 "nbformat": 4,
 "nbformat_minor": 5
}
