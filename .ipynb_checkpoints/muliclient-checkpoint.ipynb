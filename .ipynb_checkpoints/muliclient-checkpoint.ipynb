{
 "cells": [
  {
   "cell_type": "code",
   "execution_count": 5,
   "id": "c4e0b09e-0c91-4a29-9f9a-9cbb67f4380f",
   "metadata": {},
   "outputs": [
    {
     "name": "stdout",
     "output_type": "stream",
     "text": [
      "Overwriting client.py\n"
     ]
    }
   ],
   "source": [
    "%%writefile client.py\n",
    "\n",
    "\n",
    "import cv2\n",
    "import os\n",
    "import time\n",
    "import threading\n",
    "time.sleep(1)\n",
    "\n",
    "url =  \"http://127.0.0.1:3000/video_feed\"\n",
    "\n",
    "# Initialize VideoCapture object\n",
    "cap = cv2.VideoCapture(url)\n",
    "\n",
    "# Get the default frame size\n",
    "frame_width = int(cap.get(cv2.CAP_PROP_FRAME_WIDTH))\n",
    "frame_height = int(cap.get(cv2.CAP_PROP_FRAME_HEIGHT))\n",
    "\n",
    "# Define the codec and create VideoWriter object\n",
    "fourcc = cv2.VideoWriter_fourcc(*'XVID')\n",
    "out = cv2.VideoWriter('output.avi', fourcc, 3.6, (frame_width, frame_height))\n",
    "\n",
    "# Function to continuously read frames and write them to the output video\n",
    "def read_frames():\n",
    "    frame_count = 0\n",
    "    start_time = time.time()\n",
    "    while frame_count < 100:\n",
    "        ret, frame = cap.read()\n",
    "        if ret:\n",
    "            frame_count += 1\n",
    "            out.write(frame)\n",
    "        else:\n",
    "            print(\"Error reading frame\")\n",
    "            break\n",
    "    end_time = time.time()\n",
    "    elapsed_time = end_time - start_time\n",
    "    print(\"Time taken to get 100 frames:\", elapsed_time, \"seconds\")\n",
    "\n",
    "# Start reading frames in a separate thread\n",
    "frame_thread = threading.Thread(target=read_frames)\n",
    "frame_thread.start()\n",
    "\n",
    "# Wait for the frame thread to finish\n",
    "frame_thread.join()\n",
    "\n",
    "# Release everything when done\n",
    "cap.release()\n",
    "out.release()\n",
    "cv2.destroyAllWindows()\n"
   ]
  },
  {
   "cell_type": "code",
   "execution_count": 6,
   "id": "9be2a107-6c68-4a8a-a24a-9baf1111d147",
   "metadata": {},
   "outputs": [
    {
     "name": "stdout",
     "output_type": "stream",
     "text": [
      "Overwriting client1.py\n"
     ]
    }
   ],
   "source": [
    "\n",
    "%%writefile client1.py\n",
    "\n",
    "import cv2\n",
    "import os\n",
    "import time\n",
    "import threading\n",
    "time.sleep(1)\n",
    "\n",
    "url =  \"http://127.0.0.1:3000/video_feed\"\n",
    "\n",
    "# Initialize VideoCapture object\n",
    "cap = cv2.VideoCapture(url)\n",
    "\n",
    "# Get the default frame size\n",
    "frame_width = int(cap.get(cv2.CAP_PROP_FRAME_WIDTH))\n",
    "frame_height = int(cap.get(cv2.CAP_PROP_FRAME_HEIGHT))\n",
    "\n",
    "# Define the codec and create VideoWriter object\n",
    "fourcc = cv2.VideoWriter_fourcc(*'XVID')\n",
    "out = cv2.VideoWriter('output1.avi', fourcc, 3.6, (frame_width, frame_height))\n",
    "\n",
    "# Function to continuously read frames and write them to the output video\n",
    "def read_frames():\n",
    "    frame_count = 0\n",
    "    start_time = time.time()\n",
    "    while frame_count < 100:\n",
    "        ret, frame = cap.read()\n",
    "        if ret:\n",
    "            frame_count += 1\n",
    "            out.write(frame)\n",
    "        else:\n",
    "            print(\"Error reading frame\")\n",
    "            break\n",
    "    end_time = time.time()\n",
    "    elapsed_time = end_time - start_time\n",
    "    print(\"Time taken to get 100 frames:\", elapsed_time, \"seconds\")\n",
    "\n",
    "# Start reading frames in a separate thread\n",
    "frame_thread = threading.Thread(target=read_frames)\n",
    "frame_thread.start()\n",
    "\n",
    "# Wait for the frame thread to finish\n",
    "frame_thread.join()\n",
    "\n",
    "# Release everything when done\n",
    "cap.release()\n",
    "out.release()\n",
    "cv2.destroyAllWindows()"
   ]
  },
  {
   "cell_type": "code",
   "execution_count": 3,
   "id": "9c8b5cef-ecfb-46a2-8cc0-4ae66afa3539",
   "metadata": {},
   "outputs": [
    {
     "name": "stdout",
     "output_type": "stream",
     "text": [
      "Time taken to get 100 frames: 25.519768714904785 seconds\n",
      "Time taken to get 100 frames: 25.84660029411316 seconds\n"
     ]
    }
   ],
   "source": [
    "!python client.py & python client1.py"
   ]
  },
  {
   "cell_type": "code",
   "execution_count": 3,
   "id": "66a954df-1f85-4a8a-8f82-6dd87af705f2",
   "metadata": {},
   "outputs": [
    {
     "name": "stdout",
     "output_type": "stream",
     "text": [
      "Overwriting all.py\n"
     ]
    }
   ],
   "source": [
    "\n",
    "%%writefile all.py\n",
    "import torch.multiprocessing as mp\n",
    "import time\n",
    "import subprocess\n",
    "import torch\n",
    "print('starting.....')\n",
    "def run_script(script):\n",
    "    \"\"\"Function to run a script.\"\"\"\n",
    "    subprocess.run([\"python\", script])\n",
    "\n",
    "if __name__ == \"__main__\":\n",
    "    start_time = time.time()\n",
    "    \n",
    "    # List of scripts to run\n",
    "    scripts = [\"client.py\",'client1.py']\n",
    "    \n",
    "    # Number of processes to use\n",
    "    num_processes = len(scripts)\n",
    "    \n",
    "    # Create a list to hold process objects\n",
    "    processes = []\n",
    "    \n",
    "    # Start processes\n",
    "    for script in scripts:\n",
    "        p = mp.Process(target=run_script, args=(script,))\n",
    "        p.start()\n",
    "        processes.append(p)\n",
    "    \n",
    "    # Join processes\n",
    "    for p in processes:\n",
    "        p.join()\n",
    "    \n",
    "    # Record end time\n",
    "    end_time = time.time()\n",
    "    \n",
    "    # Calculate and print total processing time\n",
    "    total_time = end_time - start_time\n",
    "    print(f\"Total processing time: {total_time} seconds\")\n"
   ]
  },
  {
   "cell_type": "code",
   "execution_count": 4,
   "id": "2fbf5d6a-c1a8-41ad-ba90-09fd65ad5337",
   "metadata": {},
   "outputs": [
    {
     "name": "stdout",
     "output_type": "stream",
     "text": [
      "Time taken to get 100 frames: 29.449400663375854 seconds\n",
      "starting.....\n",
      "Time taken to get 100 frames: 36.136369466781616 seconds\n",
      "starting.....\n",
      "starting.....\n",
      "Total processing time: 40.95079278945923 seconds\n"
     ]
    }
   ],
   "source": [
    "!python all.py"
   ]
  },
  {
   "cell_type": "code",
   "execution_count": 1,
   "id": "9c0b9a35-108f-4e35-8f45-3c47dc532a4b",
   "metadata": {},
   "outputs": [
    {
     "name": "stdout",
     "output_type": "stream",
     "text": [
      "Total processing time: 0.24500203132629395 seconds\n"
     ]
    }
   ],
   "source": [
    "import multiprocessing\n",
    "import time\n",
    "import subprocess\n",
    "\n",
    "def run_script(script):\n",
    "    \"\"\"Function to run a script.\"\"\"\n",
    "    subprocess.run([\"python\", script])\n",
    "\n",
    "if __name__ == \"__main__\":\n",
    "    start_time = time.time()\n",
    "    \n",
    "    # List of scripts to run\n",
    "    scripts = [\"client.py\", \"client1.py\"]\n",
    "    \n",
    "    # Number of processes to use\n",
    "    num_processes = len(scripts)\n",
    "    \n",
    "    # Create a list to hold process objects\n",
    "    processes = []\n",
    "    \n",
    "    # Start processes\n",
    "    for script in scripts:\n",
    "        p = multiprocessing.Process(target=run_script, args=(script,))\n",
    "        p.start()\n",
    "        processes.append(p)\n",
    "    \n",
    "    # Join processes\n",
    "    for p in processes:\n",
    "        p.join()\n",
    "    \n",
    "    # Record end time\n",
    "    end_time = time.time()\n",
    "    \n",
    "    # Calculate and print total processing time\n",
    "    total_time = end_time - start_time\n",
    "    print(f\"Total processing time: {total_time} seconds\")\n"
   ]
  },
  {
   "cell_type": "code",
   "execution_count": null,
   "id": "43b7166e-f277-4401-8080-db2e26e4bc69",
   "metadata": {},
   "outputs": [],
   "source": []
  },
  {
   "cell_type": "code",
   "execution_count": null,
   "id": "0af84e23-8c55-4234-8613-2fae9e9c4c80",
   "metadata": {},
   "outputs": [],
   "source": [
    "from fastapi import FastAPI\n",
    "from starlette.responses import StreamingResponse\n",
    "import cv2\n",
    "import time\n",
    "import uvicorn\n",
    "import numpy as np\n",
    "from PIL import ImageGrab\n",
    "import datetime\n",
    "import asyncio\n",
    "from queue import Queue\n",
    "import nest_asyncio\n",
    "nest_asyncio.apply()\n",
    "app = FastAPI()\n",
    "\n",
    "# Shared variable to store the latest frame\n",
    "latest_frame = None\n",
    "\n",
    "async def generate_frames():\n",
    "    global latest_frame\n",
    "    c = 0\n",
    "    # Variable for frame interval (in seconds) to achieve desired FPS\n",
    "    frame_interval = 1 / 4\n",
    "    start_time = time.time()\n",
    "    num_frames = 0\n",
    "    url = \"https://video.queendahyun.com/video_feed\"  # Update the URL if needed\n",
    "    cap = cv2.VideoCapture(url)\n",
    "    while True:\n",
    "        print(f'total {c}')\n",
    "        # Record start time of processing a frame\n",
    "        frame_start_time = time.time()\n",
    "        ret, frame = cap.read()\n",
    "\n",
    "        if True:\n",
    "            img_final = cv2.resize(frame, (1280, 720))  # 480p resolution is 854x480\n",
    "            # Convert the frame to JPEG format for streaming\n",
    "            _, buffer = cv2.imencode('.jpg', img_final)\n",
    "            c += 1\n",
    "            num_frames += 1\n",
    "\n",
    "            latest_frame = buffer.tobytes()  # Update the latest frame\n",
    "\n",
    "        # Calculate elapsed time\n",
    "        elapsed_time = time.time() - start_time\n",
    "\n",
    "        # If one second has elapsed, calculate and print FPS\n",
    "        if elapsed_time >= 1:\n",
    "            fps = num_frames / elapsed_time\n",
    "            # print(\"FPS:\", fps)\n",
    "\n",
    "        frame_time = time.time() - frame_start_time\n",
    "        # Calculate the delay required to achieve desired FPS\n",
    "        delay = frame_interval - frame_time\n",
    "\n",
    "        try:\n",
    "            # Introduce the delay\n",
    "            await asyncio.sleep(delay)\n",
    "        except asyncio.CancelledError:\n",
    "            break\n",
    "\n",
    "@app.get(\"/video_feed\")\n",
    "async def video_feed():\n",
    "    async def stream_frame():\n",
    "        global latest_frame\n",
    "        while True:\n",
    "            start_time = time.time()  # Record start time of sending frames\n",
    "            for _ in range(1):  # Send 4 frames per second\n",
    "                if latest_frame is not None:  # Check if there's a latest frame available\n",
    "                    yield (\n",
    "                        b'--frame\\r\\n'\n",
    "                        b'Content-Type: image/jpeg\\r\\n\\r\\n' + latest_frame + b'\\r\\n'\n",
    "                    )\n",
    "                else:\n",
    "                    await asyncio.sleep(0.1)  # If no latest frame available, wait for a short time\n",
    "\n",
    "            # Calculate elapsed time and wait if necessary to maintain FPS rate\n",
    "            elapsed_time = time.time() - start_time\n",
    "            if elapsed_time < 1 / 4:\n",
    "                await asyncio.sleep(1 / 4 - elapsed_time)\n",
    "\n",
    "    return StreamingResponse(stream_frame(), media_type=\"multipart/x-mixed-replace; boundary=frame\")\n",
    "\n",
    "async def main():\n",
    "    # Start generating frames asynchronously\n",
    "    asyncio.create_task(generate_frames())\n",
    "\n",
    "if __name__ == \"__main__\":\n",
    "    asyncio.run(main())\n",
    "    uvicorn.run(app, host=\"127.0.0.1\", port=8000)\n"
   ]
  },
  {
   "cell_type": "code",
   "execution_count": null,
   "id": "e3a31c7d-1593-4601-8dd4-5038032e607c",
   "metadata": {},
   "outputs": [],
   "source": []
  },
  {
   "cell_type": "code",
   "execution_count": 1,
   "id": "abecad09-f3b0-4aa8-9d28-ab42a833e962",
   "metadata": {},
   "outputs": [
    {
     "ename": "SyntaxError",
     "evalue": "invalid syntax (3618676740.py, line 1)",
     "output_type": "error",
     "traceback": [
      "\u001b[1;36m  Cell \u001b[1;32mIn[1], line 1\u001b[1;36m\u001b[0m\n\u001b[1;33m    TOTAL_FLOPS = 1.3 GHz * 768 cores * 2 FLOPS\u001b[0m\n\u001b[1;37m                      ^\u001b[0m\n\u001b[1;31mSyntaxError\u001b[0m\u001b[1;31m:\u001b[0m invalid syntax\n"
     ]
    }
   ],
   "source": [
    "TOTAL_FLOPS = 1.3 GHz * 768 cores * 2 FLOPS"
   ]
  },
  {
   "cell_type": "code",
   "execution_count": null,
   "id": "6ca10c7b-fd8a-47a3-89ce-6a2094c6c8b9",
   "metadata": {},
   "outputs": [],
   "source": []
  }
 ],
 "metadata": {
  "kernelspec": {
   "display_name": "Python 3 (ipykernel)",
   "language": "python",
   "name": "python3"
  },
  "language_info": {
   "codemirror_mode": {
    "name": "ipython",
    "version": 3
   },
   "file_extension": ".py",
   "mimetype": "text/x-python",
   "name": "python",
   "nbconvert_exporter": "python",
   "pygments_lexer": "ipython3",
   "version": "3.10.5"
  }
 },
 "nbformat": 4,
 "nbformat_minor": 5
}
