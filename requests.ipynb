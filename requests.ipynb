{
 "cells": [
  {
   "cell_type": "code",
   "execution_count": 1,
   "id": "b226cde1-31c4-4d88-98d1-d52ed32b11e9",
   "metadata": {},
   "outputs": [
    {
     "name": "stdout",
     "output_type": "stream",
     "text": [
      "{'Your name': 'Dahwin'}\n"
     ]
    }
   ],
   "source": [
    "import requests\n",
    "\n",
    "# Define the URL of your FastAPI application\n",
    "url = 'http://127.0.0.1:8000/name'\n",
    "\n",
    "# Define the data you want to post\n",
    "data = {'name': 'Dahwin'}  # Include the 'name' field in the JSON data\n",
    "\n",
    "# Send a POST request\n",
    "response = requests.post(url, json=data)\n",
    "\n",
    "# Print the response\n",
    "print(response.json())\n"
   ]
  },
  {
   "cell_type": "code",
   "execution_count": 3,
   "id": "76b8b4b4-6fe5-477b-ac1a-55302a16add7",
   "metadata": {},
   "outputs": [
    {
     "name": "stdout",
     "output_type": "stream",
     "text": [
      "File upload failed: HTTPConnectionPool(host='127.0.0.1', port=8000): Max retries exceeded with url: /file/upload (Caused by NewConnectionError('<urllib3.connection.HTTPConnection object at 0x000002E8689AFE20>: Failed to establish a new connection: [WinError 10061] No connection could be made because the target machine actively refused it'))\n"
     ]
    }
   ],
   "source": [
    "import requests\n",
    "\n",
    "# Define the URL of your FastAPI application's endpoint\n",
    "url = 'http://127.0.0.1:8000/file/upload'\n",
    "\n",
    "# Define the video file path\n",
    "video_file_path = r\"C:\\Users\\ALL USER\\Downloads\\Video\\dubkubu.mp4\"  # Replace with the actual path to your video file\n",
    "\n",
    "# Create a dictionary for the file upload\n",
    "files = {\n",
    "    'file': open(video_file_path, 'rb')\n",
    "}\n",
    "\n",
    "# Send a POST request to upload the video file\n",
    "try:\n",
    "    response = requests.post(url, files=files)\n",
    "    response.raise_for_status()  # Raise an exception if the request was not successful\n",
    "    print(\"File upload successful.\")\n",
    "    print(response.json())  # Print the response from the FastAPI application\n",
    "except requests.exceptions.RequestException as e:\n",
    "    print(\"File upload failed:\", str(e))\n"
   ]
  },
  {
   "cell_type": "code",
   "execution_count": 5,
   "id": "b91551cb-c1e2-4b3b-b396-43ccbc3aea14",
   "metadata": {},
   "outputs": [
    {
     "name": "stdout",
     "output_type": "stream",
     "text": [
      "File upload successful.\n",
      "{'filename': 'dubkubu.mp4', 'content_type': None}\n"
     ]
    }
   ],
   "source": [
    "import requests\n",
    "\n",
    "# Define the URL of your FastAPI application's endpoint\n",
    "url = 'https://68f9-35-197-23-200.ngrok-free.app/file/upload'\n",
    "\n",
    "# Define the video file path\n",
    "video_file_path = r\"C:\\Users\\ALL USER\\Downloads\\Video\\dubkubu.mp4\"  # Replace with the actual path to your video file\n",
    "\n",
    "# Create a dictionary for the file upload\n",
    "files = {\n",
    "    'file': open(video_file_path, 'rb')\n",
    "}\n",
    "\n",
    "# Send a POST request to upload the video file\n",
    "try:\n",
    "    response = requests.post(url, files=files)\n",
    "    response.raise_for_status()  # Raise an exception if the request was not successful\n",
    "    print(\"File upload successful.\")\n",
    "    print(response.json())  # Print the response from the FastAPI application\n",
    "except requests.exceptions.RequestException as e:\n",
    "    print(\"File upload failed:\", str(e))"
   ]
  },
  {
   "cell_type": "code",
   "execution_count": null,
   "id": "e0e5a108-e0b6-494b-a757-f25df3930ee7",
   "metadata": {},
   "outputs": [],
   "source": []
  }
 ],
 "metadata": {
  "kernelspec": {
   "display_name": "Python 3 (ipykernel)",
   "language": "python",
   "name": "python3"
  },
  "language_info": {
   "codemirror_mode": {
    "name": "ipython",
    "version": 3
   },
   "file_extension": ".py",
   "mimetype": "text/x-python",
   "name": "python",
   "nbconvert_exporter": "python",
   "pygments_lexer": "ipython3",
   "version": "3.10.5"
  }
 },
 "nbformat": 4,
 "nbformat_minor": 5
}
