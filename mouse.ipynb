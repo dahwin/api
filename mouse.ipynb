{
 "cells": [
  {
   "cell_type": "code",
   "execution_count": 2,
   "id": "995cbb31-3305-4ec6-90f2-c0fca9c9437e",
   "metadata": {},
   "outputs": [],
   "source": [
    "import ctypes, win32gui, win32ui\n",
    "from PIL import Image, ImageGrab\n",
    "\n",
    "import time\n",
    "time.sleep(10)\n",
    "def get_cursor():\n",
    "    hcursor = win32gui.GetCursorInfo()[1]\n",
    "    hdc = win32ui.CreateDCFromHandle(win32gui.GetDC(0))\n",
    "    hbmp = win32ui.CreateBitmap()\n",
    "    hbmp.CreateCompatibleBitmap(hdc, 36, 36)\n",
    "    hdc = hdc.CreateCompatibleDC()\n",
    "    hdc.SelectObject(hbmp)\n",
    "    hdc.DrawIcon((0,0), hcursor)\n",
    "    \n",
    "    bmpinfo = hbmp.GetInfo()\n",
    "    bmpstr = hbmp.GetBitmapBits(True)\n",
    "    cursor = Image.frombuffer('RGB', (bmpinfo['bmWidth'], bmpinfo['bmHeight']), bmpstr, 'raw', 'BGRX', 0, 1).convert(\"RGBA\")\n",
    "    \n",
    "    win32gui.DestroyIcon(hcursor)    \n",
    "    win32gui.DeleteObject(hbmp.GetHandle())\n",
    "    hdc.DeleteDC()\n",
    "\n",
    "\n",
    "    pixdata = cursor.load()\n",
    "\n",
    "\n",
    "    width, height = cursor.size\n",
    "    for y in range(height):\n",
    "        for x in range(width):\n",
    "\n",
    "            if pixdata[x, y] == (0, 0, 0, 255):\n",
    "                pixdata[x, y] = (0, 0, 0, 0)\n",
    "\n",
    "\n",
    "    hotspot = win32gui.GetIconInfo(hcursor)[1:3]\n",
    "\n",
    "    return (cursor, hotspot)\n",
    "\n",
    "cursor, (hotspotx, hotspoty) = get_cursor()\n",
    "cursor.save(\"cursor.png\")\n",
    "\n",
    "\n",
    "ratio = ctypes.windll.shcore.GetScaleFactorForDevice(0) / 100\n",
    "\n",
    "img = ImageGrab.grab(bbox=None, include_layered_windows=True)\n",
    "\n",
    "pos_win = win32gui.GetCursorPos()\n",
    "pos = (round(pos_win[0]*ratio - hotspotx), round(pos_win[1]*ratio - hotspoty))\n",
    "\n",
    "\n",
    "img.paste(cursor, pos, cursor)\n",
    "\n",
    "img.save(\"screenshot.png\")"
   ]
  },
  {
   "cell_type": "code",
   "execution_count": null,
   "id": "e633a147-a9b2-42cf-832b-c9d9d4d0eee9",
   "metadata": {},
   "outputs": [],
   "source": []
  }
 ],
 "metadata": {
  "kernelspec": {
   "display_name": "Python 3 (ipykernel)",
   "language": "python",
   "name": "python3"
  },
  "language_info": {
   "codemirror_mode": {
    "name": "ipython",
    "version": 3
   },
   "file_extension": ".py",
   "mimetype": "text/x-python",
   "name": "python",
   "nbconvert_exporter": "python",
   "pygments_lexer": "ipython3",
   "version": "3.10.5"
  }
 },
 "nbformat": 4,
 "nbformat_minor": 5
}
