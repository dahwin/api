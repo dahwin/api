{
 "cells": [
  {
   "cell_type": "code",
   "execution_count": 1,
   "id": "ed6f65ee-2c8b-489b-b743-568f862135c4",
   "metadata": {},
   "outputs": [
    {
     "name": "stderr",
     "output_type": "stream",
     "text": [
      "t=2024-10-13T01:49:08+0600 lvl=warn msg=\"ngrok config file found at both XDG and legacy locations, using XDG location\" xdg_path=\"C:\\\\Users\\\\ALL USER\\\\AppData\\\\Local/ngrok/ngrok.yml\" legacy_path=\"C:\\\\Users\\\\ALL USER\\\\.ngrok2\\\\ngrok.yml\"\n"
     ]
    },
    {
     "data": {
      "text/plain": [
       "<NgrokTunnel: \"https://089c-27-147-206-228.ngrok-free.app\" -> \"http://localhost:3000\">"
      ]
     },
     "execution_count": 1,
     "metadata": {},
     "output_type": "execute_result"
    },
    {
     "name": "stderr",
     "output_type": "stream",
     "text": [
      "t=2024-10-13T09:53:14+0600 lvl=eror msg=\"heartbeat timeout, terminating session\" obj=tunnels.session obj=csess id=8103a7d16d74 clientid=afc2f5beb1c5170199b27460981c331c\n",
      "t=2024-10-13T09:53:14+0600 lvl=eror msg=\"session closed, starting reconnect loop\" obj=tunnels.session obj=csess id=c10145297a23 err=\"session closed\"\n",
      "t=2024-10-13T09:53:15+0600 lvl=eror msg=\"failed to reconnect session\" obj=tunnels.session obj=csess id=c10145297a23 err=\"authentication failed: Your account is limited to 1 simultaneous ngrok agent sessions.\\nYou can run multiple simultaneous tunnels from a single agent session by defining the tunnels in your agent configuration file and starting them with the command `ngrok start --all`.\\nRead more about the agent configuration file: https://ngrok.com/docs/secure-tunnels/ngrok-agent/reference/config\\nYou can view your current agent sessions in the dashboard:\\nhttps://dashboard.ngrok.com/tunnels/agents\\r\\n\\r\\nERR_NGROK_108\\r\\n\"\n"
     ]
    }
   ],
   "source": [
    "from pyngrok import ngrok\n",
    "\n",
    "# Setting an auth token allows us to open multiple\n",
    "# tunnels at the same time\n",
    "# ngrok.set_auth_token(\"2R1tsuod04ayFPLUINN1J0J5qpJ_89tdxKVwtCs9F7kvG1uhv\")\n",
    "# ngrok.set_auth_token(\"2YGG5TlGcsNjutkY1hua39OM2gv_7XdWGdMHeh6KY4AqMjGiD\")\n",
    "ngrok.set_auth_token(\"2QWsRU60eUFpOOpFSSkHEqocwAv_2WW7UbufSLbszD94BLGzr\")\n",
    "# <NgrokTunnel: \"http://<public_sub1>.ngrok.io\" -> \"http://localhost:80\">\n",
    "ngrok_tunnel1 = ngrok.connect()\n",
    "# <NgrokTunnel: \"http://<public_sub2>.ngrok.io\" -> \"http://localhost:8000\">\n",
    "\n",
    "# Start ngrok with the custom configuration file\n",
    "ngrok_tunnel2 = ngrok.connect(3000)\n",
    "ngrok_tunnel2"
   ]
  },
  {
   "cell_type": "code",
   "execution_count": null,
   "id": "3303f44a-94b7-48bf-a9a6-8462e9d74481",
   "metadata": {},
   "outputs": [],
   "source": [
    "from pyngrok import ngrok\n",
    "\n",
    "# Setting an auth token allows us to open multiple\n",
    "# tunnels at the same time\n",
    "# ngrok.set_auth_token(\"2R1tsuod04ayFPLUINN1J0J5qpJ_89tdxKVwtCs9F7kvG1uhv\")\n",
    "# ngrok.set_auth_token(\"2YGG5TlGcsNjutkY1hua39OM2gv_7XdWGdMHeh6KY4AqMjGiD\")\n",
    "# ngrok.set_auth_token(\"2QWsRU60eUFpOOpFSSkHEqocwAv_2WW7UbufSLbszD94BLGzr\")\n",
    "ngrok.set_auth_token(\"2gQwyU3gU1voEKYokJHz2j5VC2i_5f648aT8ofikYc6wr2a64\")\n",
    "# <NgrokTunnel: \"http://<public_sub1>.ngrok.io\" -> \"http://localhost:80\">\n",
    "# <NgrokTunnel: \"http://<public_sub2>.ngrok.io\" -> \"http://localhost:8000\">\n",
    "\n",
    "# Start ngrok with the custom configuration file\n",
    "ngrok_tunnel2 = ngrok.connect(9999)\n",
    "ngrok_tunnel2"
   ]
  },
  {
   "cell_type": "code",
   "execution_count": null,
   "id": "1a381a21-5b99-4dce-a361-5d938a8f3823",
   "metadata": {},
   "outputs": [],
   "source": []
  },
  {
   "cell_type": "code",
   "execution_count": null,
   "id": "31f6a5df-b841-4f3e-b11a-67065a7e226a",
   "metadata": {},
   "outputs": [],
   "source": []
  },
  {
   "cell_type": "code",
   "execution_count": null,
   "id": "49271980-66c1-42af-ac6b-613982251808",
   "metadata": {},
   "outputs": [],
   "source": [
    "!lt --port 8000"
   ]
  },
  {
   "cell_type": "code",
   "execution_count": null,
   "id": "59f67a0a-0c1e-4ca6-9644-75896c88217c",
   "metadata": {},
   "outputs": [],
   "source": [
    "from pyngrok import ngrok\n",
    "\n",
    "# Setting an auth token allows us to open multiple\n",
    "# tunnels at the same time\n",
    "ngrok.set_auth_token(\"2R1tsuod04ayFPLUINN1J0J5qpJ_89tdxKVwtCs9F7kvG1uhv\")\n",
    "\n",
    "# Start ngrok and specify the port of your local screen sharing server (assuming it's on port 8001)\n",
    "ngrok_tunnel = ngrok.connect(addr=\"8001\", proto=\"http\", options={\"bind_tls\": True})\n",
    "\n",
    "# Print the ngrok public URL\n",
    "print(\"Public URL:\", ngrok_tunnel.public_url)"
   ]
  },
  {
   "cell_type": "code",
   "execution_count": null,
   "id": "9b7789ec-3af7-4898-a0ba-4a9cc9b5a4b9",
   "metadata": {},
   "outputs": [],
   "source": [
    "from fastapi import FastAPI, Response\n",
    "from starlette.responses import StreamingResponse  # Import StreamingResponse from starlette module\n",
    "import uvicorn\n",
    "import nest_asyncio\n",
    "import torch\n",
    "import time\n",
    "import json\n",
    "\n",
    "nest_asyncio.apply()\n",
    "\n",
    "dahwin = FastAPI()\n",
    "\n",
    "def generate_tensor(shape):\n",
    "    # Generate the random tensor\n",
    "    random_tensor = torch.randn(shape)\n",
    "    return random_tensor.tolist()  # Convert tensor to list for JSON serialization\n",
    "\n",
    "@dahwin.post('/stream')\n",
    "async def stream_data(data: dict):\n",
    "    shape = data.get('shape', [2, 1, 4])  # Default shape if not provided\n",
    "    count = data.get('count', 5)  # Default count if not provided\n",
    "    \n",
    "    async def event_generator():\n",
    "        for _ in range(count):\n",
    "            tensor_data = generate_tensor(shape)\n",
    "            yield json.dumps(tensor_data) + '\\n'\n",
    "            # time.sleep(2)  # Delay for 2 seconds before sending the next tensor\n",
    "    \n",
    "    return StreamingResponse(event_generator(), media_type=\"text/plain\")\n",
    "\n",
    "if __name__ == '__main__':\n",
    "    uvicorn.run(dahwin, host='localhost', port=8000)\n"
   ]
  },
  {
   "cell_type": "code",
   "execution_count": null,
   "id": "644db7f5-656f-41b1-b8b5-b5feb6550a60",
   "metadata": {},
   "outputs": [],
   "source": [
    "import requests\n",
    "import os\n",
    "from PIL import Image\n",
    "from io import BytesIO\n",
    "import time\n",
    "# Define the URL of the FastAPI endpoint\n",
    "url = \"http://localhost:8000/video_feed\"\n",
    "\n",
    "# Make a GET request to the streaming endpoint\n",
    "response = requests.get(url, stream=True)\n",
    "\n",
    "# Create a directory to store the frames if it doesn't exist\n",
    "output_dir = \"images\"\n",
    "if not os.path.exists(output_dir):\n",
    "    os.makedirs(output_dir)\n",
    "\n",
    "# Initialize a counter to keep track of the frame number\n",
    "frame_count = 1\n",
    "s = time.time()\n",
    "# Initialize a buffer to accumulate image data\n",
    "image_buffer = b\"\"\n",
    "\n",
    "# Iterate over the chunks of data received from the server\n",
    "for chunk in response.iter_content(chunk_size=1024):\n",
    "    # Add the current chunk to the buffer\n",
    "    image_buffer += chunk\n",
    "    print(chunk)\n",
    "\n",
    "    # Find the start and end of the image data\n",
    "    start_idx = image_buffer.find(b'\\xff\\xd8')\n",
    "    end_idx = image_buffer.find(b'\\xff\\xd9')\n",
    "\n",
    "    # Check if both start and end markers are found\n",
    "    if start_idx != -1 and end_idx != -1:\n",
    "        # Extract the image data from the buffer\n",
    "        image_data = image_buffer[start_idx:end_idx + 2]\n",
    "\n",
    "        # Create a PIL image from the image data\n",
    "        image = Image.open(BytesIO(image_data))\n",
    "\n",
    "        # Save the image as a PNG file\n",
    "        # image.save(os.path.join(output_dir, f\"frame_{frame_count}.png\"))\n",
    "        frame_count += 1\n",
    "\n",
    "        # Reset the buffer to the remaining data after the current image\n",
    "        image_buffer = image_buffer[end_idx + 2:]\n",
    "        if frame_count==1:\n",
    "            break\n",
    "print(frame_count)\n",
    "\n",
    "e = time.time()\n",
    "l = e-s\n",
    "print(l)\n",
    "# Close the response\n",
    "response.close()\n"
   ]
  },
  {
   "cell_type": "code",
   "execution_count": null,
   "id": "81fb1e70-36f7-41e2-a1bf-837c4462d1ca",
   "metadata": {},
   "outputs": [],
   "source": [
    "import requests\n",
    "import os\n",
    "import numpy as np\n",
    "import cv2\n",
    "import time\n",
    "\n",
    "# Define the URL of the FastAPI endpoint\n",
    "url = \"http://localhost:8000/video_feed\"\n",
    "\n",
    "# Make a GET request to the streaming endpoint\n",
    "response = requests.get(url, stream=True)\n",
    "\n",
    "# Create a directory to store the frames if it doesn't exist\n",
    "output_dir = \"images\"\n",
    "if not os.path.exists(output_dir):\n",
    "    os.makedirs(output_dir)\n",
    "\n",
    "# Initialize a counter to keep track of the frame number\n",
    "frame_count = 1\n",
    "start_time = time.time()\n",
    "\n",
    "# Iterate over the chunks of data received from the server\n",
    "for chunk in response.iter_content(chunk_size=None):\n",
    "    # Convert the received chunk into a numpy array\n",
    "    frame = np.frombuffer(chunk, dtype=np.uint8)\n",
    "    \n",
    "    # Decode the JPEG image from the numpy array\n",
    "    img = cv2.imdecode(frame, cv2.IMREAD_COLOR)\n",
    "    \n",
    "    # Save the image as a PNG file\n",
    "    cv2.imwrite(os.path.join(output_dir, f\"frame_{frame_count}.png\"), img)\n",
    "    \n",
    "    # Increment the frame count\n",
    "    frame_count += 1\n",
    "    \n",
    "    # Break the loop if 200 frames have been processed\n",
    "    if frame_count == 100:\n",
    "        break\n",
    "\n",
    "# Calculate the processing time\n",
    "end_time = time.time()\n",
    "elapsed_time = end_time - start_time\n",
    "print(\"Elapsed time:\", elapsed_time)\n",
    "\n",
    "# Close the response\n",
    "response.close()\n"
   ]
  },
  {
   "cell_type": "code",
   "execution_count": null,
   "id": "491543fe-32c7-47f8-af0a-99d72d4b8ba7",
   "metadata": {},
   "outputs": [],
   "source": []
  },
  {
   "cell_type": "code",
   "execution_count": null,
   "id": "e7e5edab-0ebb-464b-8c7c-2aa840fcaddf",
   "metadata": {},
   "outputs": [],
   "source": [
    "num = 5.53\n",
    "num1= round(num)\n",
    "print(num1)\n",
    "dis = num1-num\n",
    "print(dis)\n",
    "if num1>=num and dis>=0.01 and dis<=0.17:\n",
    "    print(True)"
   ]
  },
  {
   "cell_type": "code",
   "execution_count": null,
   "id": "797d4766-65ea-49de-8f64-b45f9dcd5005",
   "metadata": {},
   "outputs": [],
   "source": [
    "import random\n",
    "import string\n",
    "\n",
    "def generate_random_string(length):\n",
    "    return ''.join(random.choices(string.ascii_letters + string.digits, k=length))\n",
    "import time\n",
    "for _ in range(50):\n",
    "    random_str = generate_random_string(100)\n",
    "    time.sleep(0.3)\n",
    "    print(random_str)\n"
   ]
  },
  {
   "cell_type": "code",
   "execution_count": null,
   "id": "294d39e9-fecb-4dca-ab40-950c33cabc5f",
   "metadata": {},
   "outputs": [],
   "source": [
    "import requests\n",
    "\n",
    "def fetch_text_from_server():\n",
    "    url = \"http://localhost:8000/stream\"  # Adjust parameters as needed\n",
    "    with requests.get(url, stream=True) as response:\n",
    "        if response.status_code == 200:\n",
    "            for chunk in response.iter_content(chunk_size=128):\n",
    "                print(chunk.decode())\n",
    "\n",
    "if __name__ == \"__main__\":\n",
    "    fetch_text_from_server()\n"
   ]
  },
  {
   "cell_type": "code",
   "execution_count": null,
   "id": "0b915388-c9f7-4832-a7ce-836b7fd6918f",
   "metadata": {},
   "outputs": [],
   "source": [
    "import requests\n",
    "\n",
    "def fetch_text_from_server():\n",
    "    url = \"http://localhost:8000/stream\"  # Adjust parameters as needed\n",
    "    with requests.get(url, stream=True) as response:\n",
    "        if response.status_code == 200:\n",
    "            for chunk in response.iter_content(chunk_size=128):\n",
    "                text = chunk.decode()\n",
    "                print(text)\n",
    "\n",
    "\n",
    "fetch_text_from_server()\n",
    "\n",
    "\n"
   ]
  },
  {
   "cell_type": "code",
   "execution_count": null,
   "id": "faa2bfa9-feb1-45d9-b2f8-7724178904d1",
   "metadata": {},
   "outputs": [],
   "source": [
    "text = 'true100'\n",
    "num_str = ''.join(filter(str.isdigit, text))\n",
    "num = int(num_str)\n",
    "print(num)\n"
   ]
  },
  {
   "cell_type": "code",
   "execution_count": null,
   "id": "a912750d-5e3a-48f6-921e-efcccd123ea4",
   "metadata": {},
   "outputs": [],
   "source": [
    "import requests\n",
    "\n",
    "def fetch_text_from_server():\n",
    "    global f\n",
    "    \n",
    "    url = \"http://localhost:9999/stream\"  # Adjust parameters as needed\n",
    "    with requests.get(url, stream=True) as response:\n",
    "        if response.status_code == 200:\n",
    "            for chunk in response.iter_content(chunk_size=128):\n",
    "                text = chunk.decode()\n",
    "                print(text)\n",
    "                f = int(text)\n",
    "                if isinstance(f, int):\n",
    "                    print(True)\n",
    "                    break  # Stop fetching if \"True\" is found\n",
    "\n",
    "fetch_text_from_server()\n",
    "import numpy\n",
    "x = dir(numpy)\n",
    "print('\\n'.join(x))\n"
   ]
  },
  {
   "cell_type": "code",
   "execution_count": null,
   "id": "10e65886-8961-4f27-919c-99dc3a3df4dd",
   "metadata": {},
   "outputs": [],
   "source": [
    "type(f)"
   ]
  },
  {
   "cell_type": "code",
   "execution_count": null,
   "id": "5be508cc-de59-4849-a385-9672660fd9f7",
   "metadata": {},
   "outputs": [],
   "source": [
    "f"
   ]
  },
  {
   "cell_type": "code",
   "execution_count": null,
   "id": "80433d87-f9ac-4a4e-ab4c-923ed596dbd7",
   "metadata": {},
   "outputs": [],
   "source": []
  },
  {
   "cell_type": "code",
   "execution_count": null,
   "id": "bd96260d-c9f6-4528-9935-5169dd2be68c",
   "metadata": {},
   "outputs": [],
   "source": []
  },
  {
   "cell_type": "code",
   "execution_count": 4,
   "id": "7b17d8f5-fe41-437b-b6ab-04cf09f0cb29",
   "metadata": {},
   "outputs": [
    {
     "name": "stdout",
     "output_type": "stream",
     "text": [
      "https://e608-104-197-230-242.ngrok-free.app/  https://574a-27-147-206-228.ngrok-free.app/\n",
      "\n",
      "First link: https://e608-104-197-230-242.ngrok-free.app/\n",
      "Second link: https://574a-27-147-206-228.ngrok-free.app/\n",
      "https://e608-104-197-230-242.ngrok-free.app/\n",
      "https://574a-27-147-206-228.ngrok-free.app/\n"
     ]
    }
   ],
   "source": [
    "import requests\n",
    "\n",
    "def fetch_text_from_server():\n",
    "    global link1\n",
    "    global link2\n",
    "    \n",
    "    url = \"http://localhost:3000/stream\"  # Adjust parameters as needed\n",
    "    with requests.get(url, stream=True) as response:\n",
    "        if response.status_code == 200:\n",
    "            for chunk in response.iter_content(chunk_size=128):\n",
    "                text = chunk.decode()\n",
    "                print(text)\n",
    "                \n",
    "                # Split the text based on spaces\n",
    "                links = text.split()\n",
    "                \n",
    "                # Assign each link to a separate variable\n",
    "                link1 = links[0]\n",
    "                link2 = links[1]\n",
    "                \n",
    "                print(\"First link:\", link1)\n",
    "                print(\"Second link:\", link2)\n",
    "                if isinstance(link2, str):\n",
    "\n",
    "                    break  # Stop fetching if \"True\" is found\n",
    "\n",
    "fetch_text_from_server()\n",
    "\n",
    "print(link1)\n",
    "print(link2)"
   ]
  },
  {
   "cell_type": "code",
   "execution_count": 3,
   "id": "85874684-19ca-43e8-944d-fc0ebf3da66d",
   "metadata": {},
   "outputs": [
    {
     "data": {
      "text/plain": [
       "('https://e608-104-197-230-242.ngrok-free.app/',\n",
       " 'https://574a-27-147-206-228.ngrok-free.app')"
      ]
     },
     "execution_count": 3,
     "metadata": {},
     "output_type": "execute_result"
    }
   ],
   "source": [
    "import httpx\n",
    "import asyncio\n",
    "import nest_asyncio\n",
    "nest_asyncio.apply()\n",
    "async def get_text_from_server():\n",
    "    url = \"https://text.queendahyun.com/text\"  # Replace with the actual URL of your FastAPI server\n",
    "    async with httpx.AsyncClient() as client:\n",
    "        response = await client.get(url)\n",
    "        if response.status_code == 200:\n",
    "            data = response.json()\n",
    "            text = data.get(\"text\")\n",
    "            return text\n",
    "        else:\n",
    "            print(\"Failed to retrieve text from server.\")\n",
    "            return None\n",
    "\n",
    "text = asyncio.run(get_text_from_server())\n",
    "# Split the text based on spaces\n",
    "links = text.split()\n",
    "                \n",
    "# Assign each link to a separate variable\n",
    "link1 = links[0]\n",
    "link2 = links[1]\n",
    "link1,link2"
   ]
  },
  {
   "cell_type": "code",
   "execution_count": null,
   "id": "82a29a17-f8d9-4fde-96e8-6f720b1abdb8",
   "metadata": {},
   "outputs": [],
   "source": [
    "import subprocess\n",
    "\n",
    "def fetch_text_from_server():\n",
    "    global link1, link2\n",
    "    \n",
    "    url = \"http://localhost:3000/stream\"  # Adjust parameters as needed\n",
    "    command = f\"curl -s {url}\"\n",
    "    process = subprocess.Popen(command, shell=True, stdout=subprocess.PIPE, stderr=subprocess.PIPE)\n",
    "    output, _ = process.communicate()\n",
    "\n",
    "    if process.returncode == 0:\n",
    "        text = output.decode()\n",
    "        print(text)\n",
    "        \n",
    "        # Split the text based on spaces\n",
    "        links = text.split()\n",
    "        \n",
    "        # Assign each link to a separate variable\n",
    "        link1 = links[0]\n",
    "        link2 = links[1]\n",
    "        \n",
    "        print(\"First link:\", link1)\n",
    "        print(\"Second link:\", link2)\n",
    "        \n",
    "        if isinstance(link2, str):\n",
    "            return  # Stop fetching if \"True\" is found\n",
    "\n",
    "fetch_text_from_server()\n",
    "\n",
    "print(link1)\n",
    "print(link2)\n"
   ]
  },
  {
   "cell_type": "code",
   "execution_count": null,
   "id": "e372abeb-616e-4dc2-a597-2716b82b5e7c",
   "metadata": {},
   "outputs": [],
   "source": []
  },
  {
   "cell_type": "code",
   "execution_count": null,
   "id": "b015cd40-d4f2-4657-9def-819f02d5d9fa",
   "metadata": {},
   "outputs": [],
   "source": []
  },
  {
   "cell_type": "code",
   "execution_count": null,
   "id": "7a18429c-ecaf-41ba-9a6b-473791b8425c",
   "metadata": {},
   "outputs": [],
   "source": []
  }
 ],
 "metadata": {
  "kernelspec": {
   "display_name": "Python 3 (ipykernel)",
   "language": "python",
   "name": "python3"
  },
  "language_info": {
   "codemirror_mode": {
    "name": "ipython",
    "version": 3
   },
   "file_extension": ".py",
   "mimetype": "text/x-python",
   "name": "python",
   "nbconvert_exporter": "python",
   "pygments_lexer": "ipython3",
   "version": "3.10.5"
  }
 },
 "nbformat": 4,
 "nbformat_minor": 5
}
