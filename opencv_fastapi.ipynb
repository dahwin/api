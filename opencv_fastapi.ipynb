{
 "cells": [
  {
   "cell_type": "code",
   "execution_count": 1,
   "id": "ed6f65ee-2c8b-489b-b743-568f862135c4",
   "metadata": {},
   "outputs": [
    {
     "name": "stderr",
     "output_type": "stream",
     "text": [
      "t=2024-04-15T10:37:12+0600 lvl=warn msg=\"ngrok config file found at legacy location, move to XDG location\" xdg_path=\"C:\\\\Users\\\\ALL USER\\\\AppData\\\\Local/ngrok/ngrok.yml\" legacy_path=\"C:\\\\Users\\\\ALL USER\\\\.ngrok2\\\\ngrok.yml\"\n"
     ]
    },
    {
     "data": {
      "text/plain": [
       "<NgrokTunnel: \"https://b33d-27-147-206-228.ngrok-free.app\" -> \"http://localhost:8000\">"
      ]
     },
     "execution_count": 1,
     "metadata": {},
     "output_type": "execute_result"
    }
   ],
   "source": [
    "from pyngrok import ngrok\n",
    "\n",
    "# Setting an auth token allows us to open multiple\n",
    "# tunnels at the same time\n",
    "# ngrok.set_auth_token(\"2R1tsuod04ayFPLUINN1J0J5qpJ_89tdxKVwtCs9F7kvG1uhv\")\n",
    "# ngrok.set_auth_token(\"2YGG5TlGcsNjutkY1hua39OM2gv_7XdWGdMHeh6KY4AqMjGiD\")\n",
    "ngrok.set_auth_token(\"2QWsRU60eUFpOOpFSSkHEqocwAv_2WW7UbufSLbszD94BLGzr\")\n",
    "# <NgrokTunnel: \"http://<public_sub1>.ngrok.io\" -> \"http://localhost:80\">\n",
    "ngrok_tunnel1 = ngrok.connect()\n",
    "# <NgrokTunnel: \"http://<public_sub2>.ngrok.io\" -> \"http://localhost:8000\">\n",
    "\n",
    "# Start ngrok with the custom configuration file\n",
    "ngrok_tunnel2 = ngrok.connect(8000)\n",
    "ngrok_tunnel2"
   ]
  },
  {
   "cell_type": "code",
   "execution_count": 2,
   "id": "49271980-66c1-42af-ac6b-613982251808",
   "metadata": {},
   "outputs": [
    {
     "name": "stderr",
     "output_type": "stream",
     "text": [
      "'lt' is not recognized as an internal or external command,\n",
      "operable program or batch file.\n"
     ]
    }
   ],
   "source": [
    "!lt --port 8000"
   ]
  },
  {
   "cell_type": "code",
   "execution_count": null,
   "id": "59f67a0a-0c1e-4ca6-9644-75896c88217c",
   "metadata": {},
   "outputs": [],
   "source": [
    "from pyngrok import ngrok\n",
    "\n",
    "# Setting an auth token allows us to open multiple\n",
    "# tunnels at the same time\n",
    "ngrok.set_auth_token(\"2R1tsuod04ayFPLUINN1J0J5qpJ_89tdxKVwtCs9F7kvG1uhv\")\n",
    "\n",
    "# Start ngrok and specify the port of your local screen sharing server (assuming it's on port 8001)\n",
    "ngrok_tunnel = ngrok.connect(addr=\"8001\", proto=\"http\", options={\"bind_tls\": True})\n",
    "\n",
    "# Print the ngrok public URL\n",
    "print(\"Public URL:\", ngrok_tunnel.public_url)"
   ]
  },
  {
   "cell_type": "code",
   "execution_count": null,
   "id": "9b7789ec-3af7-4898-a0ba-4a9cc9b5a4b9",
   "metadata": {},
   "outputs": [],
   "source": [
    "from fastapi import FastAPI, Response\n",
    "from starlette.responses import StreamingResponse  # Import StreamingResponse from starlette module\n",
    "import uvicorn\n",
    "import nest_asyncio\n",
    "import torch\n",
    "import time\n",
    "import json\n",
    "\n",
    "nest_asyncio.apply()\n",
    "\n",
    "dahwin = FastAPI()\n",
    "\n",
    "def generate_tensor(shape):\n",
    "    # Generate the random tensor\n",
    "    random_tensor = torch.randn(shape)\n",
    "    return random_tensor.tolist()  # Convert tensor to list for JSON serialization\n",
    "\n",
    "@dahwin.post('/stream')\n",
    "async def stream_data(data: dict):\n",
    "    shape = data.get('shape', [2, 1, 4])  # Default shape if not provided\n",
    "    count = data.get('count', 5)  # Default count if not provided\n",
    "    \n",
    "    async def event_generator():\n",
    "        for _ in range(count):\n",
    "            tensor_data = generate_tensor(shape)\n",
    "            yield json.dumps(tensor_data) + '\\n'\n",
    "            # time.sleep(2)  # Delay for 2 seconds before sending the next tensor\n",
    "    \n",
    "    return StreamingResponse(event_generator(), media_type=\"text/plain\")\n",
    "\n",
    "if __name__ == '__main__':\n",
    "    uvicorn.run(dahwin, host='localhost', port=8000)\n"
   ]
  },
  {
   "cell_type": "code",
   "execution_count": null,
   "id": "644db7f5-656f-41b1-b8b5-b5feb6550a60",
   "metadata": {},
   "outputs": [],
   "source": [
    "import requests\n",
    "import os\n",
    "from PIL import Image\n",
    "from io import BytesIO\n",
    "import time\n",
    "# Define the URL of the FastAPI endpoint\n",
    "url = \"http://localhost:8000/video_feed\"\n",
    "\n",
    "# Make a GET request to the streaming endpoint\n",
    "response = requests.get(url, stream=True)\n",
    "\n",
    "# Create a directory to store the frames if it doesn't exist\n",
    "output_dir = \"images\"\n",
    "if not os.path.exists(output_dir):\n",
    "    os.makedirs(output_dir)\n",
    "\n",
    "# Initialize a counter to keep track of the frame number\n",
    "frame_count = 1\n",
    "s = time.time()\n",
    "# Initialize a buffer to accumulate image data\n",
    "image_buffer = b\"\"\n",
    "\n",
    "# Iterate over the chunks of data received from the server\n",
    "for chunk in response.iter_content(chunk_size=1024):\n",
    "    # Add the current chunk to the buffer\n",
    "    image_buffer += chunk\n",
    "    print(chunk)\n",
    "\n",
    "    # Find the start and end of the image data\n",
    "    start_idx = image_buffer.find(b'\\xff\\xd8')\n",
    "    end_idx = image_buffer.find(b'\\xff\\xd9')\n",
    "\n",
    "    # Check if both start and end markers are found\n",
    "    if start_idx != -1 and end_idx != -1:\n",
    "        # Extract the image data from the buffer\n",
    "        image_data = image_buffer[start_idx:end_idx + 2]\n",
    "\n",
    "        # Create a PIL image from the image data\n",
    "        image = Image.open(BytesIO(image_data))\n",
    "\n",
    "        # Save the image as a PNG file\n",
    "        # image.save(os.path.join(output_dir, f\"frame_{frame_count}.png\"))\n",
    "        frame_count += 1\n",
    "\n",
    "        # Reset the buffer to the remaining data after the current image\n",
    "        image_buffer = image_buffer[end_idx + 2:]\n",
    "        if frame_count==1:\n",
    "            break\n",
    "print(frame_count)\n",
    "\n",
    "e = time.time()\n",
    "l = e-s\n",
    "print(l)\n",
    "# Close the response\n",
    "response.close()\n"
   ]
  },
  {
   "cell_type": "code",
   "execution_count": 3,
   "id": "81fb1e70-36f7-41e2-a1bf-837c4462d1ca",
   "metadata": {},
   "outputs": [
    {
     "name": "stdout",
     "output_type": "stream",
     "text": [
      "Elapsed time: 19.099120140075684\n"
     ]
    }
   ],
   "source": [
    "import requests\n",
    "import os\n",
    "import numpy as np\n",
    "import cv2\n",
    "import time\n",
    "\n",
    "# Define the URL of the FastAPI endpoint\n",
    "url = \"http://localhost:8000/video_feed\"\n",
    "\n",
    "# Make a GET request to the streaming endpoint\n",
    "response = requests.get(url, stream=True)\n",
    "\n",
    "# Create a directory to store the frames if it doesn't exist\n",
    "output_dir = \"images\"\n",
    "if not os.path.exists(output_dir):\n",
    "    os.makedirs(output_dir)\n",
    "\n",
    "# Initialize a counter to keep track of the frame number\n",
    "frame_count = 1\n",
    "start_time = time.time()\n",
    "\n",
    "# Iterate over the chunks of data received from the server\n",
    "for chunk in response.iter_content(chunk_size=None):\n",
    "    # Convert the received chunk into a numpy array\n",
    "    frame = np.frombuffer(chunk, dtype=np.uint8)\n",
    "    \n",
    "    # Decode the JPEG image from the numpy array\n",
    "    img = cv2.imdecode(frame, cv2.IMREAD_COLOR)\n",
    "    \n",
    "    # Save the image as a PNG file\n",
    "    cv2.imwrite(os.path.join(output_dir, f\"frame_{frame_count}.png\"), img)\n",
    "    \n",
    "    # Increment the frame count\n",
    "    frame_count += 1\n",
    "    \n",
    "    # Break the loop if 200 frames have been processed\n",
    "    if frame_count == 100:\n",
    "        break\n",
    "\n",
    "# Calculate the processing time\n",
    "end_time = time.time()\n",
    "elapsed_time = end_time - start_time\n",
    "print(\"Elapsed time:\", elapsed_time)\n",
    "\n",
    "# Close the response\n",
    "response.close()\n"
   ]
  },
  {
   "cell_type": "code",
   "execution_count": null,
   "id": "491543fe-32c7-47f8-af0a-99d72d4b8ba7",
   "metadata": {},
   "outputs": [],
   "source": []
  },
  {
   "cell_type": "code",
   "execution_count": 17,
   "id": "e7e5edab-0ebb-464b-8c7c-2aa840fcaddf",
   "metadata": {},
   "outputs": [
    {
     "name": "stdout",
     "output_type": "stream",
     "text": [
      "6\n",
      "0.46999999999999975\n"
     ]
    }
   ],
   "source": [
    "num = 5.53\n",
    "num1= round(num)\n",
    "print(num1)\n",
    "dis = num1-num\n",
    "print(dis)\n",
    "if num1>=num and dis>=0.01 and dis<=0.17:\n",
    "    print(True)"
   ]
  },
  {
   "cell_type": "code",
   "execution_count": null,
   "id": "797d4766-65ea-49de-8f64-b45f9dcd5005",
   "metadata": {},
   "outputs": [],
   "source": []
  },
  {
   "cell_type": "code",
   "execution_count": null,
   "id": "bd370006-dbcc-4079-8415-33564efb0711",
   "metadata": {},
   "outputs": [],
   "source": []
  }
 ],
 "metadata": {
  "kernelspec": {
   "display_name": "Python 3 (ipykernel)",
   "language": "python",
   "name": "python3"
  },
  "language_info": {
   "codemirror_mode": {
    "name": "ipython",
    "version": 3
   },
   "file_extension": ".py",
   "mimetype": "text/x-python",
   "name": "python",
   "nbconvert_exporter": "python",
   "pygments_lexer": "ipython3",
   "version": "3.10.5"
  }
 },
 "nbformat": 4,
 "nbformat_minor": 5
}
