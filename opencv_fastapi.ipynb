{
 "cells": [
  {
   "cell_type": "code",
   "execution_count": 1,
   "id": "ed6f65ee-2c8b-489b-b743-568f862135c4",
   "metadata": {},
   "outputs": [
    {
     "name": "stderr",
     "output_type": "stream",
     "text": [
      "t=2024-05-12T21:57:08+0600 lvl=warn msg=\"ngrok config file found at legacy location, move to XDG location\" xdg_path=\"C:\\\\Users\\\\ALL USER\\\\AppData\\\\Local/ngrok/ngrok.yml\" legacy_path=\"C:\\\\Users\\\\ALL USER\\\\.ngrok2\\\\ngrok.yml\"\n"
     ]
    },
    {
     "data": {
      "text/plain": [
       "<NgrokTunnel: \"https://fd3f-27-147-206-228.ngrok-free.app\" -> \"http://localhost:8000\">"
      ]
     },
     "execution_count": 1,
     "metadata": {},
     "output_type": "execute_result"
    },
    {
     "name": "stderr",
     "output_type": "stream",
     "text": [
      "t=2024-05-12T22:02:32+0600 lvl=warn msg=\"failed to open private leg\" id=ece97f9e2b4e privaddr=localhost:8000 err=\"dial tcp [::1]:8000: connectex: No connection could be made because the target machine actively refused it.\"\n",
      "t=2024-05-12T22:02:33+0600 lvl=warn msg=\"failed to open private leg\" id=a96961c39dae privaddr=localhost:8000 err=\"dial tcp [::1]:8000: connectex: No connection could be made because the target machine actively refused it.\"\n",
      "t=2024-05-12T22:02:34+0600 lvl=warn msg=\"failed to open private leg\" id=d66f4703ac53 privaddr=localhost:8000 err=\"dial tcp [::1]:8000: connectex: No connection could be made because the target machine actively refused it.\"\n",
      "t=2024-05-12T22:02:35+0600 lvl=warn msg=\"failed to open private leg\" id=54845312af52 privaddr=localhost:8000 err=\"dial tcp [::1]:8000: connectex: No connection could be made because the target machine actively refused it.\"\n"
     ]
    }
   ],
   "source": [
    "from pyngrok import ngrok\n",
    "\n",
    "# Setting an auth token allows us to open multiple\n",
    "# tunnels at the same time\n",
    "# ngrok.set_auth_token(\"2R1tsuod04ayFPLUINN1J0J5qpJ_89tdxKVwtCs9F7kvG1uhv\")\n",
    "# ngrok.set_auth_token(\"2YGG5TlGcsNjutkY1hua39OM2gv_7XdWGdMHeh6KY4AqMjGiD\")\n",
    "ngrok.set_auth_token(\"2QWsRU60eUFpOOpFSSkHEqocwAv_2WW7UbufSLbszD94BLGzr\")\n",
    "# <NgrokTunnel: \"http://<public_sub1>.ngrok.io\" -> \"http://localhost:80\">\n",
    "ngrok_tunnel1 = ngrok.connect()\n",
    "# <NgrokTunnel: \"http://<public_sub2>.ngrok.io\" -> \"http://localhost:8000\">\n",
    "\n",
    "# Start ngrok with the custom configuration file\n",
    "ngrok_tunnel2 = ngrok.connect(8000)\n",
    "ngrok_tunnel2"
   ]
  },
  {
   "cell_type": "code",
   "execution_count": null,
   "id": "31f6a5df-b841-4f3e-b11a-67065a7e226a",
   "metadata": {},
   "outputs": [],
   "source": []
  },
  {
   "cell_type": "code",
   "execution_count": 2,
   "id": "49271980-66c1-42af-ac6b-613982251808",
   "metadata": {},
   "outputs": [
    {
     "name": "stderr",
     "output_type": "stream",
     "text": [
      "'lt' is not recognized as an internal or external command,\n",
      "operable program or batch file.\n"
     ]
    }
   ],
   "source": [
    "!lt --port 8000"
   ]
  },
  {
   "cell_type": "code",
   "execution_count": null,
   "id": "59f67a0a-0c1e-4ca6-9644-75896c88217c",
   "metadata": {},
   "outputs": [],
   "source": [
    "from pyngrok import ngrok\n",
    "\n",
    "# Setting an auth token allows us to open multiple\n",
    "# tunnels at the same time\n",
    "ngrok.set_auth_token(\"2R1tsuod04ayFPLUINN1J0J5qpJ_89tdxKVwtCs9F7kvG1uhv\")\n",
    "\n",
    "# Start ngrok and specify the port of your local screen sharing server (assuming it's on port 8001)\n",
    "ngrok_tunnel = ngrok.connect(addr=\"8001\", proto=\"http\", options={\"bind_tls\": True})\n",
    "\n",
    "# Print the ngrok public URL\n",
    "print(\"Public URL:\", ngrok_tunnel.public_url)"
   ]
  },
  {
   "cell_type": "code",
   "execution_count": null,
   "id": "9b7789ec-3af7-4898-a0ba-4a9cc9b5a4b9",
   "metadata": {},
   "outputs": [],
   "source": [
    "from fastapi import FastAPI, Response\n",
    "from starlette.responses import StreamingResponse  # Import StreamingResponse from starlette module\n",
    "import uvicorn\n",
    "import nest_asyncio\n",
    "import torch\n",
    "import time\n",
    "import json\n",
    "\n",
    "nest_asyncio.apply()\n",
    "\n",
    "dahwin = FastAPI()\n",
    "\n",
    "def generate_tensor(shape):\n",
    "    # Generate the random tensor\n",
    "    random_tensor = torch.randn(shape)\n",
    "    return random_tensor.tolist()  # Convert tensor to list for JSON serialization\n",
    "\n",
    "@dahwin.post('/stream')\n",
    "async def stream_data(data: dict):\n",
    "    shape = data.get('shape', [2, 1, 4])  # Default shape if not provided\n",
    "    count = data.get('count', 5)  # Default count if not provided\n",
    "    \n",
    "    async def event_generator():\n",
    "        for _ in range(count):\n",
    "            tensor_data = generate_tensor(shape)\n",
    "            yield json.dumps(tensor_data) + '\\n'\n",
    "            # time.sleep(2)  # Delay for 2 seconds before sending the next tensor\n",
    "    \n",
    "    return StreamingResponse(event_generator(), media_type=\"text/plain\")\n",
    "\n",
    "if __name__ == '__main__':\n",
    "    uvicorn.run(dahwin, host='localhost', port=8000)\n"
   ]
  },
  {
   "cell_type": "code",
   "execution_count": null,
   "id": "644db7f5-656f-41b1-b8b5-b5feb6550a60",
   "metadata": {},
   "outputs": [],
   "source": [
    "import requests\n",
    "import os\n",
    "from PIL import Image\n",
    "from io import BytesIO\n",
    "import time\n",
    "# Define the URL of the FastAPI endpoint\n",
    "url = \"http://localhost:8000/video_feed\"\n",
    "\n",
    "# Make a GET request to the streaming endpoint\n",
    "response = requests.get(url, stream=True)\n",
    "\n",
    "# Create a directory to store the frames if it doesn't exist\n",
    "output_dir = \"images\"\n",
    "if not os.path.exists(output_dir):\n",
    "    os.makedirs(output_dir)\n",
    "\n",
    "# Initialize a counter to keep track of the frame number\n",
    "frame_count = 1\n",
    "s = time.time()\n",
    "# Initialize a buffer to accumulate image data\n",
    "image_buffer = b\"\"\n",
    "\n",
    "# Iterate over the chunks of data received from the server\n",
    "for chunk in response.iter_content(chunk_size=1024):\n",
    "    # Add the current chunk to the buffer\n",
    "    image_buffer += chunk\n",
    "    print(chunk)\n",
    "\n",
    "    # Find the start and end of the image data\n",
    "    start_idx = image_buffer.find(b'\\xff\\xd8')\n",
    "    end_idx = image_buffer.find(b'\\xff\\xd9')\n",
    "\n",
    "    # Check if both start and end markers are found\n",
    "    if start_idx != -1 and end_idx != -1:\n",
    "        # Extract the image data from the buffer\n",
    "        image_data = image_buffer[start_idx:end_idx + 2]\n",
    "\n",
    "        # Create a PIL image from the image data\n",
    "        image = Image.open(BytesIO(image_data))\n",
    "\n",
    "        # Save the image as a PNG file\n",
    "        # image.save(os.path.join(output_dir, f\"frame_{frame_count}.png\"))\n",
    "        frame_count += 1\n",
    "\n",
    "        # Reset the buffer to the remaining data after the current image\n",
    "        image_buffer = image_buffer[end_idx + 2:]\n",
    "        if frame_count==1:\n",
    "            break\n",
    "print(frame_count)\n",
    "\n",
    "e = time.time()\n",
    "l = e-s\n",
    "print(l)\n",
    "# Close the response\n",
    "response.close()\n"
   ]
  },
  {
   "cell_type": "code",
   "execution_count": 3,
   "id": "81fb1e70-36f7-41e2-a1bf-837c4462d1ca",
   "metadata": {},
   "outputs": [
    {
     "name": "stdout",
     "output_type": "stream",
     "text": [
      "Elapsed time: 19.099120140075684\n"
     ]
    }
   ],
   "source": [
    "import requests\n",
    "import os\n",
    "import numpy as np\n",
    "import cv2\n",
    "import time\n",
    "\n",
    "# Define the URL of the FastAPI endpoint\n",
    "url = \"http://localhost:8000/video_feed\"\n",
    "\n",
    "# Make a GET request to the streaming endpoint\n",
    "response = requests.get(url, stream=True)\n",
    "\n",
    "# Create a directory to store the frames if it doesn't exist\n",
    "output_dir = \"images\"\n",
    "if not os.path.exists(output_dir):\n",
    "    os.makedirs(output_dir)\n",
    "\n",
    "# Initialize a counter to keep track of the frame number\n",
    "frame_count = 1\n",
    "start_time = time.time()\n",
    "\n",
    "# Iterate over the chunks of data received from the server\n",
    "for chunk in response.iter_content(chunk_size=None):\n",
    "    # Convert the received chunk into a numpy array\n",
    "    frame = np.frombuffer(chunk, dtype=np.uint8)\n",
    "    \n",
    "    # Decode the JPEG image from the numpy array\n",
    "    img = cv2.imdecode(frame, cv2.IMREAD_COLOR)\n",
    "    \n",
    "    # Save the image as a PNG file\n",
    "    cv2.imwrite(os.path.join(output_dir, f\"frame_{frame_count}.png\"), img)\n",
    "    \n",
    "    # Increment the frame count\n",
    "    frame_count += 1\n",
    "    \n",
    "    # Break the loop if 200 frames have been processed\n",
    "    if frame_count == 100:\n",
    "        break\n",
    "\n",
    "# Calculate the processing time\n",
    "end_time = time.time()\n",
    "elapsed_time = end_time - start_time\n",
    "print(\"Elapsed time:\", elapsed_time)\n",
    "\n",
    "# Close the response\n",
    "response.close()\n"
   ]
  },
  {
   "cell_type": "code",
   "execution_count": null,
   "id": "491543fe-32c7-47f8-af0a-99d72d4b8ba7",
   "metadata": {},
   "outputs": [],
   "source": []
  },
  {
   "cell_type": "code",
   "execution_count": 17,
   "id": "e7e5edab-0ebb-464b-8c7c-2aa840fcaddf",
   "metadata": {},
   "outputs": [
    {
     "name": "stdout",
     "output_type": "stream",
     "text": [
      "6\n",
      "0.46999999999999975\n"
     ]
    }
   ],
   "source": [
    "num = 5.53\n",
    "num1= round(num)\n",
    "print(num1)\n",
    "dis = num1-num\n",
    "print(dis)\n",
    "if num1>=num and dis>=0.01 and dis<=0.17:\n",
    "    print(True)"
   ]
  },
  {
   "cell_type": "code",
   "execution_count": 13,
   "id": "797d4766-65ea-49de-8f64-b45f9dcd5005",
   "metadata": {},
   "outputs": [],
   "source": [
    "import random\n",
    "import string\n",
    "\n",
    "def generate_random_string(length):\n",
    "    return ''.join(random.choices(string.ascii_letters + string.digits, k=length))\n",
    "import time\n",
    "for _ in range(50):\n",
    "    random_str = generate_random_string(100)\n",
    "    time.sleep(0.3)\n",
    "    print(random_str)\n"
   ]
  },
  {
   "cell_type": "code",
   "execution_count": 4,
   "id": "294d39e9-fecb-4dca-ab40-950c33cabc5f",
   "metadata": {},
   "outputs": [
    {
     "name": "stdout",
     "output_type": "stream",
     "text": [
      "sVvHWZdNwu3HnPEo9iK8HIldxYSBWXQIFka1aNk41MfRlYoBnG1lR4CW5AQXZY54Gn8wM1v5IqCDqJWnAMVGJOqxeE4VB1wW5P3u\n",
      "hLeNhiboHnfRWKxGkwh6YPhAinIS1nmJe4lZwLtyZCPHv4ZSUQsdC7AYI6laXI67kOYpBgJvEDyen9redhovmZHwklPRMdPLhlwA\n",
      "5bC5rkz4R7khPuIrs5BxwPkMuhoTR4ifJmEoZVI1ftoO3Sa120lM8IZ8k7znK4f78h7ug5Zr32r3DIf6tIOpZJ0QOyFALf7hn4AX\n",
      "LpZ2Ilt5DuZOyAZ78P3sa48jrqZwAD7roybWep8ktnWrTBDhmqLxj9bW6aYkXg5InvjXtu3Pt62p3vj2oeg2EiC39CaMXKGHwh1v\n",
      "TEvn9qm4ssoD0J1XQQn80OONk5jF1Vj3g4FSfamovTyrJiHxIo3HOekw5uLvt0nrfL820BOhpc4Q66SJsQ9AYX8nLtu7I30fWVBR\n",
      "MKivYgJH6KXjxPrrOAAbMKg18Y5rxXScTSHeu3y1znc6RbwIxvBcSWDrtYXNAID5wtRC0TVAosqgVJb4Yxf708OOU5uP4GmKwsij\n",
      "Io9RoqNF03SR33VEM92VVSOsh5kZIoOkdkl3xhR9B2Fa2dbQ3RYJnOqbQWP7ZTk0eqF5Ps955mnRLQcAavgOm3VudfRsMrobBhUS\n",
      "7Dyb9Ln76Go7TU6AK7NiPw6YwTf7L2mwtyTcqOTeTI9KXkdZVz68ZlOANay0KAGCPUMrkoVhPgjRTA121knB3VTWhZbVskyfwOOq\n",
      "ugH52jUr2z2zxT0sSEajDXJTFcNmPMM6FgRl9mqvbrxgEwiSrCtItdwvMie4GSsywXcYBOValtPp4tBHtX7UBtVuUTH8gafZfbSZ\n",
      "WyEOKYcwOy2Q35C14faiBITUGd7Khu33WaT27IhMsgClqAPNjrPpV8CZM5QtJTAB5k9MuPcdTnru1YcMXU674zFFNqmro75eIBjF\n",
      "ik3wL5SouF8a2cvoZagg0RVD8vJYPE5qWgH5JZfLnSJpnPVswCNiphK0wf0w11QMloquA54C7YFWPyaP7cGnpNmylm7OXlmr6uqL\n",
      "GpXjfxaQSEoFdA2OPMqP1TLrqgvmjAaYm0nrN2INVQY6mtkExwP0t8mim3DyiIhWznxG1ILBzLr5IeHD8UxOLBF0mJCeUzqJeqpA\n",
      "qvuS8gmpmOXaXld1HU5DIGaysRcb6mchFfcwpLlRRGu8ykz87CBKwgqpsEt8uI3l6a0ashVo9s20vUGSgiVywvXJlT63GpWzYktn\n",
      "MbjeTnzv7Tae1BNYQXIWRDKEOy3f9P2PrHv9OXgefBGxRTEQUF1RHUVL908eFsHKfJSkZiNxTg28jpEwPw379hEACdTb9U1EbNVb\n",
      "0MG4Hm2UjrGG33LG3R01XXswwH2OczU2uFPTKcZdUw2hUhSHoQK2tm2vhc6o8jQUrnnWIOfEB4fvkEHVjjMq0ymYrezEj5cOtga3\n",
      "Eaw2rMT5N3zaBsw7II3EMDMeXaMhqcVwFk3iipaU6mismXnAFepPVQBEh1wHXKUXUvuCguE0S768wWM7eCn4XoSnH9ZcuudA9vfd\n",
      "thfKNQQqzR77eXVVa5FajMbqddfOMFgtoA4kPH7sIfYLg7HzR34FPJ66hdQZvqwgohs5DhiHLaSogj1fGD09pzqYEFufTa0aTSYh\n",
      "GZ50FWL32pV0DuNEZhR7mmwe24JCz1n9fUJykp5zdFpZE2n58FrihjuuI9JwZjuabHSbjU0KMaUsDsNddQxsyFxhC8JmzAFCgiKR\n",
      "GQGWaPVRNVoAurKRhjLV50WzoQRprqvtAqrcmqHqd4naahsc34kp11MYG2RwE1cBy1jb6ugq2wo0XORnZ0uTbK4o2eMkIRLUaOqI\n",
      "6Yse65mJpR4EekRkiWyBZtkPcOd2gspwTuXeVj7RlLwPgx13IpzWWEXyshRschyHsFL3OadA8uyDxd1s9pbYIPVz4M2UUXPta5o5\n",
      "NNQDrZENlxhx6h9rYT6452BJSzr7DSjdLWnChb10Gyd4pKvcfudKC29vNRzPMOychdSpjWZvc8Ud039wZXKl5owf3IEIHPxulrp1\n",
      "IXFZjPNr95KV4iUVRD2LMBBtKkQGd9XgZ8c7elRXSqA1vRwcXRwZCzyFs50dFQGERIT3iaVg50ea8HuMF6LvX14kWAMZWuZAGjjv\n",
      "rBcaDtECvlkdyoWAmFfF4Q7dUUD3dgqliAzs0Ewacr4eTSGQJGlpeSi79f2Q1ljYNFZDvmkuqmxyZvEVUjSdmmxxCz96KDUZiswO\n",
      "mFEIyQiaYHMVjQ3sX893nRYYJrwgdIhChm1RF5oOR02mlNkEHA8r7ykacG96vAYMr1zmHxFBuWTqSKdbdx5JQLMw6mPlJLh3aoeE\n",
      "i8X07zld5uygntB3EGGJGtTmSLtmBgk5A8Ix4tKLugZBAj9wqDZn2iOqmCFkVgSrMN6e5WmYHtdkaA0dhWgxELkSzQjwKSqYBwIR\n",
      "QuBhi7JafPD7wbeeQVe4rFnXfRcEphsP4wac35iAo364dYIX98QqsJwv22P4Mw0Ald8kFBCmDHvN7cRZ2wzwaITZHKtgHikLQ1dM\n",
      "8kMSDq6hJrlKTvf2ao83gQRRSrvTqyUUd5M7NbEyNCWzM1klLylZxWYxVChnlKna0w4l5ABDvaCPzbfAE79Zy9RmDXSeXUGY6Zst\n",
      "fbqe7mPXO2jKLwX0ygcPXgibJEdAmv3f1lktIOCA5Wr61KIWgzOypb6s7tnzAuAstixAMpAVg703h0SMjubgU6BuRxB7WCRaVAOd\n",
      "O3jhqRRAXj4gW3Q67W5IeeEwlYbCMyzWeJnwkjHIvCA2NkNMlrlHXfCHNQWJvnTYWglZVw3Ob3X5d6chh4TzqF2rAKBmDbk60DeC\n",
      "vb65xzAnhL0m0gW1KSe4EstRxIAIzsqN1AwVkYEay2eguAbQamVD3dyUdk72wInKdZb8uhCqTJGm58eoBafUuI3XDXj2a72O4RTJ\n",
      "ge0YZq1fE7zjcD4tLuuSnzuHsrbl9e9WRZf7isBduaS3UM9HgXiKg3fwaqVzR8M3d36ZB3bIgxv9mBqINDgw06Jn2cRSKZf2lAFp\n",
      "TgcsAB151Dyly3BIjYR9y2QUc3sD3ktqsl3AeOd2RGlU5d5IkuUQLWGCzZMNq6DjXEdFOIEaUoSV0JH8QzPln1AqrmZKaGlcuXXy\n",
      "uWqCrMmXnMNqEZIbRoN4pLK9UCbdx8A3GfqUUFbOsd7wGXMxYCdub3YBzk8snRc3zPBH1qJTdkksJgqD0askRSUMK3GXrWJStbDw\n",
      "KBDQPhlPYapDZUfmoRi8SgoLx7uvdcO37QNL4PX628vfSWNUTEvCYRWkepJglcuLDRit6QlVrk6tmIOJuBtwmUNLuHreMf5qwpZH\n",
      "8Ix38O1xu7LDWr9arkrNKNwic6iFSjchK6h1rcslWGOHy8A89MK5nzqeoEziPDYVkehelnycixxRztbU2qTAvShVAD5ftQ8rT3jB\n",
      "6okumFLVTPfqnYan9ln6DlWszpN2naBIv8Z4ZWasBJeLI5oAER2jfpNyVWpnQiWbj2Z1Z632itI4QA2CQKsUtOR6PUi6nMX8jGbn\n",
      "zVux8PkiCcsOgLpo6p3b0GMCa8MAfoMFd47bPcT3mq2rvmq8o1o4CpbxHRUQOpCI1ZtVvnLC4KMWOLkBNzZgEGTSs98ut33Icmxq\n",
      "izlO4O9i97PgfKtb5qircxLfRusgQpWVcUl1vGywQlyozuupUHRZRjRPazETVi0sHovITN9xdNwo0peDmH2GByYYxHLvEQ5WPXCq\n",
      "DfPoaizvcnu7szNkJJHNZjX4OqPDqHcWuMHMVHMsZoTU6dlYMrU1a2gmq4ov7iblM3lxS500cUHJXS0m36Xb3n96Nh2wYBSZ0mXi\n",
      "PW9xTC09fGglHrfmEPv4jEX5PkjIuvc5xrYYQHQifbhdR9SM7SJcCbzxS8TY4FILc2rGPtw78tD6PdkHr1Mluj7rVBT1qyC9tFWJ\n",
      "Gjk56B4cVkYqR0PQ3EF0FSRA0fgLmpKUzQyRG31nvmuEgrlfsEIyBqr1kvqwNOcC0AgQip2NzU9XHfZGaHyKQ28g9oD0OYZkugmB\n",
      "sWcSTBrY5fZndN0P20pKquASk7WrDXvXJPTDMA6DO66XZ4CJ30Zxt30TovATERKJPN02dJwaX0E0XwwIqxvfYglKoTIIDW4ha9vO\n",
      "qM2DZ99t4sqQJ5QRKaU7ROoTmHYYRuFFr8CznIgT3NOmEXMojUuN9YnmSXSjvUuDZwB6ZtbF76vbkAsue6SvATtjQYHJnwZpJHNt\n",
      "XqioghzpVC8OEVJe7sZbv1oQ8z6ZdBuT4Q47Uyobavw33Ed0gfLvfzd9Ic1SExhIQ2z5w3OQ3KRUoOnYGEVRXcvmOaXiDRCyoaZq\n",
      "wZ1QtHSjZxrgZi7bKrG69rNMD4Th463A8MT1cm7ino612idngxT6QAcipwAi9kAUmbWY9XW85Fpjm6iAMkLCr08PrfIhLmgNLDdj\n",
      "n43XlWi3rHEq0sJeCCBFOYuRB0cMZ7IWaaSdqHYQ5DlbjumFYs7Co9pZjPrmhX3wMrC9Ke5xuvDGXrjxNiVyhfI7G8ZtJfSkQ95A\n",
      "1zX4w3vo5yZMoqliRTTLg6GdbZaHFw3BOCYTOsPOSv12VD3Clo4CcGGoLSn0NRq5QExZPbgAGUmgwXBqt1XlQXKbJVVxisO97JaJ\n",
      "prgKThCI8BAUZ9n8ndXeTyoFsHV5ygZFNXH64uQPcea9l0dzs95tLSsXDR03Mt0MApjqf830rqER2KW3NerHn1pGK9EywarexMw6\n",
      "fKiegZRvo8XFcQShoIu0cVzDkrzcbiU8XHodLLSwOfwNiAKiQg3zNfz812bbyBnjuD1dZsQPXyvpFeyjuAKgM1BtAr84EaWWshru\n",
      "Az5xL0xaPVvdYwckZwM1vd7bPn9UxlmHobuTwdWg80YqC3Jvps6BF0LzXuyYzSYxkV4YRXsYCbHIFHOPesI6Mvq5kVjcrbsvgxXs\n"
     ]
    }
   ],
   "source": [
    "import requests\n",
    "\n",
    "def fetch_text_from_server():\n",
    "    url = \"http://localhost:8000/stream\"  # Adjust parameters as needed\n",
    "    with requests.get(url, stream=True) as response:\n",
    "        if response.status_code == 200:\n",
    "            for chunk in response.iter_content(chunk_size=128):\n",
    "                print(chunk.decode())\n",
    "\n",
    "if __name__ == \"__main__\":\n",
    "    fetch_text_from_server()\n"
   ]
  },
  {
   "cell_type": "code",
   "execution_count": 2,
   "id": "0b915388-c9f7-4832-a7ce-836b7fd6918f",
   "metadata": {},
   "outputs": [
    {
     "name": "stdout",
     "output_type": "stream",
     "text": [
      "True\n",
      "\n",
      "True\n",
      "\n",
      "True\n",
      "\n"
     ]
    },
    {
     "ename": "KeyboardInterrupt",
     "evalue": "",
     "output_type": "error",
     "traceback": [
      "\u001b[1;31m---------------------------------------------------------------------------\u001b[0m",
      "\u001b[1;31mKeyboardInterrupt\u001b[0m                         Traceback (most recent call last)",
      "Cell \u001b[1;32mIn[2], line 11\u001b[0m\n\u001b[0;32m      7\u001b[0m             \u001b[38;5;28;01mfor\u001b[39;00m chunk \u001b[38;5;129;01min\u001b[39;00m response\u001b[38;5;241m.\u001b[39miter_content(chunk_size\u001b[38;5;241m=\u001b[39m\u001b[38;5;241m128\u001b[39m):\n\u001b[0;32m      8\u001b[0m                 \u001b[38;5;28mprint\u001b[39m(chunk\u001b[38;5;241m.\u001b[39mdecode())\n\u001b[1;32m---> 11\u001b[0m \u001b[43mfetch_text_from_server\u001b[49m\u001b[43m(\u001b[49m\u001b[43m)\u001b[49m\n",
      "Cell \u001b[1;32mIn[2], line 7\u001b[0m, in \u001b[0;36mfetch_text_from_server\u001b[1;34m()\u001b[0m\n\u001b[0;32m      5\u001b[0m \u001b[38;5;28;01mwith\u001b[39;00m requests\u001b[38;5;241m.\u001b[39mget(url, stream\u001b[38;5;241m=\u001b[39m\u001b[38;5;28;01mTrue\u001b[39;00m) \u001b[38;5;28;01mas\u001b[39;00m response:\n\u001b[0;32m      6\u001b[0m     \u001b[38;5;28;01mif\u001b[39;00m response\u001b[38;5;241m.\u001b[39mstatus_code \u001b[38;5;241m==\u001b[39m \u001b[38;5;241m200\u001b[39m:\n\u001b[1;32m----> 7\u001b[0m         \u001b[38;5;28;01mfor\u001b[39;00m chunk \u001b[38;5;129;01min\u001b[39;00m response\u001b[38;5;241m.\u001b[39miter_content(chunk_size\u001b[38;5;241m=\u001b[39m\u001b[38;5;241m128\u001b[39m):\n\u001b[0;32m      8\u001b[0m             \u001b[38;5;28mprint\u001b[39m(chunk\u001b[38;5;241m.\u001b[39mdecode())\n",
      "File \u001b[1;32m~\\AppData\\Roaming\\Python\\Python310\\site-packages\\requests\\models.py:816\u001b[0m, in \u001b[0;36mResponse.iter_content.<locals>.generate\u001b[1;34m()\u001b[0m\n\u001b[0;32m    814\u001b[0m \u001b[38;5;28;01mif\u001b[39;00m \u001b[38;5;28mhasattr\u001b[39m(\u001b[38;5;28mself\u001b[39m\u001b[38;5;241m.\u001b[39mraw, \u001b[38;5;124m\"\u001b[39m\u001b[38;5;124mstream\u001b[39m\u001b[38;5;124m\"\u001b[39m):\n\u001b[0;32m    815\u001b[0m     \u001b[38;5;28;01mtry\u001b[39;00m:\n\u001b[1;32m--> 816\u001b[0m         \u001b[38;5;28;01myield from\u001b[39;00m \u001b[38;5;28mself\u001b[39m\u001b[38;5;241m.\u001b[39mraw\u001b[38;5;241m.\u001b[39mstream(chunk_size, decode_content\u001b[38;5;241m=\u001b[39m\u001b[38;5;28;01mTrue\u001b[39;00m)\n\u001b[0;32m    817\u001b[0m     \u001b[38;5;28;01mexcept\u001b[39;00m ProtocolError \u001b[38;5;28;01mas\u001b[39;00m e:\n\u001b[0;32m    818\u001b[0m         \u001b[38;5;28;01mraise\u001b[39;00m ChunkedEncodingError(e)\n",
      "File \u001b[1;32m~\\AppData\\Roaming\\Python\\Python310\\site-packages\\urllib3\\response.py:624\u001b[0m, in \u001b[0;36mHTTPResponse.stream\u001b[1;34m(self, amt, decode_content)\u001b[0m\n\u001b[0;32m    608\u001b[0m \u001b[38;5;250m\u001b[39m\u001b[38;5;124;03m\"\"\"\u001b[39;00m\n\u001b[0;32m    609\u001b[0m \u001b[38;5;124;03mA generator wrapper for the read() method. A call will block until\u001b[39;00m\n\u001b[0;32m    610\u001b[0m \u001b[38;5;124;03m``amt`` bytes have been read from the connection or until the\u001b[39;00m\n\u001b[1;32m   (...)\u001b[0m\n\u001b[0;32m    621\u001b[0m \u001b[38;5;124;03m    'content-encoding' header.\u001b[39;00m\n\u001b[0;32m    622\u001b[0m \u001b[38;5;124;03m\"\"\"\u001b[39;00m\n\u001b[0;32m    623\u001b[0m \u001b[38;5;28;01mif\u001b[39;00m \u001b[38;5;28mself\u001b[39m\u001b[38;5;241m.\u001b[39mchunked \u001b[38;5;129;01mand\u001b[39;00m \u001b[38;5;28mself\u001b[39m\u001b[38;5;241m.\u001b[39msupports_chunked_reads():\n\u001b[1;32m--> 624\u001b[0m     \u001b[38;5;28;01mfor\u001b[39;00m line \u001b[38;5;129;01min\u001b[39;00m \u001b[38;5;28mself\u001b[39m\u001b[38;5;241m.\u001b[39mread_chunked(amt, decode_content\u001b[38;5;241m=\u001b[39mdecode_content):\n\u001b[0;32m    625\u001b[0m         \u001b[38;5;28;01myield\u001b[39;00m line\n\u001b[0;32m    626\u001b[0m \u001b[38;5;28;01melse\u001b[39;00m:\n",
      "File \u001b[1;32m~\\AppData\\Roaming\\Python\\Python310\\site-packages\\urllib3\\response.py:828\u001b[0m, in \u001b[0;36mHTTPResponse.read_chunked\u001b[1;34m(self, amt, decode_content)\u001b[0m\n\u001b[0;32m    825\u001b[0m     \u001b[38;5;28;01mreturn\u001b[39;00m\n\u001b[0;32m    827\u001b[0m \u001b[38;5;28;01mwhile\u001b[39;00m \u001b[38;5;28;01mTrue\u001b[39;00m:\n\u001b[1;32m--> 828\u001b[0m     \u001b[38;5;28;43mself\u001b[39;49m\u001b[38;5;241;43m.\u001b[39;49m\u001b[43m_update_chunk_length\u001b[49m\u001b[43m(\u001b[49m\u001b[43m)\u001b[49m\n\u001b[0;32m    829\u001b[0m     \u001b[38;5;28;01mif\u001b[39;00m \u001b[38;5;28mself\u001b[39m\u001b[38;5;241m.\u001b[39mchunk_left \u001b[38;5;241m==\u001b[39m \u001b[38;5;241m0\u001b[39m:\n\u001b[0;32m    830\u001b[0m         \u001b[38;5;28;01mbreak\u001b[39;00m\n",
      "File \u001b[1;32m~\\AppData\\Roaming\\Python\\Python310\\site-packages\\urllib3\\response.py:758\u001b[0m, in \u001b[0;36mHTTPResponse._update_chunk_length\u001b[1;34m(self)\u001b[0m\n\u001b[0;32m    756\u001b[0m \u001b[38;5;28;01mif\u001b[39;00m \u001b[38;5;28mself\u001b[39m\u001b[38;5;241m.\u001b[39mchunk_left \u001b[38;5;129;01mis\u001b[39;00m \u001b[38;5;129;01mnot\u001b[39;00m \u001b[38;5;28;01mNone\u001b[39;00m:\n\u001b[0;32m    757\u001b[0m     \u001b[38;5;28;01mreturn\u001b[39;00m\n\u001b[1;32m--> 758\u001b[0m line \u001b[38;5;241m=\u001b[39m \u001b[38;5;28;43mself\u001b[39;49m\u001b[38;5;241;43m.\u001b[39;49m\u001b[43m_fp\u001b[49m\u001b[38;5;241;43m.\u001b[39;49m\u001b[43mfp\u001b[49m\u001b[38;5;241;43m.\u001b[39;49m\u001b[43mreadline\u001b[49m\u001b[43m(\u001b[49m\u001b[43m)\u001b[49m\n\u001b[0;32m    759\u001b[0m line \u001b[38;5;241m=\u001b[39m line\u001b[38;5;241m.\u001b[39msplit(\u001b[38;5;124mb\u001b[39m\u001b[38;5;124m\"\u001b[39m\u001b[38;5;124m;\u001b[39m\u001b[38;5;124m\"\u001b[39m, \u001b[38;5;241m1\u001b[39m)[\u001b[38;5;241m0\u001b[39m]\n\u001b[0;32m    760\u001b[0m \u001b[38;5;28;01mtry\u001b[39;00m:\n",
      "File \u001b[1;32mC:\\Program Files\\Python310\\lib\\socket.py:705\u001b[0m, in \u001b[0;36mSocketIO.readinto\u001b[1;34m(self, b)\u001b[0m\n\u001b[0;32m    703\u001b[0m \u001b[38;5;28;01mwhile\u001b[39;00m \u001b[38;5;28;01mTrue\u001b[39;00m:\n\u001b[0;32m    704\u001b[0m     \u001b[38;5;28;01mtry\u001b[39;00m:\n\u001b[1;32m--> 705\u001b[0m         \u001b[38;5;28;01mreturn\u001b[39;00m \u001b[38;5;28;43mself\u001b[39;49m\u001b[38;5;241;43m.\u001b[39;49m\u001b[43m_sock\u001b[49m\u001b[38;5;241;43m.\u001b[39;49m\u001b[43mrecv_into\u001b[49m\u001b[43m(\u001b[49m\u001b[43mb\u001b[49m\u001b[43m)\u001b[49m\n\u001b[0;32m    706\u001b[0m     \u001b[38;5;28;01mexcept\u001b[39;00m timeout:\n\u001b[0;32m    707\u001b[0m         \u001b[38;5;28mself\u001b[39m\u001b[38;5;241m.\u001b[39m_timeout_occurred \u001b[38;5;241m=\u001b[39m \u001b[38;5;28;01mTrue\u001b[39;00m\n",
      "\u001b[1;31mKeyboardInterrupt\u001b[0m: "
     ]
    }
   ],
   "source": [
    "import requests\n",
    "\n",
    "def fetch_text_from_server():\n",
    "    url = \"http://localhost:8000/stream\"  # Adjust parameters as needed\n",
    "    with requests.get(url, stream=True) as response:\n",
    "        if response.status_code == 200:\n",
    "            for chunk in response.iter_content(chunk_size=128):\n",
    "                print(chunk.decode())\n",
    "\n",
    "\n",
    "fetch_text_from_server()\n"
   ]
  },
  {
   "cell_type": "code",
   "execution_count": null,
   "id": "a912750d-5e3a-48f6-921e-efcccd123ea4",
   "metadata": {},
   "outputs": [],
   "source": []
  },
  {
   "cell_type": "code",
   "execution_count": null,
   "id": "10e65886-8961-4f27-919c-99dc3a3df4dd",
   "metadata": {},
   "outputs": [],
   "source": []
  },
  {
   "cell_type": "code",
   "execution_count": null,
   "id": "5be508cc-de59-4849-a385-9672660fd9f7",
   "metadata": {},
   "outputs": [],
   "source": []
  },
  {
   "cell_type": "code",
   "execution_count": null,
   "id": "80433d87-f9ac-4a4e-ab4c-923ed596dbd7",
   "metadata": {},
   "outputs": [],
   "source": []
  },
  {
   "cell_type": "code",
   "execution_count": null,
   "id": "bd96260d-c9f6-4528-9935-5169dd2be68c",
   "metadata": {},
   "outputs": [],
   "source": []
  },
  {
   "cell_type": "code",
   "execution_count": null,
   "id": "7b17d8f5-fe41-437b-b6ab-04cf09f0cb29",
   "metadata": {},
   "outputs": [],
   "source": []
  },
  {
   "cell_type": "code",
   "execution_count": null,
   "id": "85874684-19ca-43e8-944d-fc0ebf3da66d",
   "metadata": {},
   "outputs": [],
   "source": []
  },
  {
   "cell_type": "code",
   "execution_count": null,
   "id": "82a29a17-f8d9-4fde-96e8-6f720b1abdb8",
   "metadata": {},
   "outputs": [],
   "source": []
  },
  {
   "cell_type": "code",
   "execution_count": null,
   "id": "e372abeb-616e-4dc2-a597-2716b82b5e7c",
   "metadata": {},
   "outputs": [],
   "source": []
  },
  {
   "cell_type": "code",
   "execution_count": null,
   "id": "b015cd40-d4f2-4657-9def-819f02d5d9fa",
   "metadata": {},
   "outputs": [],
   "source": []
  },
  {
   "cell_type": "code",
   "execution_count": null,
   "id": "7a18429c-ecaf-41ba-9a6b-473791b8425c",
   "metadata": {},
   "outputs": [],
   "source": []
  }
 ],
 "metadata": {
  "kernelspec": {
   "display_name": "Python 3 (ipykernel)",
   "language": "python",
   "name": "python3"
  },
  "language_info": {
   "codemirror_mode": {
    "name": "ipython",
    "version": 3
   },
   "file_extension": ".py",
   "mimetype": "text/x-python",
   "name": "python",
   "nbconvert_exporter": "python",
   "pygments_lexer": "ipython3",
   "version": "3.10.5"
  }
 },
 "nbformat": 4,
 "nbformat_minor": 5
}
