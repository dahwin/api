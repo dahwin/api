{
 "cells": [
  {
   "cell_type": "code",
   "execution_count": 19,
   "id": "b226cde1-31c4-4d88-98d1-d52ed32b11e9",
   "metadata": {},
   "outputs": [
    {
     "name": "stdout",
     "output_type": "stream",
     "text": [
      "{'Your name': 'Dahwin'}\n"
     ]
    }
   ],
   "source": [
    "import requests\n",
    "\n",
    "# Define the URL of your FastAPI application\n",
    "url = 'http://127.0.0.1:8000/name'\n",
    "\n",
    "# Define the data you want to post\n",
    "data = {'name': 'Dahwin'}  # Include the 'name' field in the JSON data\n",
    "\n",
    "# Send a POST request\n",
    "response = requests.post(url, json=data)\n",
    "\n",
    "# Print the response\n",
    "print(response.json())\n"
   ]
  },
  {
   "cell_type": "code",
   "execution_count": 18,
   "id": "c7420193-269e-44fb-9691-50048423a59b",
   "metadata": {},
   "outputs": [
    {
     "name": "stdout",
     "output_type": "stream",
     "text": [
      "{}\n"
     ]
    }
   ],
   "source": [
    "import requests\n",
    "\n",
    "# Define the URL of your FastAPI application\n",
    "url = \"https://12e6-27-147-202-139.ngrok-free.app/name\"\n",
    "\n",
    "# Define the data you want to post\n",
    "data = {'name': 'Dahwin'}  # Include the 'name' field in the JSON data\n",
    "\n",
    "# Send a POST request\n",
    "response = requests.post(url, json=data)\n",
    "\n",
    "# Print the response\n",
    "print(response.text)\n"
   ]
  },
  {
   "cell_type": "code",
   "execution_count": 1,
   "id": "612efc95-31fe-4a56-b563-02e1793bd72d",
   "metadata": {},
   "outputs": [
    {
     "name": "stdout",
     "output_type": "stream",
     "text": [
      "Raw Response Content: b'[[[-0.36736175417900085,0.2989332675933838,-1.609605073928833,-0.2975051701068878]],[[-1.5629960298538208,-0.3862655460834503,1.1646870374679565,1.7251330614089966]]]'\n",
      "Received Tensor: tensor([[[-0.3674,  0.2989, -1.6096, -0.2975]],\n",
      "\n",
      "        [[-1.5630, -0.3863,  1.1647,  1.7251]]])\n"
     ]
    }
   ],
   "source": [
    "import requests\n",
    "import torch\n",
    "\n",
    "# Define the URL of your FastAPI application\n",
    "url = 'http://127.0.0.1:8000/name'\n",
    "\n",
    "# Define the data you want to post (a tuple in this case)\n",
    "data = (2, 1, 4)\n",
    "\n",
    "# Send a POST request\n",
    "response = requests.post(url, json=data)\n",
    "\n",
    "# Print the raw response content for debugging\n",
    "print(\"Raw Response Content:\", response.content)\n",
    "\n",
    "# Print the response\n",
    "if response.status_code == 200:\n",
    "    tensor_result = torch.tensor(response.json())  # Convert the list to a tensor\n",
    "    print(\"Received Tensor:\", tensor_result)\n",
    "else:\n",
    "    print(\"Error:\", response.status_code)\n"
   ]
  },
  {
   "cell_type": "code",
   "execution_count": 28,
   "id": "0418a3da-091c-40cf-9da1-743dd6427406",
   "metadata": {},
   "outputs": [
    {
     "name": "stdout",
     "output_type": "stream",
     "text": [
      "[[[-1.2209683656692505,-1.0264008045196533,1.4820857048034668,0.15812787413597107]],[[-0.3030342757701874,0.21287019550800323,-1.381199836730957,-0.7152163982391357]]]\n"
     ]
    },
    {
     "name": "stderr",
     "output_type": "stream",
     "text": [
      "  % Total    % Received % Xferd  Average Speed   Time    Time     Time  Current\n",
      "                                 Dload  Upload   Total   Spent    Left  Speed\n",
      "\n",
      "  0     0    0     0    0     0      0      0 --:--:-- --:--:-- --:--:--     0\n",
      "100   176  100   167  100     9  25935   1397 --:--:-- --:--:-- --:--:-- 29333\n"
     ]
    }
   ],
   "source": [
    "!curl -X POST -H \"Content-Type: application/json\" -d \"[2, 1, 4]\" http://127.0.0.1:8000/name"
   ]
  },
  {
   "cell_type": "code",
   "execution_count": 27,
   "id": "4a435b3d-bc72-458a-ae02-2116184a62f1",
   "metadata": {},
   "outputs": [
    {
     "data": {
      "text/plain": [
       "torch.Size([2, 1, 4])"
      ]
     },
     "execution_count": 27,
     "metadata": {},
     "output_type": "execute_result"
    }
   ],
   "source": [
    "tensor_result.shape"
   ]
  },
  {
   "cell_type": "code",
   "execution_count": 3,
   "id": "76b8b4b4-6fe5-477b-ac1a-55302a16add7",
   "metadata": {},
   "outputs": [
    {
     "name": "stdout",
     "output_type": "stream",
     "text": [
      "File upload failed: HTTPConnectionPool(host='127.0.0.1', port=8000): Max retries exceeded with url: /file/upload (Caused by NewConnectionError('<urllib3.connection.HTTPConnection object at 0x000002E8689AFE20>: Failed to establish a new connection: [WinError 10061] No connection could be made because the target machine actively refused it'))\n"
     ]
    }
   ],
   "source": [
    "import requests\n",
    "\n",
    "# Define the URL of your FastAPI application's endpoint\n",
    "url = 'http://127.0.0.1:8000/file/upload'\n",
    "\n",
    "# Define the video file path\n",
    "video_file_path = r\"C:\\Users\\ALL USER\\Downloads\\Video\\dubkubu.mp4\"  # Replace with the actual path to your video file\n",
    "\n",
    "# Create a dictionary for the file upload\n",
    "files = {\n",
    "    'file': open(video_file_path, 'rb')\n",
    "}\n",
    "\n",
    "# Send a POST request to upload the video file\n",
    "try:\n",
    "    response = requests.post(url, files=files)\n",
    "    response.raise_for_status()  # Raise an exception if the request was not successful\n",
    "    print(\"File upload successful.\")\n",
    "    print(response.json())  # Print the response from the FastAPI application\n",
    "except requests.exceptions.RequestException as e:\n",
    "    print(\"File upload failed:\", str(e))\n"
   ]
  },
  {
   "cell_type": "code",
   "execution_count": 1,
   "id": "b91551cb-c1e2-4b3b-b396-43ccbc3aea14",
   "metadata": {},
   "outputs": [
    {
     "name": "stdout",
     "output_type": "stream",
     "text": [
      "File upload successful.\n",
      "{'filename': 'facf01bbff7c527a6f5f64588d37a19f.jpg', 'content_type': None}\n"
     ]
    }
   ],
   "source": [
    "import requests\n",
    "\n",
    "# Define the URL of your FastAPI application's endpoint\n",
    "url = 'https://f4ca-35-231-251-27.ngrok-free.app/file/upload'\n",
    "\n",
    "# Define the video file path\n",
    "video_file_path = r\"C:\\Users\\ALL USER\\Desktop\\Photobook\\Tounge\\facf01bbff7c527a6f5f64588d37a19f.jpg\"  # Replace with the actual path to your video file\n",
    "\n",
    "# Create a dictionary for the file upload\n",
    "files = {\n",
    "    'file': open(video_file_path, 'rb')\n",
    "}\n",
    "\n",
    "# Send a POST request to upload the video file\n",
    "try:\n",
    "    response = requests.post(url, files=files)\n",
    "    response.raise_for_status()  # Raise an exception if the request was not successful\n",
    "    print(\"File upload successful.\")\n",
    "    print(response.json())  # Print the response from the FastAPI application\n",
    "except requests.exceptions.RequestException as e:\n",
    "    print(\"File upload failed:\", str(e))"
   ]
  },
  {
   "cell_type": "code",
   "execution_count": null,
   "id": "e0e5a108-e0b6-494b-a757-f25df3930ee7",
   "metadata": {},
   "outputs": [],
   "source": [
    "import requests\n",
    "\n",
    "# Define the URL of your FastAPI application's endpoint\n",
    "url = 'https://9acd-27-147-206-228.ngrok-free.app/file/upload'\n",
    "\n",
    "# Define the video file path\n",
    "video_file_path =\"yolov8_training.log\"  # Replace with the actual path to your video file\n",
    "\n",
    "# Create a dictionary for the file upload\n",
    "files = {\n",
    "    'file': open(video_file_path, 'rb')\n",
    "}\n",
    "\n",
    "# Send a POST request to upload the video file\n",
    "try:\n",
    "    response = requests.post(url, files=files)\n",
    "    response.raise_for_status()  # Raise an exception if the request was not successful\n",
    "    print(\"File upload successful.\")\n",
    "    print(response.json())  # Print the response from the FastAPI application\n",
    "except requests.exceptions.RequestException as e:\n",
    "    print(\"File upload failed:\", str(e))"
   ]
  }
 ],
 "metadata": {
  "kernelspec": {
   "display_name": "Python 3 (ipykernel)",
   "language": "python",
   "name": "python3"
  },
  "language_info": {
   "codemirror_mode": {
    "name": "ipython",
    "version": 3
   },
   "file_extension": ".py",
   "mimetype": "text/x-python",
   "name": "python",
   "nbconvert_exporter": "python",
   "pygments_lexer": "ipython3",
   "version": "3.10.5"
  }
 },
 "nbformat": 4,
 "nbformat_minor": 5
}
