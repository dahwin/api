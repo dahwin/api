{
 "cells": [
  {
   "cell_type": "code",
   "execution_count": 1,
   "id": "05f860b7-2ade-4acc-a10d-58c7d7b6e766",
   "metadata": {},
   "outputs": [],
   "source": [
    "from fastapi import FastAPI\n",
    "import uvicorn\n",
    "import nest_asyncio\n",
    "nest_asyncio.apply()"
   ]
  },
  {
   "cell_type": "code",
   "execution_count": 1,
   "id": "cd9c5ed8-b399-4514-bdbe-a29c4024ec77",
   "metadata": {},
   "outputs": [
    {
     "name": "stderr",
     "output_type": "stream",
     "text": [
      "t=2023-11-16T14:06:44+0600 lvl=warn msg=\"ngrok config file found at legacy location, move to XDG location\" xdg_path=\"C:\\\\Users\\\\ALL USER\\\\AppData\\\\Local/ngrok/ngrok.yml\" legacy_path=\"C:\\\\Users\\\\ALL USER\\\\.ngrok2\\\\ngrok.yml\"\n"
     ]
    },
    {
     "data": {
      "text/plain": [
       "<NgrokTunnel: \"https://38f2-27-147-202-139.ngrok-free.app\" -> \"http://localhost:8000\">"
      ]
     },
     "execution_count": 1,
     "metadata": {},
     "output_type": "execute_result"
    }
   ],
   "source": [
    "from pyngrok import ngrok\n",
    "\n",
    "# Setting an auth token allows us to open multiple\n",
    "# tunnels at the same time\n",
    "ngrok.set_auth_token(\"2R1tsuod04ayFPLUINN1J0J5qpJ_89tdxKVwtCs9F7kvG1uhv\")\n",
    "\n",
    "# <NgrokTunnel: \"http://<public_sub1>.ngrok.io\" -> \"http://localhost:80\">\n",
    "ngrok_tunnel1 = ngrok.connect()\n",
    "# <NgrokTunnel: \"http://<public_sub2>.ngrok.io\" -> \"http://localhost:8000\">\n",
    "\n",
    "# Start ngrok with the custom configuration file\n",
    "ngrok_tunnel2 = ngrok.connect(8000)\n",
    "ngrok_tunnel2"
   ]
  },
  {
   "cell_type": "code",
   "execution_count": 17,
   "id": "f09a7fdb-16d3-4eb6-b115-a83242c5150e",
   "metadata": {},
   "outputs": [
    {
     "name": "stderr",
     "output_type": "stream",
     "text": [
      "INFO:     Started server process [708]\n",
      "INFO:     Waiting for application startup.\n",
      "INFO:     Application startup complete.\n",
      "INFO:     Uvicorn running on http://127.0.0.1:8000 (Press CTRL+C to quit)\n"
     ]
    },
    {
     "name": "stdout",
     "output_type": "stream",
     "text": [
      "INFO:     127.0.0.1:57248 - \"POST /name HTTP/1.1\" 200 OK\n",
      "INFO:     127.0.0.1:57756 - \"POST /name HTTP/1.1\" 200 OK\n",
      "INFO:     127.0.0.1:57435 - \"POST /name HTTP/1.1\" 200 OK\n",
      "INFO:     127.0.0.1:57458 - \"POST /name HTTP/1.1\" 422 Unprocessable Entity\n"
     ]
    },
    {
     "name": "stderr",
     "output_type": "stream",
     "text": [
      "INFO:     Shutting down\n",
      "INFO:     Waiting for application shutdown.\n",
      "INFO:     Application shutdown complete.\n",
      "INFO:     Finished server process [708]\n"
     ]
    }
   ],
   "source": [
    "from fastapi import FastAPI\n",
    "import uvicorn\n",
    "import nest_asyncio\n",
    "nest_asyncio.apply()\n",
    "\n",
    "dahwin = FastAPI()\n",
    "\n",
    "@dahwin.get('/')\n",
    "def index():\n",
    "    return {'Dahiwn Universe': 'Hello Everything!'}\n",
    "\n",
    "@dahwin.post('/name')\n",
    "def name(data: dict):\n",
    "    name = data.get('name')\n",
    "    return {'Your name': name}\n",
    "\n",
    "if __name__ == '__main__':\n",
    "    uvicorn.run(dahwin, host='127.0.0.1', port=8000)\n"
   ]
  },
  {
   "cell_type": "code",
   "execution_count": null,
   "id": "ec1f2fd1-9871-45fa-b5be-e438f763baf5",
   "metadata": {},
   "outputs": [
    {
     "name": "stderr",
     "output_type": "stream",
     "text": [
      "INFO:     Started server process [6992]\n",
      "INFO:     Waiting for application startup.\n",
      "INFO:     Application startup complete.\n",
      "INFO:     Uvicorn running on http://127.0.0.1:8000 (Press CTRL+C to quit)\n"
     ]
    },
    {
     "name": "stdout",
     "output_type": "stream",
     "text": [
      "INFO:     127.0.0.1:64385 - \"POST /name HTTP/1.1\" 200 OK\n"
     ]
    }
   ],
   "source": [
    "from fastapi import FastAPI\n",
    "import uvicorn\n",
    "import nest_asyncio\n",
    "import torch\n",
    "\n",
    "nest_asyncio.apply()\n",
    "\n",
    "dahwin = FastAPI()\n",
    "\n",
    "@dahwin.get('/')\n",
    "def index():\n",
    "    return {'Dahwin Universe': 'Hello Everything!'}\n",
    "\n",
    "def get_tensor(param: tuple):\n",
    "    x = torch.randn(*param).tolist()\n",
    "    return x\n",
    "\n",
    "@dahwin.post('/name')\n",
    "def name(data: tuple):\n",
    "    name = get_tensor(data)\n",
    "    return name\n",
    "\n",
    "if __name__ == '__main__':\n",
    "    uvicorn.run(dahwin, host='127.0.0.1', port=8000)\n"
   ]
  },
  {
   "cell_type": "code",
   "execution_count": 21,
   "id": "1cb4e346-2dc8-4b6d-a627-80bcace48e9f",
   "metadata": {},
   "outputs": [],
   "source": [
    "x = dir(dahwin)"
   ]
  },
  {
   "cell_type": "code",
   "execution_count": 23,
   "id": "4f0eecc8-131f-4552-993b-07f922f7c9a1",
   "metadata": {},
   "outputs": [
    {
     "name": "stdout",
     "output_type": "stream",
     "text": [
      "__call__\n",
      "__class__\n",
      "__delattr__\n",
      "__dict__\n",
      "__dir__\n",
      "__doc__\n",
      "__eq__\n",
      "__format__\n",
      "__ge__\n",
      "__getattribute__\n",
      "__gt__\n",
      "__hash__\n",
      "__init__\n",
      "__init_subclass__\n",
      "__le__\n",
      "__lt__\n",
      "__module__\n",
      "__ne__\n",
      "__new__\n",
      "__reduce__\n",
      "__reduce_ex__\n",
      "__repr__\n",
      "__setattr__\n",
      "__sizeof__\n",
      "__str__\n",
      "__subclasshook__\n",
      "__weakref__\n",
      "add_api_route\n",
      "add_api_websocket_route\n",
      "add_event_handler\n",
      "add_exception_handler\n",
      "add_middleware\n",
      "add_route\n",
      "add_websocket_route\n",
      "api_route\n",
      "build_middleware_stack\n",
      "contact\n",
      "debug\n",
      "delete\n",
      "dependency_overrides\n",
      "description\n",
      "docs_url\n",
      "exception_handler\n",
      "exception_handlers\n",
      "extra\n",
      "get\n",
      "head\n",
      "host\n",
      "include_router\n",
      "license_info\n",
      "middleware\n",
      "middleware_stack\n",
      "mount\n",
      "on_event\n",
      "openapi\n",
      "openapi_schema\n",
      "openapi_tags\n",
      "openapi_url\n",
      "openapi_version\n",
      "options\n",
      "patch\n",
      "post\n",
      "put\n",
      "redoc_url\n",
      "root_path\n",
      "root_path_in_servers\n",
      "route\n",
      "router\n",
      "routes\n",
      "servers\n",
      "setup\n",
      "state\n",
      "swagger_ui_init_oauth\n",
      "swagger_ui_oauth2_redirect_url\n",
      "swagger_ui_parameters\n",
      "terms_of_service\n",
      "title\n",
      "trace\n",
      "url_path_for\n",
      "user_middleware\n",
      "version\n",
      "websocket\n",
      "websocket_route\n"
     ]
    },
    {
     "name": "stderr",
     "output_type": "stream",
     "text": [
      "t=2023-11-11T17:56:22+0600 lvl=eror msg=\"heartbeat timeout, terminating session\" obj=tunnels.session obj=csess id=e5eb4365e8ea clientid=e582a5b5b3d436bc164a087c2480fae4\n",
      "t=2023-11-11T17:56:22+0600 lvl=eror msg=\"session closed, starting reconnect loop\" obj=tunnels.session obj=csess id=d1933c6ce1cd err=\"session closed\"\n",
      "t=2023-11-11T17:56:22+0600 lvl=eror msg=\"failed to reconnect session\" obj=tunnels.session obj=csess id=d1933c6ce1cd err=\"failed to dial ngrok server with address \\\"connect.us.ngrok-agent.com:443\\\": dial tcp: lookup connect.us.ngrok-agent.com: no such host\"\n",
      "t=2023-11-11T17:56:23+0600 lvl=eror msg=\"failed to reconnect session\" obj=tunnels.session obj=csess id=d1933c6ce1cd err=\"failed to dial ngrok server with address \\\"connect.us.ngrok-agent.com:443\\\": dial tcp: lookup connect.us.ngrok-agent.com: no such host\"\n",
      "t=2023-11-11T17:56:24+0600 lvl=eror msg=\"failed to reconnect session\" obj=tunnels.session obj=csess id=d1933c6ce1cd err=\"failed to dial ngrok server with address \\\"connect.us.ngrok-agent.com:443\\\": dial tcp: lookup connect.us.ngrok-agent.com: no such host\"\n"
     ]
    }
   ],
   "source": [
    "print('\\n'.join(x))"
   ]
  },
  {
   "cell_type": "code",
   "execution_count": null,
   "id": "a13abe75-99aa-42c3-9daf-5d8ed67cfe19",
   "metadata": {},
   "outputs": [],
   "source": []
  }
 ],
 "metadata": {
  "kernelspec": {
   "display_name": "Python 3 (ipykernel)",
   "language": "python",
   "name": "python3"
  },
  "language_info": {
   "codemirror_mode": {
    "name": "ipython",
    "version": 3
   },
   "file_extension": ".py",
   "mimetype": "text/x-python",
   "name": "python",
   "nbconvert_exporter": "python",
   "pygments_lexer": "ipython3",
   "version": "3.10.5"
  }
 },
 "nbformat": 4,
 "nbformat_minor": 5
}
