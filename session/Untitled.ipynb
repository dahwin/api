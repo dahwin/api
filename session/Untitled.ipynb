{
 "cells": [
  {
   "cell_type": "code",
   "execution_count": null,
   "id": "cf199cfb-a581-4fe6-b55c-8dccb8a40582",
   "metadata": {},
   "outputs": [
    {
     "name": "stderr",
     "output_type": "stream",
     "text": [
      "INFO:     Started server process [9920]\n",
      "INFO:     Waiting for application startup.\n",
      "INFO:     Application startup complete.\n",
      "INFO:     Uvicorn running on http://localhost:8000 (Press CTRL+C to quit)\n"
     ]
    },
    {
     "name": "stdout",
     "output_type": "stream",
     "text": [
      "INFO:     ::1:61558 - \"GET /data/client_1 HTTP/1.1\" 200 OK\n",
      "INFO:     ::1:61544 - \"GET /data/client_0 HTTP/1.1\" 200 OK\n",
      "INFO:     ::1:61546 - \"GET /data/client_0 HTTP/1.1\" 200 OK\n",
      "INFO:     ::1:61554 - \"GET /data/client_1 HTTP/1.1\" 200 OK\n",
      "INFO:     ::1:61545 - \"GET /data/client_0 HTTP/1.1\" 200 OK\n",
      "INFO:     ::1:61557 - \"GET /data/client_1 HTTP/1.1\" 200 OK\n",
      "INFO:     ::1:61560 - \"GET /data/client_1 HTTP/1.1\" 200 OK\n",
      "INFO:     ::1:61550 - \"GET /data/client_0 HTTP/1.1\" 200 OK\n",
      "INFO:     ::1:61548 - \"GET /data/client_0 HTTP/1.1\" 200 OK\n",
      "INFO:     ::1:61551 - \"GET /data/client_1 HTTP/1.1\" 200 OK\n",
      "INFO:     ::1:61544 - \"GET /data/client_2 HTTP/1.1\" 200 OK\n",
      "INFO:     ::1:61541 - \"GET /data/client_0 HTTP/1.1\" 200 OK\n",
      "INFO:     ::1:61554 - \"GET /data/client_2 HTTP/1.1\" 200 OK\n",
      "INFO:     ::1:61559 - \"GET /data/client_1 HTTP/1.1\" 200 OK\n",
      "INFO:     ::1:61558 - \"GET /data/client_2 HTTP/1.1\" 200 OK\n",
      "INFO:     ::1:61552 - \"GET /data/client_1 HTTP/1.1\" 200 OK\n",
      "INFO:     ::1:61555 - \"GET /data/client_1 HTTP/1.1\" 200 OK\n",
      "INFO:     ::1:61543 - \"GET /data/client_0 HTTP/1.1\" 200 OK\n",
      "INFO:     ::1:61550 - \"GET /data/client_2 HTTP/1.1\" 200 OK\n",
      "INFO:     ::1:61547 - \"GET /data/client_0 HTTP/1.1\" 200 OK\n",
      "INFO:     ::1:61556 - \"GET /data/client_1 HTTP/1.1\" 200 OK\n",
      "INFO:     ::1:61553 - \"GET /data/client_1 HTTP/1.1\" 200 OK\n",
      "INFO:     ::1:61542 - \"GET /data/client_0 HTTP/1.1\" 200 OK\n",
      "INFO:     ::1:61549 - \"GET /data/client_0 HTTP/1.1\" 200 OK\n",
      "INFO:     ::1:61546 - \"GET /data/client_2 HTTP/1.1\" 200 OK\n",
      "INFO:     ::1:61560 - \"GET /data/client_2 HTTP/1.1\" 200 OK\n",
      "INFO:     ::1:61548 - \"GET /data/client_2 HTTP/1.1\" 200 OK\n",
      "INFO:     ::1:61557 - \"GET /data/client_2 HTTP/1.1\" 200 OK\n",
      "INFO:     ::1:61545 - \"GET /data/client_2 HTTP/1.1\" 200 OK\n",
      "INFO:     ::1:61551 - \"GET /data/client_2 HTTP/1.1\" 200 OK\n"
     ]
    }
   ],
   "source": [
    "# server.py\n",
    "from fastapi import FastAPI\n",
    "import random\n",
    "import asyncio\n",
    "from typing import Dict\n",
    "import uvicorn\n",
    "import nest_asyncio\n",
    "nest_asyncio.apply()\n",
    "app = FastAPI()\n",
    "\n",
    "@app.get(\"/data/{client_id}\")\n",
    "async def get_data(client_id: str) -> Dict:\n",
    "    # Simulate random processing time between 0.1 to 2 seconds\n",
    "    wait_time = random.uniform(0.1, 2)\n",
    "    await asyncio.sleep(wait_time)\n",
    "    \n",
    "    return {\n",
    "        \"client_id\": client_id,\n",
    "        \"value\": random.randint(1, 100),\n",
    "        \"processing_time\": round(wait_time, 2)\n",
    "    }\n",
    "\n",
    "if __name__ == \"__main__\":\n",
    "    # asyncio.run(main())\n",
    "    uvicorn.run(app, host=\"localhost\", port=8000)"
   ]
  },
  {
   "cell_type": "code",
   "execution_count": null,
   "id": "937cfe29-4531-4318-bf75-484ade7b0bf6",
   "metadata": {},
   "outputs": [],
   "source": []
  }
 ],
 "metadata": {
  "kernelspec": {
   "display_name": "Python 3 (ipykernel)",
   "language": "python",
   "name": "python3"
  },
  "language_info": {
   "codemirror_mode": {
    "name": "ipython",
    "version": 3
   },
   "file_extension": ".py",
   "mimetype": "text/x-python",
   "name": "python",
   "nbconvert_exporter": "python",
   "pygments_lexer": "ipython3",
   "version": "3.10.5"
  }
 },
 "nbformat": 4,
 "nbformat_minor": 5
}
