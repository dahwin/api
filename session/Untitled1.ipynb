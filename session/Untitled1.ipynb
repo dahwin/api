{
 "cells": [
  {
   "cell_type": "code",
   "execution_count": 1,
   "id": "5814d532-75cb-4b78-b21c-beccb18e5090",
   "metadata": {},
   "outputs": [
    {
     "name": "stdout",
     "output_type": "stream",
     "text": [
      "\n",
      "Completed 30 requests in 2.73 seconds\n",
      "Average time per request: 0.09 seconds\n",
      "\n",
      "Sample results:\n",
      "{'client_id': 'client_0', 'value': 88, 'processing_time': 1.12}\n",
      "{'client_id': 'client_0', 'value': 95, 'processing_time': 1.82}\n",
      "{'client_id': 'client_0', 'value': 66, 'processing_time': 0.12}\n",
      "{'client_id': 'client_0', 'value': 15, 'processing_time': 0.84}\n",
      "{'client_id': 'client_0', 'value': 48, 'processing_time': 0.16}\n"
     ]
    }
   ],
   "source": [
    "import asyncio\n",
    "import httpx\n",
    "import time\n",
    "from typing import List\n",
    "import nest_asyncio\n",
    "nest_asyncio.apply()\n",
    "async def fetch_data_with_session(client_id: str, session: httpx.AsyncClient) -> dict:\n",
    "    \"\"\"Fetch data for a specific client using the provided session\"\"\"\n",
    "    try:\n",
    "        response = await session.get(f\"http://localhost:8000/data/{client_id}\")\n",
    "        response.raise_for_status()\n",
    "        return response.json()\n",
    "    except httpx.HTTPError as e:\n",
    "        print(f\"Error fetching data for client {client_id}: {e}\")\n",
    "        return None\n",
    "\n",
    "async def main():\n",
    "    # Configuration\n",
    "    num_requests = 10\n",
    "    num_clients = 3\n",
    "    \n",
    "    # Create a single session to be reused\n",
    "    async with httpx.AsyncClient(\n",
    "        timeout=30.0,\n",
    "        limits=httpx.Limits(max_keepalive_connections=20, max_connections=20),\n",
    "        http2=True  # Enable HTTP/2 for better performance\n",
    "    ) as session:\n",
    "        \n",
    "        start_time = time.time()\n",
    "        \n",
    "        # Create tasks for all clients\n",
    "        tasks = []\n",
    "        for i in range(num_clients):\n",
    "            client_id = f\"client_{i}\"\n",
    "            # Create multiple requests for each client\n",
    "            client_tasks = [\n",
    "                fetch_data_with_session(client_id, session)\n",
    "                for _ in range(num_requests)\n",
    "            ]\n",
    "            tasks.extend(client_tasks)\n",
    "        \n",
    "        # Execute all tasks concurrently\n",
    "        results = await asyncio.gather(*tasks)\n",
    "        \n",
    "        # Filter out None results (failed requests)\n",
    "        valid_results = [r for r in results if r is not None]\n",
    "        \n",
    "        end_time = time.time()\n",
    "        total_time = end_time - start_time\n",
    "        \n",
    "        # Print results\n",
    "        print(f\"\\nCompleted {len(valid_results)} requests in {total_time:.2f} seconds\")\n",
    "        print(f\"Average time per request: {total_time/len(valid_results):.2f} seconds\")\n",
    "        \n",
    "        # Print some sample results\n",
    "        print(\"\\nSample results:\")\n",
    "        for result in valid_results[:5]:\n",
    "            print(result)\n",
    "\n",
    "if __name__ == \"__main__\":\n",
    "    # Run the async main function\n",
    "    asyncio.run(main())\n",
    "\n"
   ]
  },
  {
   "cell_type": "code",
   "execution_count": null,
   "id": "d7eef0a8-73b1-43ce-aa87-336eb62f4d2a",
   "metadata": {},
   "outputs": [],
   "source": []
  }
 ],
 "metadata": {
  "kernelspec": {
   "display_name": "Python 3 (ipykernel)",
   "language": "python",
   "name": "python3"
  },
  "language_info": {
   "codemirror_mode": {
    "name": "ipython",
    "version": 3
   },
   "file_extension": ".py",
   "mimetype": "text/x-python",
   "name": "python",
   "nbconvert_exporter": "python",
   "pygments_lexer": "ipython3",
   "version": "3.10.5"
  }
 },
 "nbformat": 4,
 "nbformat_minor": 5
}
