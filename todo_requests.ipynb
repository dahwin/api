{
 "cells": [
  {
   "cell_type": "markdown",
   "id": "52ac7fd7-8265-4ed6-b1af-396721aa2b19",
   "metadata": {},
   "source": [
    "#  Create"
   ]
  },
  {
   "cell_type": "code",
   "execution_count": 34,
   "id": "fb0c47fd-5fb2-454b-abff-3b97e08b24d4",
   "metadata": {},
   "outputs": [
    {
     "name": "stdout",
     "output_type": "stream",
     "text": [
      "{'title': 'dubu', 'description': 'she is my everything best girl'}\n"
     ]
    }
   ],
   "source": [
    "import requests\n",
    "\n",
    "url = 'http://127.0.0.1:8000/api/todo'\n",
    "headers = {'accept': 'application/json', 'Content-Type': 'application/json'}\n",
    "data = {\"title\": \"dubu\", \"description\": \"she is my everything best girl\"}\n",
    "\n",
    "response = requests.post(url, headers=headers, json=data)\n",
    "\n",
    "# Print the response content\n",
    "print(response.json())\n",
    "\n",
    "# If you want to work with the JSON response:\n",
    "# json_data = response.json()\n",
    "# print(json_data)\n"
   ]
  },
  {
   "cell_type": "markdown",
   "id": "5557d485-3cbc-45af-a0f2-688dd869a43c",
   "metadata": {},
   "source": [
    "# Read"
   ]
  },
  {
   "cell_type": "code",
   "execution_count": 28,
   "id": "48b37f3b-dc34-4617-a2a9-112d5bdde309",
   "metadata": {},
   "outputs": [
    {
     "name": "stdout",
     "output_type": "stream",
     "text": [
      "[{'title': 'Love dubu', 'description': 'she is my soul'}, {'title': 'dahyun', 'description': 'she is my everything best girl'}, {'title': 'dubuku', 'description': 'she is my everything best girl'}, {'title': 'dubu', 'description': 'dublangdungi'}, {'title': 'dubusu', 'description': 'she is my everything best girl'}]\n"
     ]
    }
   ],
   "source": [
    "import requests\n",
    "\n",
    "url = 'http://127.0.0.1:8000/api/todo'\n",
    "headers = {'accept': 'application/json'}\n",
    "\n",
    "response = requests.get(url, headers=headers)\n",
    "\n",
    "# Print the response content\n",
    "print(response.json())\n"
   ]
  },
  {
   "cell_type": "markdown",
   "id": "1228bb4e-920f-4f2e-9d45-0ebaeb67cb8f",
   "metadata": {},
   "source": [
    "# Update"
   ]
  },
  {
   "cell_type": "code",
   "execution_count": 27,
   "id": "dbdf5141-444b-4dad-b483-71640e5f5658",
   "metadata": {},
   "outputs": [
    {
     "name": "stdout",
     "output_type": "stream",
     "text": [
      "{'title': 'dubu', 'description': 'dublangdungi'}\n"
     ]
    }
   ],
   "source": [
    "import requests\n",
    "title='dubu'\n",
    "url = f'http://127.0.0.1:8000/api/todo{title}'\n",
    "headers = {'accept': 'application/json'}\n",
    "\n",
    "# Assuming the 'desc' parameter is part of the URL query string\n",
    "params = {'desc': 'dublangdungi'}\n",
    "\n",
    "response = requests.put(url, headers=headers, params=params)\n",
    "\n",
    "# Print the response content\n",
    "print(response.json())\n",
    "\n",
    "# If you want to work with the JSON response:\n",
    "# json_data = response.json()\n",
    "# print(json_data)\n"
   ]
  },
  {
   "cell_type": "markdown",
   "id": "ce559281-2451-4c80-9314-a12823695fd9",
   "metadata": {},
   "source": [
    "# Delete"
   ]
  },
  {
   "cell_type": "code",
   "execution_count": 33,
   "id": "d06814c8-7669-4d6e-87d3-3016d2d6d7e7",
   "metadata": {},
   "outputs": [
    {
     "name": "stdout",
     "output_type": "stream",
     "text": [
      "Successfully deleted todo\n"
     ]
    }
   ],
   "source": [
    "import requests\n",
    "todo = 'dubu'\n",
    "url = f'http://127.0.0.1:8000/api/todo/{todo}'\n",
    "headers = {'accept': 'application/json'}\n",
    "\n",
    "response = requests.delete(url, headers=headers)\n",
    "\n",
    "# Print the response content\n",
    "print(response.json())\n",
    "\n",
    "# If you want to work with the JSON response:\n",
    "# json_data = response.json()\n",
    "# print(json_data)\n"
   ]
  },
  {
   "cell_type": "code",
   "execution_count": null,
   "id": "e38bb7c6-2445-4936-bbbd-cc3e00472727",
   "metadata": {},
   "outputs": [],
   "source": []
  }
 ],
 "metadata": {
  "kernelspec": {
   "display_name": "Python 3 (ipykernel)",
   "language": "python",
   "name": "python3"
  },
  "language_info": {
   "codemirror_mode": {
    "name": "ipython",
    "version": 3
   },
   "file_extension": ".py",
   "mimetype": "text/x-python",
   "name": "python",
   "nbconvert_exporter": "python",
   "pygments_lexer": "ipython3",
   "version": "3.10.5"
  }
 },
 "nbformat": 4,
 "nbformat_minor": 5
}
